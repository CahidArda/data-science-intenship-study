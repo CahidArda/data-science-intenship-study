{
 "cells": [
  {
   "cell_type": "markdown",
   "source": [
    "# Using Fully Connected  NN to Make Predictions"
   ],
   "metadata": {}
  },
  {
   "cell_type": "code",
   "execution_count": 1,
   "source": [
    "import numpy as np\r\n",
    "import tensorflow as tf\r\n",
    "from tensorflow import keras\r\n",
    "from tensorflow.keras import layers"
   ],
   "outputs": [],
   "metadata": {}
  },
  {
   "cell_type": "markdown",
   "source": [
    "## Preprocessing Plan:\r\n",
    "* Use Functional API\r\n",
    "* Treat the categorical and numerical features differently.\r\n",
    "    * One-hot: Is_Weekday, Is_Weekend, is_ramazan, ramazan_in_7_days, is_kurban, kurban_in_7_days\r\n",
    "    * Embed  : Day_Index, curr_month_1_delta, curr_month_15_delta, next_month_1_delta\r\n",
    "    * Numerical (normalized): Rest\r\n",
    "    * Sources for Functional API:\r\n",
    "        * [How to slice an input in keras?](https://datascience.stackexchange.com/questions/86740/how-to-slice-an-input-in-keras)\r\n",
    "        * [Sequential API vs Functional API model in Keras](https://hanifi.medium.com/sequential-api-vs-functional-api-model-in-keras-266823d7cd5e)\r\n",
    "    "
   ],
   "metadata": {}
  },
  {
   "cell_type": "markdown",
   "source": [
    "### Is_Weekday, Is_Weekend, is_ramazan, ramazan_in_7_days, is_kurban, kurban_in_7_days\r\n",
    "No change, use directly as one-hot"
   ],
   "metadata": {}
  },
  {
   "cell_type": "code",
   "execution_count": 2,
   "source": [
    "one_hots = keras.layers.Input(shape=[6])"
   ],
   "outputs": [],
   "metadata": {}
  },
  {
   "cell_type": "markdown",
   "source": [
    "### Day_Index, curr_month_1_delta, curr_month_15_delta, next_month_1_delta\r\n",
    "* [Embedding](https://keras.io/api/layers/core_layers/embedding/): Embed the sparse index vector to dense index"
   ],
   "metadata": {}
  },
  {
   "cell_type": "code",
   "execution_count": 3,
   "source": [
    "features_to_embed    = keras.layers.Input(shape=[4])\r\n",
    "embeddeds            = keras.layers.Embedding(input_dim=4, output_dim=20)(features_to_embed)\r\n",
    "flattened_embeddeds  = keras.layers.Flatten(input_shape=[4, 20])(embeddeds)"
   ],
   "outputs": [],
   "metadata": {}
  },
  {
   "cell_type": "markdown",
   "source": [
    "### Numericals\r\n",
    "* [BatchNormalization layer](https://keras.io/api/layers/normalization_layers/batch_normalization/): Normalize each feature. Features are last values, trend and averages of CashIn and CashOut.\r\n"
   ],
   "metadata": {}
  },
  {
   "cell_type": "code",
   "execution_count": 4,
   "source": [
    "features_to_normalize = keras.layers.Input(shape=[60])\r\n",
    "normalized            = keras.layers.BatchNormalization()(features_to_normalize)"
   ],
   "outputs": [],
   "metadata": {}
  },
  {
   "cell_type": "markdown",
   "source": [
    "### Concatenating All Paths Together"
   ],
   "metadata": {}
  },
  {
   "cell_type": "code",
   "execution_count": 6,
   "source": [
    "preprocessed = keras.layers.Concatenate()([one_hots, flattened_embeddeds, normalized])"
   ],
   "outputs": [],
   "metadata": {}
  },
  {
   "cell_type": "markdown",
   "source": [
    "Draw the model so far:"
   ],
   "metadata": {}
  },
  {
   "cell_type": "code",
   "execution_count": 7,
   "source": [
    "preprocessing_model = keras.Model(inputs=[one_hots, features_to_embed, features_to_normalize], outputs=[preprocessed] )\r\n",
    "#from tensorflow.keras.utils import plot_model\r\n",
    "#plot_model(preprocessing_model, show_shapes=True, show_layer_names=True)\r\n",
    "preprocessing_model.summary()"
   ],
   "outputs": [
    {
     "output_type": "stream",
     "name": "stdout",
     "text": [
      "Model: \"functional_1\"\n",
      "__________________________________________________________________________________________________\n",
      "Layer (type)                    Output Shape         Param #     Connected to                     \n",
      "==================================================================================================\n",
      "input_2 (InputLayer)            [(None, 4)]          0                                            \n",
      "__________________________________________________________________________________________________\n",
      "embedding (Embedding)           (None, 4, 20)        80          input_2[0][0]                    \n",
      "__________________________________________________________________________________________________\n",
      "input_3 (InputLayer)            [(None, 60)]         0                                            \n",
      "__________________________________________________________________________________________________\n",
      "input_1 (InputLayer)            [(None, 6)]          0                                            \n",
      "__________________________________________________________________________________________________\n",
      "flatten (Flatten)               (None, 80)           0           embedding[0][0]                  \n",
      "__________________________________________________________________________________________________\n",
      "batch_normalization (BatchNorma (None, 60)           240         input_3[0][0]                    \n",
      "__________________________________________________________________________________________________\n",
      "concatenate (Concatenate)       (None, 146)          0           input_1[0][0]                    \n",
      "                                                                 flatten[0][0]                    \n",
      "                                                                 batch_normalization[0][0]        \n",
      "==================================================================================================\n",
      "Total params: 320\n",
      "Trainable params: 200\n",
      "Non-trainable params: 120\n",
      "__________________________________________________________________________________________________\n"
     ]
    }
   ],
   "metadata": {}
  },
  {
   "cell_type": "markdown",
   "source": [
    "## Rest of The Model"
   ],
   "metadata": {}
  },
  {
   "cell_type": "markdown",
   "source": [
    "## Arranging Data"
   ],
   "metadata": {}
  },
  {
   "cell_type": "markdown",
   "source": [],
   "metadata": {}
  }
 ],
 "metadata": {
  "orig_nbformat": 4,
  "language_info": {
   "name": "python"
  }
 },
 "nbformat": 4,
 "nbformat_minor": 2
}