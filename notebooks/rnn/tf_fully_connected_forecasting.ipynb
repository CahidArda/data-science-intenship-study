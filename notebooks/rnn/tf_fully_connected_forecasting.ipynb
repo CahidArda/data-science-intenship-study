{
 "cells": [
  {
   "cell_type": "markdown",
   "source": [
    "# Using Fully Connected  NN to Make Predictions"
   ],
   "metadata": {}
  },
  {
   "cell_type": "code",
   "execution_count": 1,
   "source": [
    "import matplotlib.pyplot as plt\r\n",
    "\r\n",
    "sys.path.append(r'../atm_demand')\r\n",
    "from feature_generation import *\r\n",
    "\r\n",
    "from sklearn.model_selection import train_test_split\r\n",
    "\r\n",
    "import numpy as np\r\n",
    "import tensorflow as tf\r\n",
    "from tensorflow import keras\r\n",
    "from tensorflow.keras import layers"
   ],
   "outputs": [],
   "metadata": {}
  },
  {
   "cell_type": "markdown",
   "source": [
    "## Preprocessing Plan:\r\n",
    "* Use Functional API\r\n",
    "* Treat the categorical and numerical features differently.\r\n",
    "    * One-hot: Is_Weekday, Is_Weekend, is_ramazan, ramazan_in_7_days, is_kurban, kurban_in_7_days\r\n",
    "    * Embed  : Day_Index, curr_month_1_delta, curr_month_15_delta, next_month_1_delta\r\n",
    "    * Numerical (normalized): Rest\r\n",
    "    * Sources for Functional API:\r\n",
    "        * [How to slice an input in keras?](https://datascience.stackexchange.com/questions/86740/how-to-slice-an-input-in-keras)\r\n",
    "        * [Sequential API vs Functional API model in Keras](https://hanifi.medium.com/sequential-api-vs-functional-api-model-in-keras-266823d7cd5e)\r\n",
    "    "
   ],
   "metadata": {}
  },
  {
   "cell_type": "markdown",
   "source": [
    "### Is_Weekday, Is_Weekend, is_ramazan, ramazan_in_7_days, is_kurban, kurban_in_7_days\r\n",
    "No change, use directly as one-hot"
   ],
   "metadata": {}
  },
  {
   "cell_type": "code",
   "execution_count": 2,
   "source": [
    "one_hots = layers.Input(shape=[6])"
   ],
   "outputs": [],
   "metadata": {}
  },
  {
   "cell_type": "markdown",
   "source": [
    "### Day_Index, next_month_1_delta\r\n",
    "* [CategoryEncoding](https://keras.io/api/layers/preprocessing_layers/categorical/category_encoding/): Convert to one hot formation\r\n",
    "* [Embedding](https://keras.io/api/layers/core_layers/embedding/): Embed the sparse index vector to dense index"
   ],
   "metadata": {}
  },
  {
   "cell_type": "code",
   "execution_count": 3,
   "source": [
    "day_index_feature  = layers.Input(shape=[1])\r\n",
    "day_index_embedded = layers.Embedding(input_dim=7, output_dim=10)(day_index_feature)\r\n",
    "\r\n",
    "delta_feature  = layers.Input(shape=[1])\r\n",
    "delta_embedded = layers.Embedding(input_dim=31, output_dim=50)(delta_feature)\r\n",
    "\r\n",
    "embeddeds = layers.Concatenate()([day_index_embedded, delta_embedded])\r\n",
    "embeddeds_flat = layers.Flatten()(embeddeds)\r\n"
   ],
   "outputs": [],
   "metadata": {}
  },
  {
   "cell_type": "markdown",
   "source": [
    "### Numericals\r\n",
    "* [BatchNormalization layer](https://keras.io/api/layers/normalization_layers/batch_normalization/): Normalize each feature. Features are last values, trend and averages of CashIn and CashOut.\r\n"
   ],
   "metadata": {}
  },
  {
   "cell_type": "code",
   "execution_count": 4,
   "source": [
    "features_to_normalize = layers.Input(shape=[60])\r\n",
    "normalized            = layers.BatchNormalization()(features_to_normalize)"
   ],
   "outputs": [],
   "metadata": {}
  },
  {
   "cell_type": "markdown",
   "source": [
    "### Concatenating All Paths Together"
   ],
   "metadata": {}
  },
  {
   "cell_type": "code",
   "execution_count": 5,
   "source": [
    "preprocessed = layers.Concatenate()([one_hots, embeddeds_flat, normalized])"
   ],
   "outputs": [],
   "metadata": {}
  },
  {
   "cell_type": "markdown",
   "source": [
    "Draw the model so far:"
   ],
   "metadata": {}
  },
  {
   "cell_type": "code",
   "execution_count": 6,
   "source": [
    "preprocessing_model = keras.Model(inputs=[one_hots, day_index_feature, delta_feature, features_to_normalize], outputs=[preprocessed] )\r\n",
    "#from tensorflow.keras.utils import plot_model\r\n",
    "#plot_model(preprocessing_model, show_shapes=True, show_layer_names=True)\r\n",
    "preprocessing_model.summary()"
   ],
   "outputs": [
    {
     "output_type": "stream",
     "name": "stdout",
     "text": [
      "Model: \"functional_1\"\n",
      "__________________________________________________________________________________________________\n",
      "Layer (type)                    Output Shape         Param #     Connected to                     \n",
      "==================================================================================================\n",
      "input_2 (InputLayer)            [(None, 1)]          0                                            \n",
      "__________________________________________________________________________________________________\n",
      "input_3 (InputLayer)            [(None, 1)]          0                                            \n",
      "__________________________________________________________________________________________________\n",
      "embedding (Embedding)           (None, 1, 10)        70          input_2[0][0]                    \n",
      "__________________________________________________________________________________________________\n",
      "embedding_1 (Embedding)         (None, 1, 50)        1550        input_3[0][0]                    \n",
      "__________________________________________________________________________________________________\n",
      "concatenate (Concatenate)       (None, 1, 60)        0           embedding[0][0]                  \n",
      "                                                                 embedding_1[0][0]                \n",
      "__________________________________________________________________________________________________\n",
      "input_4 (InputLayer)            [(None, 60)]         0                                            \n",
      "__________________________________________________________________________________________________\n",
      "input_1 (InputLayer)            [(None, 6)]          0                                            \n",
      "__________________________________________________________________________________________________\n",
      "flatten (Flatten)               (None, 60)           0           concatenate[0][0]                \n",
      "__________________________________________________________________________________________________\n",
      "batch_normalization (BatchNorma (None, 60)           240         input_4[0][0]                    \n",
      "__________________________________________________________________________________________________\n",
      "concatenate_1 (Concatenate)     (None, 126)          0           input_1[0][0]                    \n",
      "                                                                 flatten[0][0]                    \n",
      "                                                                 batch_normalization[0][0]        \n",
      "==================================================================================================\n",
      "Total params: 1,860\n",
      "Trainable params: 1,740\n",
      "Non-trainable params: 120\n",
      "__________________________________________________________________________________________________\n"
     ]
    }
   ],
   "metadata": {}
  },
  {
   "cell_type": "markdown",
   "source": [
    "## Rest of The Model"
   ],
   "metadata": {}
  },
  {
   "cell_type": "code",
   "execution_count": 7,
   "source": [
    "dense1 = layers.Dense(128, activation='relu')(preprocessed)\r\n",
    "dense2 = layers.Dense(32, activation='relu')(dense1)\r\n",
    "dense3 = layers.Dense(16, activation='relu')(dense2)\r\n",
    "nn_output = layers.Dense(1)(dense3)"
   ],
   "outputs": [],
   "metadata": {}
  },
  {
   "cell_type": "code",
   "execution_count": 8,
   "source": [
    "nn_model = keras.Model(inputs=[one_hots, day_index_feature, delta_feature, features_to_normalize], outputs=[nn_output] )\r\n",
    "nn_model.summary()"
   ],
   "outputs": [
    {
     "output_type": "stream",
     "name": "stdout",
     "text": [
      "Model: \"functional_3\"\n",
      "__________________________________________________________________________________________________\n",
      "Layer (type)                    Output Shape         Param #     Connected to                     \n",
      "==================================================================================================\n",
      "input_2 (InputLayer)            [(None, 1)]          0                                            \n",
      "__________________________________________________________________________________________________\n",
      "input_3 (InputLayer)            [(None, 1)]          0                                            \n",
      "__________________________________________________________________________________________________\n",
      "embedding (Embedding)           (None, 1, 10)        70          input_2[0][0]                    \n",
      "__________________________________________________________________________________________________\n",
      "embedding_1 (Embedding)         (None, 1, 50)        1550        input_3[0][0]                    \n",
      "__________________________________________________________________________________________________\n",
      "concatenate (Concatenate)       (None, 1, 60)        0           embedding[0][0]                  \n",
      "                                                                 embedding_1[0][0]                \n",
      "__________________________________________________________________________________________________\n",
      "input_4 (InputLayer)            [(None, 60)]         0                                            \n",
      "__________________________________________________________________________________________________\n",
      "input_1 (InputLayer)            [(None, 6)]          0                                            \n",
      "__________________________________________________________________________________________________\n",
      "flatten (Flatten)               (None, 60)           0           concatenate[0][0]                \n",
      "__________________________________________________________________________________________________\n",
      "batch_normalization (BatchNorma (None, 60)           240         input_4[0][0]                    \n",
      "__________________________________________________________________________________________________\n",
      "concatenate_1 (Concatenate)     (None, 126)          0           input_1[0][0]                    \n",
      "                                                                 flatten[0][0]                    \n",
      "                                                                 batch_normalization[0][0]        \n",
      "__________________________________________________________________________________________________\n",
      "dense (Dense)                   (None, 128)          16256       concatenate_1[0][0]              \n",
      "__________________________________________________________________________________________________\n",
      "dense_1 (Dense)                 (None, 32)           4128        dense[0][0]                      \n",
      "__________________________________________________________________________________________________\n",
      "dense_2 (Dense)                 (None, 16)           528         dense_1[0][0]                    \n",
      "__________________________________________________________________________________________________\n",
      "dense_3 (Dense)                 (None, 1)            17          dense_2[0][0]                    \n",
      "==================================================================================================\n",
      "Total params: 22,789\n",
      "Trainable params: 22,669\n",
      "Non-trainable params: 120\n",
      "__________________________________________________________________________________________________\n"
     ]
    }
   ],
   "metadata": {}
  },
  {
   "cell_type": "code",
   "execution_count": 9,
   "source": [
    "nn_model.compile(\r\n",
    "    optimizer=tf.optimizers.Adam(learning_rate=0.1),\r\n",
    "    loss='mape')"
   ],
   "outputs": [],
   "metadata": {}
  },
  {
   "cell_type": "markdown",
   "source": [
    "## Arranging Data"
   ],
   "metadata": {}
  },
  {
   "cell_type": "code",
   "execution_count": 10,
   "source": [
    "df = pd.read_csv(\"../atm_demand/DATA_sample_atm.csv\")\r\n",
    "targets = ['CashIn', 'CashOut']\r\n",
    "atm_df = get_atm(df, 26637)\r\n",
    "atm_df = atm_df[:-135]\r\n",
    "atm_df = clean_data(atm_df, drop_zeros=True)\r\n",
    "feature_set = get_feature_sets(atm_df, ['CashIn', 'CashOut'])"
   ],
   "outputs": [],
   "metadata": {}
  },
  {
   "cell_type": "code",
   "execution_count": 11,
   "source": [
    "feature_set.columns"
   ],
   "outputs": [
    {
     "output_type": "execute_result",
     "data": {
      "text/plain": [
       "Index(['CashIn', 'CashOut', 'Day_Index', 'Day_0', 'Day_1', 'Day_2', 'Day_3',\n",
       "       'Day_4', 'Day_5', 'Day_6', 'Is_Weekday', 'Is_Weekend',\n",
       "       'CashIn_average_7', 'CashIn_average_30', 'CashOut_average_7',\n",
       "       'CashOut_average_30', 'curr_month_1_delta', 'curr_month_15_delta',\n",
       "       'next_month_1_delta', 'CashIn_trend_7', 'CashOut_trend_7', 'is_ramazan',\n",
       "       'ramazan_in_7_days', 'is_kurban', 'kurban_in_7_days', 'CashIn_t-1',\n",
       "       'CashIn_t-2', 'CashIn_t-3', 'CashIn_t-4', 'CashIn_t-5', 'CashIn_t-6',\n",
       "       'CashIn_t-7', 'CashIn_t-8', 'CashIn_t-9', 'CashIn_t-10', 'CashIn_t-11',\n",
       "       'CashIn_t-12', 'CashIn_t-13', 'CashIn_t-14', 'CashOut_t-1',\n",
       "       'CashOut_t-2', 'CashOut_t-3', 'CashOut_t-4', 'CashOut_t-5',\n",
       "       'CashOut_t-6', 'CashOut_t-7', 'CashOut_t-8', 'CashOut_t-9',\n",
       "       'CashOut_t-10', 'CashOut_t-11', 'CashOut_t-12', 'CashOut_t-13',\n",
       "       'CashOut_t-14', 'CashOut_t-15', 'CashOut_t-16', 'CashOut_t-17',\n",
       "       'CashOut_t-18', 'CashOut_t-19', 'CashOut_t-20', 'CashOut_t-21',\n",
       "       'CashOut_t-22', 'CashOut_t-23', 'CashOut_t-24', 'CashOut_t-25',\n",
       "       'CashOut_t-26', 'CashOut_t-27', 'CashOut_t-28', 'CashOut_t-29',\n",
       "       'CashOut_t-30', 'CashOut_t-31', 'CashOut_t-32', 'CashOut_t-33',\n",
       "       'CashOut_t-34', 'CashOut_t-35', 'CashOut_t-36', 'CashOut_t-37',\n",
       "       'CashOut_t-38', 'CashOut_t-39', 'CashOut_t-40'],\n",
       "      dtype='object')"
      ]
     },
     "metadata": {},
     "execution_count": 11
    }
   ],
   "metadata": {}
  },
  {
   "cell_type": "code",
   "execution_count": 12,
   "source": [
    "def get_input_sets(df):\r\n",
    "    one_hot_features    = df['Is_Weekday, Is_Weekend, is_ramazan, ramazan_in_7_days, is_kurban, kurban_in_7_days'.split(', ')].astype('float32')\r\n",
    "    day_index           = df['Day_Index']\r\n",
    "    delta               = df['next_month_1_delta'] - 1\r\n",
    "    normalized_features = df[['CashIn_trend_7', 'CashOut_trend_7', 'CashIn_t-1',\r\n",
    "    'CashIn_t-2', 'CashIn_t-3', 'CashIn_t-4', 'CashIn_t-5', 'CashIn_t-6',\r\n",
    "    'CashIn_t-7', 'CashIn_t-8', 'CashIn_t-9', 'CashIn_t-10', 'CashIn_t-11',\r\n",
    "    'CashIn_t-12', 'CashIn_t-13', 'CashIn_t-14', 'CashOut_t-1',\r\n",
    "    'CashOut_t-2', 'CashOut_t-3', 'CashOut_t-4', 'CashOut_t-5',\r\n",
    "    'CashOut_t-6', 'CashOut_t-7', 'CashOut_t-8', 'CashOut_t-9',\r\n",
    "    'CashOut_t-10', 'CashOut_t-11', 'CashOut_t-12', 'CashOut_t-13',\r\n",
    "    'CashOut_t-14', 'CashOut_t-15', 'CashOut_t-16', 'CashOut_t-17',\r\n",
    "    'CashOut_t-18', 'CashOut_t-19', 'CashOut_t-20', 'CashOut_t-21',\r\n",
    "    'CashOut_t-22', 'CashOut_t-23', 'CashOut_t-24', 'CashOut_t-25',\r\n",
    "    'CashOut_t-26', 'CashOut_t-27', 'CashOut_t-28', 'CashOut_t-29',\r\n",
    "    'CashOut_t-30', 'CashOut_t-31', 'CashOut_t-32', 'CashOut_t-33',\r\n",
    "    'CashOut_t-34', 'CashOut_t-35', 'CashOut_t-36', 'CashOut_t-37',\r\n",
    "    'CashOut_t-38', 'CashOut_t-39', 'CashOut_t-40', 'CashIn_average_7',\r\n",
    "    'CashIn_average_30', 'CashOut_average_7', 'CashOut_average_30']].astype('float32')\r\n",
    "\r\n",
    "    return [one_hot_features, day_index, delta, normalized_features]"
   ],
   "outputs": [],
   "metadata": {}
  },
  {
   "cell_type": "code",
   "execution_count": 13,
   "source": [
    "TARGET = 'CashIn'\r\n",
    "X_train, X_test, y_train, y_test = train_test_split(feature_set[feature_set.columns[2:]], feature_set[TARGET], shuffle = False)"
   ],
   "outputs": [],
   "metadata": {}
  },
  {
   "cell_type": "code",
   "execution_count": 14,
   "source": [
    "train_inputs = get_input_sets(X_train)\r\n",
    "test_inputs  = get_input_sets(X_test)"
   ],
   "outputs": [],
   "metadata": {}
  },
  {
   "cell_type": "markdown",
   "source": [
    "## Training"
   ],
   "metadata": {}
  },
  {
   "cell_type": "code",
   "execution_count": 18,
   "source": [
    "history = nn_model.fit(train_inputs, \r\n",
    "            y_train,\r\n",
    "            batch_size=32,\r\n",
    "            epochs=100,\r\n",
    "            validation_data=(test_inputs, y_test),\r\n",
    "            verbose = 1)"
   ],
   "outputs": [
    {
     "output_type": "stream",
     "name": "stdout",
     "text": [
      "Epoch 1/100\n",
      "34/34 [==============================] - 0s 4ms/step - loss: 42.3283 - val_loss: 43.1908\n",
      "Epoch 2/100\n",
      "34/34 [==============================] - 0s 2ms/step - loss: 40.4291 - val_loss: 43.7456\n",
      "Epoch 3/100\n",
      "34/34 [==============================] - 0s 2ms/step - loss: 40.1409 - val_loss: 52.4650\n",
      "Epoch 4/100\n",
      "34/34 [==============================] - 0s 2ms/step - loss: 39.5864 - val_loss: 40.3277\n",
      "Epoch 5/100\n",
      "34/34 [==============================] - 0s 2ms/step - loss: 37.4565 - val_loss: 42.7047\n",
      "Epoch 6/100\n",
      "34/34 [==============================] - 0s 2ms/step - loss: 37.0898 - val_loss: 44.3852\n",
      "Epoch 7/100\n",
      "34/34 [==============================] - 0s 2ms/step - loss: 37.7247 - val_loss: 42.9340\n",
      "Epoch 8/100\n",
      "34/34 [==============================] - 0s 2ms/step - loss: 36.0661 - val_loss: 41.1999\n",
      "Epoch 9/100\n",
      "34/34 [==============================] - 0s 2ms/step - loss: 36.0036 - val_loss: 40.6863\n",
      "Epoch 10/100\n",
      "34/34 [==============================] - 0s 2ms/step - loss: 34.2789 - val_loss: 41.0204\n",
      "Epoch 11/100\n",
      "34/34 [==============================] - 0s 2ms/step - loss: 34.6945 - val_loss: 45.7056\n",
      "Epoch 12/100\n",
      "34/34 [==============================] - 0s 2ms/step - loss: 34.4649 - val_loss: 42.8542\n",
      "Epoch 13/100\n",
      "34/34 [==============================] - 0s 2ms/step - loss: 35.1982 - val_loss: 43.8192\n",
      "Epoch 14/100\n",
      "34/34 [==============================] - 0s 2ms/step - loss: 33.4163 - val_loss: 43.2246\n",
      "Epoch 15/100\n",
      "34/34 [==============================] - 0s 2ms/step - loss: 32.5708 - val_loss: 43.5086\n",
      "Epoch 16/100\n",
      "34/34 [==============================] - 0s 2ms/step - loss: 32.4055 - val_loss: 44.5084\n",
      "Epoch 17/100\n",
      "34/34 [==============================] - 0s 2ms/step - loss: 31.6258 - val_loss: 51.2347\n",
      "Epoch 18/100\n",
      "34/34 [==============================] - 0s 2ms/step - loss: 32.3622 - val_loss: 51.9316\n",
      "Epoch 19/100\n",
      "34/34 [==============================] - 0s 2ms/step - loss: 31.2306 - val_loss: 52.1504\n",
      "Epoch 20/100\n",
      "34/34 [==============================] - 0s 2ms/step - loss: 33.5161 - val_loss: 55.1679\n",
      "Epoch 21/100\n",
      "34/34 [==============================] - 0s 2ms/step - loss: 29.8593 - val_loss: 47.3343\n",
      "Epoch 22/100\n",
      "34/34 [==============================] - 0s 2ms/step - loss: 31.2661 - val_loss: 42.4994\n",
      "Epoch 23/100\n",
      "34/34 [==============================] - 0s 2ms/step - loss: 29.3103 - val_loss: 44.4430\n",
      "Epoch 24/100\n",
      "34/34 [==============================] - 0s 2ms/step - loss: 29.1503 - val_loss: 48.5981\n",
      "Epoch 25/100\n",
      "34/34 [==============================] - 0s 2ms/step - loss: 28.8266 - val_loss: 46.0680\n",
      "Epoch 26/100\n",
      "34/34 [==============================] - 0s 2ms/step - loss: 28.2209 - val_loss: 50.1113\n",
      "Epoch 27/100\n",
      "34/34 [==============================] - 0s 2ms/step - loss: 28.6910 - val_loss: 40.4098\n",
      "Epoch 28/100\n",
      "34/34 [==============================] - 0s 2ms/step - loss: 28.3574 - val_loss: 49.5932\n",
      "Epoch 29/100\n",
      "34/34 [==============================] - 0s 2ms/step - loss: 29.1075 - val_loss: 50.9227\n",
      "Epoch 30/100\n",
      "34/34 [==============================] - 0s 2ms/step - loss: 29.7000 - val_loss: 48.1410\n",
      "Epoch 31/100\n",
      "34/34 [==============================] - 0s 4ms/step - loss: 43.4046 - val_loss: 46.5214\n",
      "Epoch 32/100\n",
      "34/34 [==============================] - 0s 2ms/step - loss: 28.0735 - val_loss: 43.3052\n",
      "Epoch 33/100\n",
      "34/34 [==============================] - 0s 2ms/step - loss: 31.6755 - val_loss: 50.8944\n",
      "Epoch 34/100\n",
      "34/34 [==============================] - 0s 2ms/step - loss: 26.9644 - val_loss: 48.3428\n",
      "Epoch 35/100\n",
      "34/34 [==============================] - 0s 2ms/step - loss: 25.3253 - val_loss: 48.5558\n",
      "Epoch 36/100\n",
      "34/34 [==============================] - 0s 2ms/step - loss: 24.9437 - val_loss: 42.2883\n",
      "Epoch 37/100\n",
      "34/34 [==============================] - 0s 2ms/step - loss: 25.3156 - val_loss: 46.3126\n",
      "Epoch 38/100\n",
      "34/34 [==============================] - 0s 2ms/step - loss: 26.5676 - val_loss: 48.2538\n",
      "Epoch 39/100\n",
      "34/34 [==============================] - 0s 2ms/step - loss: 24.9893 - val_loss: 43.0890\n",
      "Epoch 40/100\n",
      "34/34 [==============================] - 0s 2ms/step - loss: 24.6415 - val_loss: 47.9939\n",
      "Epoch 41/100\n",
      "34/34 [==============================] - 0s 2ms/step - loss: 23.0909 - val_loss: 49.3086\n",
      "Epoch 42/100\n",
      "34/34 [==============================] - 0s 2ms/step - loss: 24.4242 - val_loss: 41.8155\n",
      "Epoch 43/100\n",
      "34/34 [==============================] - 0s 2ms/step - loss: 25.6200 - val_loss: 53.7074\n",
      "Epoch 44/100\n",
      "34/34 [==============================] - 0s 2ms/step - loss: 24.1994 - val_loss: 46.8454\n",
      "Epoch 45/100\n",
      "34/34 [==============================] - 0s 2ms/step - loss: 23.2427 - val_loss: 46.9650\n",
      "Epoch 46/100\n",
      "34/34 [==============================] - 0s 2ms/step - loss: 22.3955 - val_loss: 49.0069\n",
      "Epoch 47/100\n",
      "34/34 [==============================] - 0s 2ms/step - loss: 21.8832 - val_loss: 45.7545\n",
      "Epoch 48/100\n",
      "34/34 [==============================] - 0s 2ms/step - loss: 24.2549 - val_loss: 44.1316\n",
      "Epoch 49/100\n",
      "34/34 [==============================] - 0s 2ms/step - loss: 23.2582 - val_loss: 45.8399\n",
      "Epoch 50/100\n",
      "34/34 [==============================] - 0s 2ms/step - loss: 22.4417 - val_loss: 47.2867\n",
      "Epoch 51/100\n",
      "34/34 [==============================] - 0s 2ms/step - loss: 21.4468 - val_loss: 51.9528\n",
      "Epoch 52/100\n",
      "34/34 [==============================] - 0s 2ms/step - loss: 21.1070 - val_loss: 47.2057\n",
      "Epoch 53/100\n",
      "34/34 [==============================] - 0s 2ms/step - loss: 20.6203 - val_loss: 49.0127\n",
      "Epoch 54/100\n",
      "34/34 [==============================] - 0s 2ms/step - loss: 25.5695 - val_loss: 61.4051\n",
      "Epoch 55/100\n",
      "34/34 [==============================] - 0s 2ms/step - loss: 25.0925 - val_loss: 42.3084\n",
      "Epoch 56/100\n",
      "34/34 [==============================] - 0s 2ms/step - loss: 23.0388 - val_loss: 50.0340\n",
      "Epoch 57/100\n",
      "34/34 [==============================] - 0s 2ms/step - loss: 21.4086 - val_loss: 50.3842\n",
      "Epoch 58/100\n",
      "34/34 [==============================] - 0s 2ms/step - loss: 21.5539 - val_loss: 49.0206\n",
      "Epoch 59/100\n",
      "34/34 [==============================] - 0s 2ms/step - loss: 23.3291 - val_loss: 46.0680\n",
      "Epoch 60/100\n",
      "34/34 [==============================] - 0s 2ms/step - loss: 21.1181 - val_loss: 49.7669\n",
      "Epoch 61/100\n",
      "34/34 [==============================] - 0s 2ms/step - loss: 20.8582 - val_loss: 46.6138\n",
      "Epoch 62/100\n",
      "34/34 [==============================] - 0s 2ms/step - loss: 20.1814 - val_loss: 46.0120\n",
      "Epoch 63/100\n",
      "34/34 [==============================] - 0s 2ms/step - loss: 18.5208 - val_loss: 61.2959\n",
      "Epoch 64/100\n",
      "34/34 [==============================] - 0s 2ms/step - loss: 19.4646 - val_loss: 52.6190\n",
      "Epoch 65/100\n",
      "34/34 [==============================] - 0s 2ms/step - loss: 18.7286 - val_loss: 53.6581\n",
      "Epoch 66/100\n",
      "34/34 [==============================] - 0s 2ms/step - loss: 19.6186 - val_loss: 56.5060\n",
      "Epoch 67/100\n",
      "34/34 [==============================] - 0s 2ms/step - loss: 20.3189 - val_loss: 44.2402\n",
      "Epoch 68/100\n",
      "34/34 [==============================] - 0s 2ms/step - loss: 19.7352 - val_loss: 55.9659\n",
      "Epoch 69/100\n",
      "34/34 [==============================] - 0s 2ms/step - loss: 19.7193 - val_loss: 53.7794\n",
      "Epoch 70/100\n",
      "34/34 [==============================] - 0s 2ms/step - loss: 21.4459 - val_loss: 58.9401\n",
      "Epoch 71/100\n",
      "34/34 [==============================] - 0s 2ms/step - loss: 18.1560 - val_loss: 53.0462\n",
      "Epoch 72/100\n",
      "34/34 [==============================] - 0s 2ms/step - loss: 18.2914 - val_loss: 61.0907\n",
      "Epoch 73/100\n",
      "34/34 [==============================] - 0s 2ms/step - loss: 18.9955 - val_loss: 45.5816\n",
      "Epoch 74/100\n",
      "34/34 [==============================] - 0s 2ms/step - loss: 19.5458 - val_loss: 44.9859\n",
      "Epoch 75/100\n",
      "34/34 [==============================] - 0s 2ms/step - loss: 18.2758 - val_loss: 46.7329\n",
      "Epoch 76/100\n",
      "34/34 [==============================] - 0s 2ms/step - loss: 19.4875 - val_loss: 47.6253\n",
      "Epoch 77/100\n",
      "34/34 [==============================] - 0s 2ms/step - loss: 17.4991 - val_loss: 53.0289\n",
      "Epoch 78/100\n",
      "34/34 [==============================] - 0s 2ms/step - loss: 18.7222 - val_loss: 52.9763\n",
      "Epoch 79/100\n",
      "34/34 [==============================] - 0s 2ms/step - loss: 18.7532 - val_loss: 48.8808\n",
      "Epoch 80/100\n",
      "34/34 [==============================] - 0s 2ms/step - loss: 18.4098 - val_loss: 51.4200\n",
      "Epoch 81/100\n",
      "34/34 [==============================] - 0s 2ms/step - loss: 17.1783 - val_loss: 52.2713\n",
      "Epoch 82/100\n",
      "34/34 [==============================] - 0s 2ms/step - loss: 16.9186 - val_loss: 54.5023\n",
      "Epoch 83/100\n",
      "34/34 [==============================] - 0s 2ms/step - loss: 17.5150 - val_loss: 52.7589\n",
      "Epoch 84/100\n",
      "34/34 [==============================] - 0s 2ms/step - loss: 16.2142 - val_loss: 54.7790\n",
      "Epoch 85/100\n",
      "34/34 [==============================] - 0s 2ms/step - loss: 17.0480 - val_loss: 51.0971\n",
      "Epoch 86/100\n",
      "34/34 [==============================] - 0s 2ms/step - loss: 18.6539 - val_loss: 47.6645\n",
      "Epoch 87/100\n",
      "34/34 [==============================] - 0s 2ms/step - loss: 16.6499 - val_loss: 50.0489\n",
      "Epoch 88/100\n",
      "34/34 [==============================] - 0s 2ms/step - loss: 16.6439 - val_loss: 61.2778\n",
      "Epoch 89/100\n",
      "34/34 [==============================] - 0s 2ms/step - loss: 17.1299 - val_loss: 67.7343\n",
      "Epoch 90/100\n",
      "34/34 [==============================] - 0s 2ms/step - loss: 19.1285 - val_loss: 53.9033\n",
      "Epoch 91/100\n",
      "34/34 [==============================] - 0s 2ms/step - loss: 17.1798 - val_loss: 51.1535\n",
      "Epoch 92/100\n",
      "34/34 [==============================] - 0s 2ms/step - loss: 16.8262 - val_loss: 57.3598\n",
      "Epoch 93/100\n",
      "34/34 [==============================] - 0s 2ms/step - loss: 16.7465 - val_loss: 56.9206\n",
      "Epoch 94/100\n",
      "34/34 [==============================] - 0s 2ms/step - loss: 15.6759 - val_loss: 49.3986\n",
      "Epoch 95/100\n",
      "34/34 [==============================] - 0s 2ms/step - loss: 15.8960 - val_loss: 51.6011\n",
      "Epoch 96/100\n",
      "34/34 [==============================] - 0s 2ms/step - loss: 16.4689 - val_loss: 55.4972\n",
      "Epoch 97/100\n",
      "34/34 [==============================] - 0s 2ms/step - loss: 15.0877 - val_loss: 55.5007\n",
      "Epoch 98/100\n",
      "34/34 [==============================] - 0s 2ms/step - loss: 17.0096 - val_loss: 46.5740\n",
      "Epoch 99/100\n",
      "34/34 [==============================] - 0s 4ms/step - loss: 15.6732 - val_loss: 51.9884\n",
      "Epoch 100/100\n",
      "34/34 [==============================] - 0s 2ms/step - loss: 15.4135 - val_loss: 49.6007\n"
     ]
    }
   ],
   "metadata": {}
  },
  {
   "cell_type": "code",
   "execution_count": 19,
   "source": [
    "def plot_history(history):\r\n",
    "    plt.figure(figsize=(10,4))\r\n",
    "    for key in history.history:\r\n",
    "        plt.plot(history.history[key], label = key)\r\n",
    "    plt.legend()\r\n",
    "    plt.show()"
   ],
   "outputs": [],
   "metadata": {}
  },
  {
   "cell_type": "code",
   "execution_count": 20,
   "source": [
    "plot_history(history)"
   ],
   "outputs": [
    {
     "output_type": "display_data",
     "data": {
      "text/plain": [
       "<Figure size 720x288 with 1 Axes>"
      ],
      "image/png": "[encoded data removed]"
     },
     "metadata": {
      "needs_background": "light"
     }
    }
   ],
   "metadata": {}
  },
  {
   "cell_type": "markdown",
   "source": [
    "### Comparing with Previous Methods\r\n",
    "\r\n",
    "| Model | Train Error | Test Error | All Set Error |\r\n",
    "| - | - | - | - |\r\n",
    "| Base | - | - | 78.8 |\r\n",
    "| Random Forest | 23.9 | 47.0 | - |\r\n",
    "| LGBM | - | 48.7 | - |\r\n",
    "| Custom RNN | - | - | 70.7 |\r\n",
    "| TF-Fully Connected | 15.1 | 40.3 | - |\r\n"
   ],
   "metadata": {}
  }
 ],
 "metadata": {
  "orig_nbformat": 4,
  "language_info": {
   "name": "python"
  }
 },
 "nbformat": 4,
 "nbformat_minor": 2
}