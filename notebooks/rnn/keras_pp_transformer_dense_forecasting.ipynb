{
 "cells": [
  {
   "cell_type": "markdown",
   "source": [
    "# Adding Transformers\r\n",
    "\r\n",
    "This model is an attempt to implement the [TabTransformer](https://github.com/lucidrains/tab-transformer-pytorch).\r\n",
    "\r\n",
    "I will develop the model in [keras_pp_dense_forecasting notebook](https://github.com/CahidArda/internship-study/blob/main/notebooks/rnn/keras_pp_dense_forecasting.ipynb)\r\n",
    "\r\n",
    "Here is the diagram of the model:\r\n",
    "\r\n",
    "<img src=\"imgs/modelDiagram.png\">\r\n"
   ],
   "metadata": {}
  },
  {
   "cell_type": "code",
   "execution_count": 1,
   "source": [
    "import matplotlib.pyplot as plt\r\n",
    "\r\n",
    "sys.path.append(r'../atm_demand')\r\n",
    "from feature_generation import *\r\n",
    "\r\n",
    "#from sklearn.model_selection import train_test_split\r\n",
    "\r\n",
    "import numpy as np\r\n",
    "import tensorflow as tf\r\n",
    "from tensorflow import keras\r\n",
    "from tensorflow.keras import layers"
   ],
   "outputs": [],
   "metadata": {}
  },
  {
   "cell_type": "markdown",
   "source": [
    "## Importing and Formatting Data"
   ],
   "metadata": {}
  },
  {
   "cell_type": "code",
   "execution_count": 2,
   "source": [
    "df = pd.read_csv(\"../atm_demand/DATA_sample_atm.csv\")\r\n",
    "targets = ['CashIn', 'CashOut']\r\n",
    "atm_df = get_atm(df, 26637)\r\n",
    "atm_df = atm_df[:-135]\r\n",
    "atm_df = clean_data(atm_df, drop_zeros=True)\r\n",
    "atm_feature_set = get_feature_sets(atm_df, ['CashIn', 'CashOut'])"
   ],
   "outputs": [],
   "metadata": {}
  },
  {
   "cell_type": "markdown",
   "source": [
    "dokümantasyon, google format\r\n",
    "farklı transformer implementation, \r\n",
    "attention is all you need\r\n",
    "unit testing"
   ],
   "metadata": {}
  },
  {
   "cell_type": "code",
   "execution_count": 3,
   "source": [
    "aggregate_df = df.groupby('HistoryDate').mean()\r\n",
    "aggregate_df = aggregate_df[:-135]\r\n",
    "aggregate_df = clean_data(aggregate_df, drop_zeros=True)\r\n",
    "aggregate_feature_set = get_feature_sets(aggregate_df, ['CashIn', 'CashOut'])"
   ],
   "outputs": [],
   "metadata": {}
  },
  {
   "cell_type": "code",
   "execution_count": 4,
   "source": [
    "atm_feature_set.columns"
   ],
   "outputs": [
    {
     "output_type": "execute_result",
     "data": {
      "text/plain": [
       "Index(['CashIn', 'CashOut', 'CashIn_average_7', 'CashIn_average_30',\n",
       "       'CashOut_average_7', 'CashOut_average_30', 'CashIn_trend_7',\n",
       "       'CashOut_trend_7', 'CashIn_t-1', 'CashIn_t-2', 'CashIn_t-3',\n",
       "       'CashIn_t-4', 'CashIn_t-5', 'CashIn_t-6', 'CashIn_t-7', 'CashIn_t-8',\n",
       "       'CashIn_t-9', 'CashIn_t-10', 'CashIn_t-11', 'CashIn_t-12',\n",
       "       'CashIn_t-13', 'CashIn_t-14', 'CashOut_t-1', 'CashOut_t-2',\n",
       "       'CashOut_t-3', 'CashOut_t-4', 'CashOut_t-5', 'CashOut_t-6',\n",
       "       'CashOut_t-7', 'CashOut_t-8', 'CashOut_t-9', 'CashOut_t-10',\n",
       "       'CashOut_t-11', 'CashOut_t-12', 'CashOut_t-13', 'CashOut_t-14',\n",
       "       'CashOut_t-15', 'CashOut_t-16', 'CashOut_t-17', 'CashOut_t-18',\n",
       "       'CashOut_t-19', 'CashOut_t-20', 'CashOut_t-21', 'CashOut_t-22',\n",
       "       'CashOut_t-23', 'CashOut_t-24', 'CashOut_t-25', 'CashOut_t-26',\n",
       "       'CashOut_t-27', 'CashOut_t-28', 'CashOut_t-29', 'CashOut_t-30',\n",
       "       'CashOut_t-31', 'CashOut_t-32', 'CashOut_t-33', 'CashOut_t-34',\n",
       "       'CashOut_t-35', 'CashOut_t-36', 'CashOut_t-37', 'CashOut_t-38',\n",
       "       'CashOut_t-39', 'CashOut_t-40', 'Day_of_the_Week_Index', 'Day_Index__0',\n",
       "       'Day_Index__1', 'Day_Index__2', 'Day_Index__3', 'Day_Index__4',\n",
       "       'Day_Index__5', 'Day_Index__6', 'Day_of_the_Month_Index',\n",
       "       'Week_of_the_Year_Index', 'Is_Weekday', 'Is_Weekend',\n",
       "       'curr_month_1_delta', 'curr_month_15_delta', 'next_month_1_delta',\n",
       "       'is_ramazan', 'ramazan_in_7_days', 'is_kurban', 'kurban_in_7_days',\n",
       "       'Special_Dates_Index'],\n",
       "      dtype='object')"
      ]
     },
     "metadata": {},
     "execution_count": 4
    }
   ],
   "metadata": {}
  },
  {
   "cell_type": "code",
   "execution_count": 5,
   "source": [
    "one_hots     = []\r\n",
    "categoricals = ['Day_of_the_Week_Index', 'Day_of_the_Month_Index', 'Week_of_the_Year_Index', 'Special_Dates_Index', 'Is_Weekday']\r\n",
    "numericals   = ['CashIn_average_7', 'CashIn_average_30',\r\n",
    "       'CashOut_average_7', 'CashOut_average_30', 'CashIn_trend_7',\r\n",
    "       'CashOut_trend_7', 'CashIn_t-1', 'CashIn_t-2', 'CashIn_t-3',\r\n",
    "       'CashIn_t-4', 'CashIn_t-5', 'CashIn_t-6', 'CashIn_t-7', 'CashIn_t-8',\r\n",
    "       'CashIn_t-9', 'CashIn_t-10', 'CashIn_t-11', 'CashIn_t-12',\r\n",
    "       'CashIn_t-13', 'CashIn_t-14', 'CashOut_t-1', 'CashOut_t-2',\r\n",
    "       'CashOut_t-3', 'CashOut_t-4', 'CashOut_t-5', 'CashOut_t-6',\r\n",
    "       'CashOut_t-7', 'CashOut_t-8', 'CashOut_t-9', 'CashOut_t-10',\r\n",
    "       'CashOut_t-11', 'CashOut_t-12', 'CashOut_t-13', 'CashOut_t-14',\r\n",
    "       'CashOut_t-15', 'CashOut_t-16', 'CashOut_t-17', 'CashOut_t-18',\r\n",
    "       'CashOut_t-19', 'CashOut_t-20', 'CashOut_t-21', 'CashOut_t-22',\r\n",
    "       'CashOut_t-23', 'CashOut_t-24', 'CashOut_t-25', 'CashOut_t-26',\r\n",
    "       'CashOut_t-27', 'CashOut_t-28', 'CashOut_t-29', 'CashOut_t-30',\r\n",
    "       'CashOut_t-31', 'CashOut_t-32', 'CashOut_t-33', 'CashOut_t-34',\r\n",
    "       'CashOut_t-35', 'CashOut_t-36', 'CashOut_t-37', 'CashOut_t-38',\r\n",
    "       'CashOut_t-39', 'CashOut_t-40']\r\n",
    "\r\n",
    "groups = [one_hots, numericals]\r\n",
    "groups.extend(categoricals)"
   ],
   "outputs": [],
   "metadata": {}
  },
  {
   "cell_type": "code",
   "execution_count": 6,
   "source": [
    "def train_test_split(X, y, split=0.2):\r\n",
    "    cut = int(X.shape[0] * split)\r\n",
    "    return X[:-cut], X[-cut:], y[:-cut], y[-cut:]\r\n",
    "\r\n",
    "def get_input_sets(df, groups):\r\n",
    "    result = []\r\n",
    "    for group in groups:\r\n",
    "        result.append(df[group])\r\n",
    "    return result"
   ],
   "outputs": [],
   "metadata": {}
  },
  {
   "cell_type": "code",
   "execution_count": 7,
   "source": [
    "TARGET = 'CashIn'\r\n",
    "X_train, X_test, y_train, y_test = train_test_split(atm_feature_set[atm_feature_set.columns[2:]], atm_feature_set[TARGET])\r\n",
    "\r\n",
    "train_inputs = get_input_sets(X_train, groups)\r\n",
    "test_inputs  = get_input_sets(X_test, groups)"
   ],
   "outputs": [],
   "metadata": {}
  },
  {
   "cell_type": "code",
   "execution_count": 8,
   "source": [
    "X_pretrain, X_pretest, y_pretrain, y_pretest = train_test_split(aggregate_feature_set[aggregate_feature_set.columns[2:]], aggregate_feature_set[TARGET])\r\n",
    "\r\n",
    "pretrain_inputs = get_input_sets(X_pretrain, groups)\r\n",
    "pretest_inputs  = get_input_sets(X_pretest, groups)"
   ],
   "outputs": [],
   "metadata": {}
  },
  {
   "cell_type": "markdown",
   "source": [
    "## Building the Model"
   ],
   "metadata": {}
  },
  {
   "cell_type": "markdown",
   "source": [
    "### Preprocessing"
   ],
   "metadata": {}
  },
  {
   "cell_type": "code",
   "execution_count": 9,
   "source": [
    "one_hot_inputs = layers.Input(shape=[len(one_hots)])\r\n",
    "\r\n",
    "numeric_inputs        = layers.Input(shape=[len(numericals)])\r\n",
    "numeric_inputs_normal = layers.LayerNormalization()(numeric_inputs)"
   ],
   "outputs": [],
   "metadata": {}
  },
  {
   "cell_type": "markdown",
   "source": [
    "### Categoricals"
   ],
   "metadata": {}
  },
  {
   "cell_type": "code",
   "execution_count": 10,
   "source": [
    "EMBED_DIM = 16\r\n",
    "\r\n",
    "categorical_inputs = []\r\n",
    "embedding_outputs  = []\r\n",
    "for size in [len(atm_feature_set[categorical].unique()) for categorical in categoricals]:\r\n",
    "    input_layer          = layers.Input(shape=[1])\r\n",
    "    input_layer_embedded = layers.Embedding(input_dim=size, output_dim=EMBED_DIM)(input_layer)\r\n",
    "    categorical_inputs.append(input_layer)\r\n",
    "    embedding_outputs.append(input_layer_embedded)\r\n",
    "\r\n",
    "embeddeds = layers.Concatenate(axis=1)(embedding_outputs)"
   ],
   "outputs": [],
   "metadata": {}
  },
  {
   "cell_type": "markdown",
   "source": [
    "### Transformer"
   ],
   "metadata": {}
  },
  {
   "cell_type": "code",
   "execution_count": 11,
   "source": [
    "class TransformerBlock(layers.Layer):\r\n",
    "    def __init__(self, embed_dim, num_heads, ff_dim, rate=0.1):\r\n",
    "        super(TransformerBlock, self).__init__()\r\n",
    "        # parametreleri\r\n",
    "        self.att = layers.MultiHeadAttention(num_heads=num_heads, key_dim=embed_dim)\r\n",
    "        self.ffn = keras.Sequential(\r\n",
    "            [layers.Dense(ff_dim, activation=\"relu\"), layers.Dense(embed_dim),]\r\n",
    "        )\r\n",
    "        # batch-layer\r\n",
    "        self.layernorm1 = layers.LayerNormalization(epsilon=1e-6)\r\n",
    "        self.layernorm2 = layers.LayerNormalization(epsilon=1e-6)\r\n",
    "        self.dropout1 = layers.Dropout(rate)\r\n",
    "        self.dropout2 = layers.Dropout(rate)\r\n",
    "\r\n",
    "    def call(self, inputs, training):\r\n",
    "        attn_output = self.att(inputs, inputs)\r\n",
    "        attn_output = self.dropout1(attn_output, training=training)\r\n",
    "        out1 = self.layernorm1(inputs + attn_output)\r\n",
    "        ffn_output = self.ffn(out1)\r\n",
    "        ffn_output = self.dropout2(ffn_output, training=training)\r\n",
    "        return self.layernorm2(out1 + ffn_output)"
   ],
   "outputs": [],
   "metadata": {}
  },
  {
   "cell_type": "code",
   "execution_count": 12,
   "source": [
    "HEADS   = 8\r\n",
    "DEPTH   = 6\r\n",
    "\r\n",
    "transformer = embeddeds\r\n",
    "for _ in range(DEPTH):\r\n",
    "    transformer = TransformerBlock(EMBED_DIM, HEADS, EMBED_DIM)(transformer)\r\n",
    "transformer_flat = layers.Flatten()(transformer)"
   ],
   "outputs": [],
   "metadata": {}
  },
  {
   "cell_type": "markdown",
   "source": [
    "### Concatenation"
   ],
   "metadata": {}
  },
  {
   "cell_type": "code",
   "execution_count": 13,
   "source": [
    "concatenated = layers.Concatenate()([one_hot_inputs, numeric_inputs_normal, transformer_flat])"
   ],
   "outputs": [],
   "metadata": {}
  },
  {
   "cell_type": "markdown",
   "source": [
    "### MLP"
   ],
   "metadata": {}
  },
  {
   "cell_type": "code",
   "execution_count": 14,
   "source": [
    "'''\r\n",
    "l = concatenated.shape[1] // 8\r\n",
    "\r\n",
    "MLP_HIDDEN_RATIOS = [4,2,2]\r\n",
    "ACTIVATIONS = ['relu', 'relu', 'selu']\r\n",
    "mlp_layer = concatenated\r\n",
    "for ratio, activation in zip(MLP_HIDDEN_RATIOS, ACTIVATIONS):\r\n",
    "    mlp_layer = layers.Dropout(0.1)(mlp_layer)\r\n",
    "    #mlp_layer = layers.LayerNormalization()(mlp_layer)\r\n",
    "    mlp_layer = layers.Dense(ratio * l, activation=activation)(mlp_layer)\r\n",
    "output_layer = layers.Dense(1)(mlp_layer)\r\n",
    "'''"
   ],
   "outputs": [
    {
     "output_type": "execute_result",
     "data": {
      "text/plain": [
       "\"\\nl = concatenated.shape[1] // 8\\n\\nMLP_HIDDEN_RATIOS = [4,2,2]\\nACTIVATIONS = ['relu', 'relu', 'selu']\\nmlp_layer = concatenated\\nfor ratio, activation in zip(MLP_HIDDEN_RATIOS, ACTIVATIONS):\\n    mlp_layer = layers.Dropout(0.1)(mlp_layer)\\n    #mlp_layer = layers.LayerNormalization()(mlp_layer)\\n    mlp_layer = layers.Dense(ratio * l, activation=activation)(mlp_layer)\\noutput_layer = layers.Dense(1)(mlp_layer)\\n\""
      ]
     },
     "metadata": {},
     "execution_count": 14
    }
   ],
   "metadata": {}
  },
  {
   "cell_type": "code",
   "execution_count": 15,
   "source": [
    "dropout1        = layers.Dropout(0.2)(concatenated)\r\n",
    "normalization1  = layers.LayerNormalization()(dropout1)\r\n",
    "dense1          = layers.Dense(128, activation='relu')(normalization1)\r\n",
    "dropout2        = layers.Dropout(0.2)(dense1)\r\n",
    "normalization2  = layers.LayerNormalization()(dropout2)\r\n",
    "dense2          = layers.Dense(32, activation='relu')(normalization2)\r\n",
    "dropout3        = layers.Dropout(0.2)(dense2)\r\n",
    "normalization3  = layers.LayerNormalization()(dropout3)\r\n",
    "dense3          = layers.Dense(16, activation='selu')(normalization3)\r\n",
    "exponential     = layers.Dense(16, activation='selu')(dense3)\r\n",
    "output_layer    = layers.Dense(1)(exponential)"
   ],
   "outputs": [],
   "metadata": {}
  },
  {
   "cell_type": "code",
   "execution_count": 16,
   "source": [
    "inputs = [one_hot_inputs, numeric_inputs]\r\n",
    "inputs.extend(categorical_inputs)\r\n",
    "model = keras.Model(inputs=inputs, outputs=[output_layer])"
   ],
   "outputs": [],
   "metadata": {}
  },
  {
   "cell_type": "markdown",
   "source": [
    "### Summary"
   ],
   "metadata": {}
  },
  {
   "cell_type": "code",
   "execution_count": 17,
   "source": [
    "model.summary()"
   ],
   "outputs": [
    {
     "output_type": "stream",
     "name": "stdout",
     "text": [
      "Model: \"model\"\n",
      "__________________________________________________________________________________________________\n",
      "Layer (type)                    Output Shape         Param #     Connected to                     \n",
      "==================================================================================================\n",
      "input_3 (InputLayer)            [(None, 1)]          0                                            \n",
      "__________________________________________________________________________________________________\n",
      "input_4 (InputLayer)            [(None, 1)]          0                                            \n",
      "__________________________________________________________________________________________________\n",
      "input_5 (InputLayer)            [(None, 1)]          0                                            \n",
      "__________________________________________________________________________________________________\n",
      "input_6 (InputLayer)            [(None, 1)]          0                                            \n",
      "__________________________________________________________________________________________________\n",
      "input_7 (InputLayer)            [(None, 1)]          0                                            \n",
      "__________________________________________________________________________________________________\n",
      "embedding (Embedding)           (None, 1, 16)        112         input_3[0][0]                    \n",
      "__________________________________________________________________________________________________\n",
      "embedding_1 (Embedding)         (None, 1, 16)        496         input_4[0][0]                    \n",
      "__________________________________________________________________________________________________\n",
      "embedding_2 (Embedding)         (None, 1, 16)        864         input_5[0][0]                    \n",
      "__________________________________________________________________________________________________\n",
      "embedding_3 (Embedding)         (None, 1, 16)        80          input_6[0][0]                    \n",
      "__________________________________________________________________________________________________\n",
      "embedding_4 (Embedding)         (None, 1, 16)        32          input_7[0][0]                    \n",
      "__________________________________________________________________________________________________\n",
      "concatenate (Concatenate)       (None, 5, 16)        0           embedding[0][0]                  \n",
      "                                                                 embedding_1[0][0]                \n",
      "                                                                 embedding_2[0][0]                \n",
      "                                                                 embedding_3[0][0]                \n",
      "                                                                 embedding_4[0][0]                \n",
      "__________________________________________________________________________________________________\n",
      "transformer_block (TransformerB (None, 5, 16)        9200        concatenate[0][0]                \n",
      "__________________________________________________________________________________________________\n",
      "transformer_block_1 (Transforme (None, 5, 16)        9200        transformer_block[0][0]          \n",
      "__________________________________________________________________________________________________\n",
      "transformer_block_2 (Transforme (None, 5, 16)        9200        transformer_block_1[0][0]        \n",
      "__________________________________________________________________________________________________\n",
      "transformer_block_3 (Transforme (None, 5, 16)        9200        transformer_block_2[0][0]        \n",
      "__________________________________________________________________________________________________\n",
      "transformer_block_4 (Transforme (None, 5, 16)        9200        transformer_block_3[0][0]        \n",
      "__________________________________________________________________________________________________\n",
      "input_2 (InputLayer)            [(None, 60)]         0                                            \n",
      "__________________________________________________________________________________________________\n",
      "transformer_block_5 (Transforme (None, 5, 16)        9200        transformer_block_4[0][0]        \n",
      "__________________________________________________________________________________________________\n",
      "input_1 (InputLayer)            [(None, 0)]          0                                            \n",
      "__________________________________________________________________________________________________\n",
      "layer_normalization (LayerNorma (None, 60)           120         input_2[0][0]                    \n",
      "__________________________________________________________________________________________________\n",
      "flatten (Flatten)               (None, 80)           0           transformer_block_5[0][0]        \n",
      "__________________________________________________________________________________________________\n",
      "concatenate_1 (Concatenate)     (None, 140)          0           input_1[0][0]                    \n",
      "                                                                 layer_normalization[0][0]        \n",
      "                                                                 flatten[0][0]                    \n",
      "__________________________________________________________________________________________________\n",
      "dropout_12 (Dropout)            (None, 140)          0           concatenate_1[0][0]              \n",
      "__________________________________________________________________________________________________\n",
      "layer_normalization_13 (LayerNo (None, 140)          280         dropout_12[0][0]                 \n",
      "__________________________________________________________________________________________________\n",
      "dense_12 (Dense)                (None, 128)          18048       layer_normalization_13[0][0]     \n",
      "__________________________________________________________________________________________________\n",
      "dropout_13 (Dropout)            (None, 128)          0           dense_12[0][0]                   \n",
      "__________________________________________________________________________________________________\n",
      "layer_normalization_14 (LayerNo (None, 128)          256         dropout_13[0][0]                 \n",
      "__________________________________________________________________________________________________\n",
      "dense_13 (Dense)                (None, 32)           4128        layer_normalization_14[0][0]     \n",
      "__________________________________________________________________________________________________\n",
      "dropout_14 (Dropout)            (None, 32)           0           dense_13[0][0]                   \n",
      "__________________________________________________________________________________________________\n",
      "layer_normalization_15 (LayerNo (None, 32)           64          dropout_14[0][0]                 \n",
      "__________________________________________________________________________________________________\n",
      "dense_14 (Dense)                (None, 16)           528         layer_normalization_15[0][0]     \n",
      "__________________________________________________________________________________________________\n",
      "dense_15 (Dense)                (None, 16)           272         dense_14[0][0]                   \n",
      "__________________________________________________________________________________________________\n",
      "dense_16 (Dense)                (None, 1)            17          dense_15[0][0]                   \n",
      "==================================================================================================\n",
      "Total params: 80,497\n",
      "Trainable params: 80,497\n",
      "Non-trainable params: 0\n",
      "__________________________________________________________________________________________________\n"
     ]
    }
   ],
   "metadata": {}
  },
  {
   "cell_type": "markdown",
   "source": [
    "## Training"
   ],
   "metadata": {}
  },
  {
   "cell_type": "code",
   "execution_count": 18,
   "source": [
    "model.compile(\r\n",
    "    optimizer=tf.optimizers.Adam(learning_rate=0.01),\r\n",
    "    loss='mape')"
   ],
   "outputs": [],
   "metadata": {}
  },
  {
   "cell_type": "code",
   "execution_count": 19,
   "source": [
    "history = model.fit(train_inputs, \r\n",
    "            y_train,\r\n",
    "            batch_size=64,\r\n",
    "            epochs=100,\r\n",
    "            validation_data=(test_inputs, y_test),\r\n",
    "            verbose = 0)"
   ],
   "outputs": [],
   "metadata": {}
  },
  {
   "cell_type": "code",
   "execution_count": 20,
   "source": [
    "def plot_history(history):\r\n",
    "    plt.figure(figsize=(10,4))\r\n",
    "    for key in history.history:\r\n",
    "        plt.plot(history.history[key][3:], label = key)\r\n",
    "    plt.legend()\r\n",
    "    plt.show()"
   ],
   "outputs": [],
   "metadata": {}
  },
  {
   "cell_type": "code",
   "execution_count": 21,
   "source": [
    "plot_history(history)"
   ],
   "outputs": [
    {
     "output_type": "display_data",
     "data": {
      "text/plain": [
       "<Figure size 720x288 with 1 Axes>"
      ],
      "image/png": "[encoded data removed]"
     },
     "metadata": {
      "needs_background": "light"
     }
    }
   ],
   "metadata": {}
  },
  {
   "cell_type": "code",
   "execution_count": 22,
   "source": [
    "\"min_loss: %.4f, min_val_loss: %.4f\" % (min(history.history['loss']), min(history.history['val_loss']))"
   ],
   "outputs": [
    {
     "output_type": "execute_result",
     "data": {
      "text/plain": [
       "'min_loss: 28.6305, min_val_loss: 36.5240'"
      ]
     },
     "metadata": {},
     "execution_count": 22
    }
   ],
   "metadata": {}
  },
  {
   "cell_type": "markdown",
   "source": [
    "### Comparing with Previous Methods\r\n",
    "\r\n",
    "| Model | Train Error | Test Error | All Set Error |\r\n",
    "| - | - | - | - |\r\n",
    "| Base | - | - | 78.8 |\r\n",
    "| Random Forest | 23.9 | 47.0 | - |\r\n",
    "| LGBM | - | 48.7 | - |\r\n",
    "| TF Custom RNN | - | - | 70.7 |\r\n",
    "| Keras, PP + Dense (with one dropout layer) | 21.7 | 37.8 | - |\r\n",
    "| Keras, PP + Dense (with two dropout layers) | 25.3 | 36.9 | - |\r\n",
    "| Keras, PP + Dense [1] | 18.9 | 35.5 | - |\r\n",
    "| Keras, PP + Dense [2] | 18.5 | 34.7 | - |\r\n",
    "| Keras, PP + Transformer + Dense [2] | 28.6 | 36.5 | - |\r\n",
    "\r\n",
    "* [1]: dropout, layer-norm, dense (128, relu), dropout, layer-norm, dense (32, relu), dense (16, relu), dense (16, **selu**), dense (1)\r\n",
    "* [2]: dropout, layer-norm, dense (128, relu), dropout, layer-norm, dense (32, relu), dropout, layer-norm, dense (16, **selu**), dense (16, **selu**), dense (1)"
   ],
   "metadata": {}
  },
  {
   "cell_type": "code",
   "execution_count": null,
   "source": [],
   "outputs": [],
   "metadata": {}
  }
 ],
 "metadata": {
  "orig_nbformat": 4,
  "language_info": {
   "name": "python",
   "version": "3.7.10",
   "mimetype": "text/x-python",
   "codemirror_mode": {
    "name": "ipython",
    "version": 3
   },
   "pygments_lexer": "ipython3",
   "nbconvert_exporter": "python",
   "file_extension": ".py"
  },
  "kernelspec": {
   "name": "python3",
   "display_name": "Python 3.7.10 64-bit ('tensor': conda)"
  },
  "interpreter": {
   "hash": "dc02d57ed1923bb8fd0c9b2b88bd0911edbe6fbf4ce1beb1b8ef96ccbcd7b0f0"
  }
 },
 "nbformat": 4,
 "nbformat_minor": 2
}