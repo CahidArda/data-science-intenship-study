{
 "cells": [
  {
   "cell_type": "markdown",
   "source": [
    "# Adding Transformers\r\n",
    "\r\n",
    "This model is an attempt to implement the [TabTransformer](https://github.com/lucidrains/tab-transformer-pytorch).\r\n",
    "\r\n",
    "I will develop the model in [keras_pp_dense_forecasting notebook](https://github.com/CahidArda/internship-study/blob/main/notebooks/rnn/keras_pp_dense_forecasting.ipynb)\r\n",
    "\r\n",
    "Here is the diagram of the model:\r\n",
    "\r\n",
    "<img src=\"imgs/modelDiagram.png\">\r\n"
   ],
   "metadata": {}
  },
  {
   "cell_type": "code",
   "execution_count": 25,
   "source": [
    "import matplotlib.pyplot as plt\r\n",
    "\r\n",
    "sys.path.append(r'../atm_demand')\r\n",
    "from feature_generation import *\r\n",
    "\r\n",
    "#from sklearn.model_selection import train_test_split\r\n",
    "\r\n",
    "import numpy as np\r\n",
    "import tensorflow as tf\r\n",
    "from tensorflow import keras\r\n",
    "from tensorflow.keras import layers"
   ],
   "outputs": [],
   "metadata": {}
  },
  {
   "cell_type": "markdown",
   "source": [
    "## Importing and Formatting Data"
   ],
   "metadata": {}
  },
  {
   "cell_type": "code",
   "execution_count": 26,
   "source": [
    "df = pd.read_csv(\"../atm_demand/DATA_sample_atm.csv\")\r\n",
    "targets = ['CashIn', 'CashOut']\r\n",
    "atm_df = get_atm(df, 26637)\r\n",
    "atm_df = atm_df[:-135]\r\n",
    "atm_df = clean_data(atm_df, drop_zeros=True)\r\n",
    "feature_set = get_feature_sets(atm_df, ['CashIn', 'CashOut'])"
   ],
   "outputs": [],
   "metadata": {}
  },
  {
   "cell_type": "code",
   "execution_count": 27,
   "source": [
    "special_dates = pd.Series(0, index = feature_set.index, name='Special_Dates_Index')\r\n",
    "for i, feature in enumerate(['is_ramazan', 'ramazan_in_7_days', 'is_kurban','kurban_in_7_days']):\r\n",
    "    special_dates[feature_set[feature] == 1] = i + 1\r\n",
    "\r\n",
    "feature_set[special_dates.name] = special_dates"
   ],
   "outputs": [],
   "metadata": {}
  },
  {
   "cell_type": "code",
   "execution_count": 28,
   "source": [
    "feature_set.columns"
   ],
   "outputs": [
    {
     "output_type": "execute_result",
     "data": {
      "text/plain": [
       "Index(['CashIn', 'CashOut', 'CashIn_average_7', 'CashIn_average_30',\n",
       "       'CashOut_average_7', 'CashOut_average_30', 'CashIn_trend_7',\n",
       "       'CashOut_trend_7', 'CashIn_t-1', 'CashIn_t-2', 'CashIn_t-3',\n",
       "       'CashIn_t-4', 'CashIn_t-5', 'CashIn_t-6', 'CashIn_t-7', 'CashIn_t-8',\n",
       "       'CashIn_t-9', 'CashIn_t-10', 'CashIn_t-11', 'CashIn_t-12',\n",
       "       'CashIn_t-13', 'CashIn_t-14', 'CashOut_t-1', 'CashOut_t-2',\n",
       "       'CashOut_t-3', 'CashOut_t-4', 'CashOut_t-5', 'CashOut_t-6',\n",
       "       'CashOut_t-7', 'CashOut_t-8', 'CashOut_t-9', 'CashOut_t-10',\n",
       "       'CashOut_t-11', 'CashOut_t-12', 'CashOut_t-13', 'CashOut_t-14',\n",
       "       'CashOut_t-15', 'CashOut_t-16', 'CashOut_t-17', 'CashOut_t-18',\n",
       "       'CashOut_t-19', 'CashOut_t-20', 'CashOut_t-21', 'CashOut_t-22',\n",
       "       'CashOut_t-23', 'CashOut_t-24', 'CashOut_t-25', 'CashOut_t-26',\n",
       "       'CashOut_t-27', 'CashOut_t-28', 'CashOut_t-29', 'CashOut_t-30',\n",
       "       'CashOut_t-31', 'CashOut_t-32', 'CashOut_t-33', 'CashOut_t-34',\n",
       "       'CashOut_t-35', 'CashOut_t-36', 'CashOut_t-37', 'CashOut_t-38',\n",
       "       'CashOut_t-39', 'CashOut_t-40', 'Day_of_the_Week_Index', 'Day_Index__0',\n",
       "       'Day_Index__1', 'Day_Index__2', 'Day_Index__3', 'Day_Index__4',\n",
       "       'Day_Index__5', 'Day_Index__6', 'Day_of_the_Month_Index',\n",
       "       'Week_of_the_Year_Index', 'Is_Weekday', 'Is_Weekend',\n",
       "       'curr_month_1_delta', 'curr_month_15_delta', 'next_month_1_delta',\n",
       "       'is_ramazan', 'ramazan_in_7_days', 'is_kurban', 'kurban_in_7_days',\n",
       "       'Special_Dates_Index'],\n",
       "      dtype='object')"
      ]
     },
     "metadata": {},
     "execution_count": 28
    }
   ],
   "metadata": {}
  },
  {
   "cell_type": "code",
   "execution_count": 29,
   "source": [
    "one_hots     = []\r\n",
    "categoricals = ['Day_of_the_Week_Index', 'Day_of_the_Month_Index', 'Week_of_the_Year_Index', 'Special_Dates_Index', 'Is_Weekday']\r\n",
    "numericals   = ['CashIn_average_7', 'CashIn_average_30',\r\n",
    "       'CashOut_average_7', 'CashOut_average_30', 'CashIn_trend_7',\r\n",
    "       'CashOut_trend_7', 'CashIn_t-1', 'CashIn_t-2', 'CashIn_t-3',\r\n",
    "       'CashIn_t-4', 'CashIn_t-5', 'CashIn_t-6', 'CashIn_t-7', 'CashIn_t-8',\r\n",
    "       'CashIn_t-9', 'CashIn_t-10', 'CashIn_t-11', 'CashIn_t-12',\r\n",
    "       'CashIn_t-13', 'CashIn_t-14', 'CashOut_t-1', 'CashOut_t-2',\r\n",
    "       'CashOut_t-3', 'CashOut_t-4', 'CashOut_t-5', 'CashOut_t-6',\r\n",
    "       'CashOut_t-7', 'CashOut_t-8', 'CashOut_t-9', 'CashOut_t-10',\r\n",
    "       'CashOut_t-11', 'CashOut_t-12', 'CashOut_t-13', 'CashOut_t-14',\r\n",
    "       'CashOut_t-15', 'CashOut_t-16', 'CashOut_t-17', 'CashOut_t-18',\r\n",
    "       'CashOut_t-19', 'CashOut_t-20', 'CashOut_t-21', 'CashOut_t-22',\r\n",
    "       'CashOut_t-23', 'CashOut_t-24', 'CashOut_t-25', 'CashOut_t-26',\r\n",
    "       'CashOut_t-27', 'CashOut_t-28', 'CashOut_t-29', 'CashOut_t-30',\r\n",
    "       'CashOut_t-31', 'CashOut_t-32', 'CashOut_t-33', 'CashOut_t-34',\r\n",
    "       'CashOut_t-35', 'CashOut_t-36', 'CashOut_t-37', 'CashOut_t-38',\r\n",
    "       'CashOut_t-39', 'CashOut_t-40']"
   ],
   "outputs": [],
   "metadata": {}
  },
  {
   "cell_type": "code",
   "execution_count": 30,
   "source": [
    "def train_test_split(X, y, split=0.2):\r\n",
    "    cut = int(X.shape[0] * split)\r\n",
    "    return X[:-cut], X[-cut:], y[:-cut], y[-cut:]\r\n",
    "\r\n",
    "def get_input_sets(df, groups):\r\n",
    "    result = []\r\n",
    "    for group in groups:\r\n",
    "        result.append(df[group])\r\n",
    "    return result"
   ],
   "outputs": [],
   "metadata": {}
  },
  {
   "cell_type": "code",
   "execution_count": 31,
   "source": [
    "TARGET = 'CashIn'\r\n",
    "X_train, X_test, y_train, y_test = train_test_split(feature_set[feature_set.columns[2:]], feature_set[TARGET])\r\n",
    "\r\n",
    "groups = [one_hots, numericals]\r\n",
    "groups.extend(categoricals)\r\n",
    "train_inputs = get_input_sets(X_train, groups)\r\n",
    "test_inputs  = get_input_sets(X_test, groups)"
   ],
   "outputs": [],
   "metadata": {}
  },
  {
   "cell_type": "markdown",
   "source": [
    "## Building the Model"
   ],
   "metadata": {}
  },
  {
   "cell_type": "markdown",
   "source": [
    "### Preprocessing"
   ],
   "metadata": {}
  },
  {
   "cell_type": "code",
   "execution_count": 32,
   "source": [
    "one_hot_inputs = layers.Input(shape=[len(one_hots)])\r\n",
    "\r\n",
    "numeric_inputs        = layers.Input(shape=[len(numericals)])\r\n",
    "numeric_inputs_normal = layers.LayerNormalization()(numeric_inputs)"
   ],
   "outputs": [],
   "metadata": {}
  },
  {
   "cell_type": "markdown",
   "source": [
    "### Categoricals"
   ],
   "metadata": {}
  },
  {
   "cell_type": "code",
   "execution_count": 33,
   "source": [
    "EMBED_DIM = 16\r\n",
    "\r\n",
    "categorical_inputs = []\r\n",
    "embedding_outputs  = []\r\n",
    "for size in [len(feature_set[categorical].unique()) for categorical in categoricals]:\r\n",
    "    input_layer          = layers.Input(shape=[1])\r\n",
    "    input_layer_embedded = layers.Embedding(input_dim=size, output_dim=EMBED_DIM)(input_layer)\r\n",
    "    categorical_inputs.append(input_layer)\r\n",
    "    embedding_outputs.append(input_layer_embedded)\r\n",
    "\r\n",
    "embeddeds = layers.Concatenate(axis=1)(embedding_outputs)"
   ],
   "outputs": [],
   "metadata": {}
  },
  {
   "cell_type": "markdown",
   "source": [
    "### Transformer"
   ],
   "metadata": {}
  },
  {
   "cell_type": "code",
   "execution_count": 34,
   "source": [
    "class TransformerBlock(layers.Layer):\r\n",
    "    def __init__(self, embed_dim, num_heads, ff_dim, rate=0.1):\r\n",
    "        super(TransformerBlock, self).__init__()\r\n",
    "        self.att = layers.MultiHeadAttention(num_heads=num_heads, key_dim=embed_dim)\r\n",
    "        self.ffn = keras.Sequential(\r\n",
    "            [layers.Dense(ff_dim, activation=\"relu\"), layers.Dense(embed_dim),]\r\n",
    "        )\r\n",
    "        self.layernorm1 = layers.LayerNormalization(epsilon=1e-6)\r\n",
    "        self.layernorm2 = layers.LayerNormalization(epsilon=1e-6)\r\n",
    "        self.dropout1 = layers.Dropout(rate)\r\n",
    "        self.dropout2 = layers.Dropout(rate)\r\n",
    "\r\n",
    "    def call(self, inputs, training):\r\n",
    "        attn_output = self.att(inputs, inputs)\r\n",
    "        attn_output = self.dropout1(attn_output, training=training)\r\n",
    "        out1 = self.layernorm1(inputs + attn_output)\r\n",
    "        ffn_output = self.ffn(out1)\r\n",
    "        ffn_output = self.dropout2(ffn_output, training=training)\r\n",
    "        return self.layernorm2(out1 + ffn_output)"
   ],
   "outputs": [],
   "metadata": {}
  },
  {
   "cell_type": "code",
   "execution_count": 35,
   "source": [
    "HEADS   = 8\r\n",
    "DEPTH   = 6"
   ],
   "outputs": [],
   "metadata": {}
  },
  {
   "cell_type": "code",
   "execution_count": 36,
   "source": [
    "transformer = embeddeds\r\n",
    "for _ in range(DEPTH):\r\n",
    "    transformer = TransformerBlock(EMBED_DIM, HEADS, EMBED_DIM)(transformer)\r\n",
    "transformer_flat = layers.Flatten()(transformer)"
   ],
   "outputs": [],
   "metadata": {}
  },
  {
   "cell_type": "code",
   "execution_count": 37,
   "source": [
    "transformer_flat = layers.Flatten()(embeddeds)"
   ],
   "outputs": [],
   "metadata": {}
  },
  {
   "cell_type": "markdown",
   "source": [
    "### Concatenation"
   ],
   "metadata": {}
  },
  {
   "cell_type": "code",
   "execution_count": 38,
   "source": [
    "concatenated = layers.Concatenate()([one_hot_inputs, numeric_inputs_normal, transformer_flat])"
   ],
   "outputs": [],
   "metadata": {}
  },
  {
   "cell_type": "markdown",
   "source": [
    "### MLP"
   ],
   "metadata": {}
  },
  {
   "cell_type": "code",
   "execution_count": 39,
   "source": [
    "'''\r\n",
    "l = concatenated.shape[1] // 8\r\n",
    "\r\n",
    "MLP_HIDDEN_RATIOS = [4,2,2]\r\n",
    "ACTIVATIONS = ['relu', 'relu', 'selu']\r\n",
    "mlp_layer = concatenated\r\n",
    "for ratio, activation in zip(MLP_HIDDEN_RATIOS, ACTIVATIONS):\r\n",
    "    mlp_layer = layers.Dropout(0.1)(mlp_layer)\r\n",
    "    #mlp_layer = layers.LayerNormalization()(mlp_layer)\r\n",
    "    mlp_layer = layers.Dense(ratio * l, activation=activation)(mlp_layer)\r\n",
    "output_layer = layers.Dense(1)(mlp_layer)\r\n",
    "'''"
   ],
   "outputs": [
    {
     "output_type": "execute_result",
     "data": {
      "text/plain": [
       "\"\\nl = concatenated.shape[1] // 8\\n\\nMLP_HIDDEN_RATIOS = [4,2,2]\\nACTIVATIONS = ['relu', 'relu', 'selu']\\nmlp_layer = concatenated\\nfor ratio, activation in zip(MLP_HIDDEN_RATIOS, ACTIVATIONS):\\n    mlp_layer = layers.Dropout(0.1)(mlp_layer)\\n    #mlp_layer = layers.LayerNormalization()(mlp_layer)\\n    mlp_layer = layers.Dense(ratio * l, activation=activation)(mlp_layer)\\noutput_layer = layers.Dense(1)(mlp_layer)\\n\""
      ]
     },
     "metadata": {},
     "execution_count": 39
    }
   ],
   "metadata": {}
  },
  {
   "cell_type": "code",
   "execution_count": 40,
   "source": [
    "dropout1        = layers.Dropout(0.2)(concatenated)\r\n",
    "normalization1  = layers.LayerNormalization()(dropout1)\r\n",
    "dense1          = layers.Dense(128, activation='relu')(normalization1)\r\n",
    "dropout2        = layers.Dropout(0.2)(dense1)\r\n",
    "normalization2  = layers.LayerNormalization()(dropout2)\r\n",
    "dense2          = layers.Dense(32, activation='relu')(normalization2)\r\n",
    "dropout3        = layers.Dropout(0.2)(dense2)\r\n",
    "normalization3  = layers.LayerNormalization()(dropout3)\r\n",
    "dense3          = layers.Dense(16, activation='selu')(normalization3)\r\n",
    "exponential     = layers.Dense(16, activation='selu')(dense3)\r\n",
    "output_layer    = layers.Dense(1)(exponential)"
   ],
   "outputs": [],
   "metadata": {}
  },
  {
   "cell_type": "code",
   "execution_count": 41,
   "source": [
    "inputs = [one_hot_inputs, numeric_inputs]\r\n",
    "inputs.extend(categorical_inputs)\r\n",
    "model = keras.Model(inputs=inputs, outputs=[output_layer])"
   ],
   "outputs": [],
   "metadata": {}
  },
  {
   "cell_type": "markdown",
   "source": [
    "### Summary"
   ],
   "metadata": {}
  },
  {
   "cell_type": "code",
   "execution_count": 42,
   "source": [
    "model.summary()"
   ],
   "outputs": [
    {
     "output_type": "stream",
     "name": "stdout",
     "text": [
      "Model: \"model_1\"\n",
      "__________________________________________________________________________________________________\n",
      "Layer (type)                    Output Shape         Param #     Connected to                     \n",
      "==================================================================================================\n",
      "input_10 (InputLayer)           [(None, 1)]          0                                            \n",
      "__________________________________________________________________________________________________\n",
      "input_11 (InputLayer)           [(None, 1)]          0                                            \n",
      "__________________________________________________________________________________________________\n",
      "input_12 (InputLayer)           [(None, 1)]          0                                            \n",
      "__________________________________________________________________________________________________\n",
      "input_13 (InputLayer)           [(None, 1)]          0                                            \n",
      "__________________________________________________________________________________________________\n",
      "input_14 (InputLayer)           [(None, 1)]          0                                            \n",
      "__________________________________________________________________________________________________\n",
      "embedding_5 (Embedding)         (None, 1, 16)        112         input_10[0][0]                   \n",
      "__________________________________________________________________________________________________\n",
      "embedding_6 (Embedding)         (None, 1, 16)        496         input_11[0][0]                   \n",
      "__________________________________________________________________________________________________\n",
      "embedding_7 (Embedding)         (None, 1, 16)        864         input_12[0][0]                   \n",
      "__________________________________________________________________________________________________\n",
      "embedding_8 (Embedding)         (None, 1, 16)        80          input_13[0][0]                   \n",
      "__________________________________________________________________________________________________\n",
      "embedding_9 (Embedding)         (None, 1, 16)        32          input_14[0][0]                   \n",
      "__________________________________________________________________________________________________\n",
      "input_9 (InputLayer)            [(None, 60)]         0                                            \n",
      "__________________________________________________________________________________________________\n",
      "concatenate_2 (Concatenate)     (None, 5, 16)        0           embedding_5[0][0]                \n",
      "                                                                 embedding_6[0][0]                \n",
      "                                                                 embedding_7[0][0]                \n",
      "                                                                 embedding_8[0][0]                \n",
      "                                                                 embedding_9[0][0]                \n",
      "__________________________________________________________________________________________________\n",
      "input_8 (InputLayer)            [(None, 0)]          0                                            \n",
      "__________________________________________________________________________________________________\n",
      "layer_normalization_13 (LayerNo (None, 60)           120         input_9[0][0]                    \n",
      "__________________________________________________________________________________________________\n",
      "flatten_3 (Flatten)             (None, 80)           0           concatenate_2[0][0]              \n",
      "__________________________________________________________________________________________________\n",
      "concatenate_3 (Concatenate)     (None, 140)          0           input_8[0][0]                    \n",
      "                                                                 layer_normalization_13[0][0]     \n",
      "                                                                 flatten_3[0][0]                  \n",
      "__________________________________________________________________________________________________\n",
      "dropout_27 (Dropout)            (None, 140)          0           concatenate_3[0][0]              \n",
      "__________________________________________________________________________________________________\n",
      "layer_normalization_26 (LayerNo (None, 140)          280         dropout_27[0][0]                 \n",
      "__________________________________________________________________________________________________\n",
      "dense_28 (Dense)                (None, 128)          18048       layer_normalization_26[0][0]     \n",
      "__________________________________________________________________________________________________\n",
      "dropout_28 (Dropout)            (None, 128)          0           dense_28[0][0]                   \n",
      "__________________________________________________________________________________________________\n",
      "layer_normalization_27 (LayerNo (None, 128)          256         dropout_28[0][0]                 \n",
      "__________________________________________________________________________________________________\n",
      "dense_29 (Dense)                (None, 32)           4128        layer_normalization_27[0][0]     \n",
      "__________________________________________________________________________________________________\n",
      "dropout_29 (Dropout)            (None, 32)           0           dense_29[0][0]                   \n",
      "__________________________________________________________________________________________________\n",
      "layer_normalization_28 (LayerNo (None, 32)           64          dropout_29[0][0]                 \n",
      "__________________________________________________________________________________________________\n",
      "dense_30 (Dense)                (None, 16)           528         layer_normalization_28[0][0]     \n",
      "__________________________________________________________________________________________________\n",
      "dense_31 (Dense)                (None, 16)           272         dense_30[0][0]                   \n",
      "__________________________________________________________________________________________________\n",
      "dense_32 (Dense)                (None, 1)            17          dense_31[0][0]                   \n",
      "==================================================================================================\n",
      "Total params: 25,297\n",
      "Trainable params: 25,297\n",
      "Non-trainable params: 0\n",
      "__________________________________________________________________________________________________\n"
     ]
    }
   ],
   "metadata": {}
  },
  {
   "cell_type": "markdown",
   "source": [
    "## Training"
   ],
   "metadata": {}
  },
  {
   "cell_type": "code",
   "execution_count": 43,
   "source": [
    "model.compile(\r\n",
    "    optimizer=tf.optimizers.Adam(learning_rate=0.01),\r\n",
    "    loss='mape')"
   ],
   "outputs": [],
   "metadata": {}
  },
  {
   "cell_type": "code",
   "execution_count": 44,
   "source": [
    "history = model.fit(train_inputs, \r\n",
    "            y_train,\r\n",
    "            batch_size=64,\r\n",
    "            epochs=100,\r\n",
    "            validation_data=(test_inputs, y_test),\r\n",
    "            verbose = 1)"
   ],
   "outputs": [
    {
     "output_type": "stream",
     "name": "stdout",
     "text": [
      "Epoch 1/100\n",
      "19/19 [==============================] - 2s 27ms/step - loss: 99.9760 - val_loss: 99.8717\n",
      "Epoch 2/100\n",
      "19/19 [==============================] - 0s 7ms/step - loss: 99.7992 - val_loss: 99.2919\n",
      "Epoch 3/100\n",
      "19/19 [==============================] - 0s 7ms/step - loss: 99.1928 - val_loss: 97.5257\n",
      "Epoch 4/100\n",
      "19/19 [==============================] - 0s 7ms/step - loss: 98.0439 - val_loss: 94.4059\n",
      "Epoch 5/100\n",
      "19/19 [==============================] - 0s 7ms/step - loss: 96.6657 - val_loss: 87.1879\n",
      "Epoch 6/100\n",
      "19/19 [==============================] - 0s 7ms/step - loss: 92.6789 - val_loss: 73.8399\n",
      "Epoch 7/100\n",
      "19/19 [==============================] - 0s 7ms/step - loss: 89.1636 - val_loss: 55.3503\n",
      "Epoch 8/100\n",
      "19/19 [==============================] - 0s 7ms/step - loss: 73.0061 - val_loss: 41.3659\n",
      "Epoch 9/100\n",
      "19/19 [==============================] - 0s 7ms/step - loss: 56.9419 - val_loss: 40.7959\n",
      "Epoch 10/100\n",
      "19/19 [==============================] - 0s 7ms/step - loss: 58.1858 - val_loss: 37.2008\n",
      "Epoch 11/100\n",
      "19/19 [==============================] - 0s 7ms/step - loss: 47.9648 - val_loss: 37.6902\n",
      "Epoch 12/100\n",
      "19/19 [==============================] - 0s 7ms/step - loss: 84.5356 - val_loss: 38.0416\n",
      "Epoch 13/100\n",
      "19/19 [==============================] - 0s 7ms/step - loss: 52.6170 - val_loss: 38.7195\n",
      "Epoch 14/100\n",
      "19/19 [==============================] - 0s 8ms/step - loss: 52.4207 - val_loss: 38.7623\n",
      "Epoch 15/100\n",
      "19/19 [==============================] - 0s 7ms/step - loss: 49.1326 - val_loss: 39.1940\n",
      "Epoch 16/100\n",
      "19/19 [==============================] - 0s 7ms/step - loss: 49.3289 - val_loss: 38.3939\n",
      "Epoch 17/100\n",
      "19/19 [==============================] - 0s 9ms/step - loss: 45.7067 - val_loss: 37.2857\n",
      "Epoch 18/100\n",
      "19/19 [==============================] - 0s 9ms/step - loss: 48.3434 - val_loss: 37.2620\n",
      "Epoch 19/100\n",
      "19/19 [==============================] - 0s 7ms/step - loss: 42.8257 - val_loss: 38.5434\n",
      "Epoch 20/100\n",
      "19/19 [==============================] - 0s 8ms/step - loss: 44.6406 - val_loss: 37.4512\n",
      "Epoch 21/100\n",
      "19/19 [==============================] - 0s 7ms/step - loss: 42.7917 - val_loss: 38.7052\n",
      "Epoch 22/100\n",
      "19/19 [==============================] - 0s 7ms/step - loss: 41.5235 - val_loss: 39.1889\n",
      "Epoch 23/100\n",
      "19/19 [==============================] - 0s 8ms/step - loss: 42.9360 - val_loss: 39.1383\n",
      "Epoch 24/100\n",
      "19/19 [==============================] - 0s 7ms/step - loss: 41.5806 - val_loss: 41.5286\n",
      "Epoch 25/100\n",
      "19/19 [==============================] - 0s 8ms/step - loss: 39.8424 - val_loss: 41.0402\n",
      "Epoch 26/100\n",
      "19/19 [==============================] - 0s 7ms/step - loss: 38.4316 - val_loss: 39.8577\n",
      "Epoch 27/100\n",
      "19/19 [==============================] - 0s 8ms/step - loss: 39.5051 - val_loss: 40.0462\n",
      "Epoch 28/100\n",
      "19/19 [==============================] - 0s 7ms/step - loss: 40.5441 - val_loss: 41.2429\n",
      "Epoch 29/100\n",
      "19/19 [==============================] - 0s 7ms/step - loss: 43.1379 - val_loss: 39.5945\n",
      "Epoch 30/100\n",
      "19/19 [==============================] - 0s 7ms/step - loss: 40.1785 - val_loss: 42.4454\n",
      "Epoch 31/100\n",
      "19/19 [==============================] - 0s 8ms/step - loss: 40.8932 - val_loss: 41.4094\n",
      "Epoch 32/100\n",
      "19/19 [==============================] - 0s 8ms/step - loss: 38.6749 - val_loss: 42.6222\n",
      "Epoch 33/100\n",
      "19/19 [==============================] - 0s 8ms/step - loss: 35.6827 - val_loss: 41.9815\n",
      "Epoch 34/100\n",
      "19/19 [==============================] - 0s 10ms/step - loss: 37.5452 - val_loss: 43.5746\n",
      "Epoch 35/100\n",
      "19/19 [==============================] - 0s 9ms/step - loss: 37.1643 - val_loss: 42.9079\n",
      "Epoch 36/100\n",
      "19/19 [==============================] - 0s 9ms/step - loss: 34.9446 - val_loss: 43.2883\n",
      "Epoch 37/100\n",
      "19/19 [==============================] - 0s 10ms/step - loss: 37.7719 - val_loss: 44.6049\n",
      "Epoch 38/100\n",
      "19/19 [==============================] - 0s 9ms/step - loss: 34.6903 - val_loss: 43.4910\n",
      "Epoch 39/100\n",
      "19/19 [==============================] - 0s 10ms/step - loss: 34.9605 - val_loss: 45.0871\n",
      "Epoch 40/100\n",
      "19/19 [==============================] - 0s 9ms/step - loss: 35.8415 - val_loss: 46.0689\n",
      "Epoch 41/100\n",
      "19/19 [==============================] - 0s 9ms/step - loss: 37.3363 - val_loss: 47.9914\n",
      "Epoch 42/100\n",
      "19/19 [==============================] - 0s 9ms/step - loss: 37.7521 - val_loss: 43.9683\n",
      "Epoch 43/100\n",
      "19/19 [==============================] - 0s 8ms/step - loss: 34.9949 - val_loss: 47.3999\n",
      "Epoch 44/100\n",
      "19/19 [==============================] - 0s 9ms/step - loss: 36.2583 - val_loss: 45.1217\n",
      "Epoch 45/100\n",
      "19/19 [==============================] - 0s 8ms/step - loss: 33.2656 - val_loss: 44.0548\n",
      "Epoch 46/100\n",
      "19/19 [==============================] - 0s 9ms/step - loss: 35.5636 - val_loss: 45.2931\n",
      "Epoch 47/100\n",
      "19/19 [==============================] - 0s 8ms/step - loss: 32.6565 - val_loss: 45.6530\n",
      "Epoch 48/100\n",
      "19/19 [==============================] - 0s 8ms/step - loss: 32.6459 - val_loss: 45.6668\n",
      "Epoch 49/100\n",
      "19/19 [==============================] - 0s 9ms/step - loss: 32.2298 - val_loss: 47.0174\n",
      "Epoch 50/100\n",
      "19/19 [==============================] - 0s 8ms/step - loss: 31.0299 - val_loss: 46.8145\n",
      "Epoch 51/100\n",
      "19/19 [==============================] - 0s 9ms/step - loss: 31.5588 - val_loss: 46.7232\n",
      "Epoch 52/100\n",
      "19/19 [==============================] - 0s 9ms/step - loss: 32.7330 - val_loss: 48.0104\n",
      "Epoch 53/100\n",
      "19/19 [==============================] - 0s 8ms/step - loss: 31.6731 - val_loss: 48.6627\n",
      "Epoch 54/100\n",
      "19/19 [==============================] - 0s 8ms/step - loss: 30.4916 - val_loss: 43.8195\n",
      "Epoch 55/100\n",
      "19/19 [==============================] - 0s 10ms/step - loss: 32.0492 - val_loss: 49.0117\n",
      "Epoch 56/100\n",
      "19/19 [==============================] - 0s 9ms/step - loss: 31.9464 - val_loss: 45.7189\n",
      "Epoch 57/100\n",
      "19/19 [==============================] - 0s 8ms/step - loss: 30.9729 - val_loss: 49.4369\n",
      "Epoch 58/100\n",
      "19/19 [==============================] - 0s 9ms/step - loss: 30.0361 - val_loss: 46.6576\n",
      "Epoch 59/100\n",
      "19/19 [==============================] - 0s 8ms/step - loss: 30.7381 - val_loss: 47.9845\n",
      "Epoch 60/100\n",
      "19/19 [==============================] - 0s 9ms/step - loss: 31.2696 - val_loss: 49.2098\n",
      "Epoch 61/100\n",
      "19/19 [==============================] - 0s 8ms/step - loss: 30.6126 - val_loss: 45.7835\n",
      "Epoch 62/100\n",
      "19/19 [==============================] - 0s 9ms/step - loss: 30.3139 - val_loss: 49.5480\n",
      "Epoch 63/100\n",
      "19/19 [==============================] - 0s 8ms/step - loss: 29.4268 - val_loss: 50.0178\n",
      "Epoch 64/100\n",
      "19/19 [==============================] - 0s 8ms/step - loss: 29.3435 - val_loss: 47.0775\n",
      "Epoch 65/100\n",
      "19/19 [==============================] - 0s 9ms/step - loss: 31.4557 - val_loss: 50.0285\n",
      "Epoch 66/100\n",
      "19/19 [==============================] - 0s 8ms/step - loss: 29.9290 - val_loss: 51.5170\n",
      "Epoch 67/100\n",
      "19/19 [==============================] - 0s 8ms/step - loss: 29.9473 - val_loss: 48.3521\n",
      "Epoch 68/100\n",
      "19/19 [==============================] - 0s 11ms/step - loss: 30.4787 - val_loss: 47.4030\n",
      "Epoch 69/100\n",
      "19/19 [==============================] - 0s 9ms/step - loss: 29.1716 - val_loss: 52.4033\n",
      "Epoch 70/100\n",
      "19/19 [==============================] - 0s 9ms/step - loss: 30.2857 - val_loss: 46.1909\n",
      "Epoch 71/100\n",
      "19/19 [==============================] - 0s 9ms/step - loss: 28.1585 - val_loss: 49.8822\n",
      "Epoch 72/100\n",
      "19/19 [==============================] - 0s 8ms/step - loss: 28.3366 - val_loss: 52.8133\n",
      "Epoch 73/100\n",
      "19/19 [==============================] - 0s 8ms/step - loss: 31.8186 - val_loss: 45.8304\n",
      "Epoch 74/100\n",
      "19/19 [==============================] - 0s 10ms/step - loss: 28.8790 - val_loss: 52.0953\n",
      "Epoch 75/100\n",
      "19/19 [==============================] - 0s 9ms/step - loss: 28.8157 - val_loss: 46.8143\n",
      "Epoch 76/100\n",
      "19/19 [==============================] - 0s 8ms/step - loss: 29.1081 - val_loss: 50.9084\n",
      "Epoch 77/100\n",
      "19/19 [==============================] - 0s 10ms/step - loss: 33.3675 - val_loss: 43.7011\n",
      "Epoch 78/100\n",
      "19/19 [==============================] - 0s 8ms/step - loss: 31.5011 - val_loss: 49.1983\n",
      "Epoch 79/100\n",
      "19/19 [==============================] - 0s 8ms/step - loss: 29.4038 - val_loss: 49.2044\n",
      "Epoch 80/100\n",
      "19/19 [==============================] - 0s 9ms/step - loss: 28.5013 - val_loss: 48.7146\n",
      "Epoch 81/100\n",
      "19/19 [==============================] - 0s 8ms/step - loss: 30.4224 - val_loss: 47.0185\n",
      "Epoch 82/100\n",
      "19/19 [==============================] - 0s 8ms/step - loss: 30.7696 - val_loss: 51.0561\n",
      "Epoch 83/100\n",
      "19/19 [==============================] - 0s 8ms/step - loss: 30.0891 - val_loss: 47.0796\n",
      "Epoch 84/100\n",
      "19/19 [==============================] - 0s 8ms/step - loss: 29.4147 - val_loss: 50.5044\n",
      "Epoch 85/100\n",
      "19/19 [==============================] - 0s 8ms/step - loss: 28.5909 - val_loss: 48.5177\n",
      "Epoch 86/100\n",
      "19/19 [==============================] - 0s 8ms/step - loss: 28.7822 - val_loss: 50.2253\n",
      "Epoch 87/100\n",
      "19/19 [==============================] - 0s 8ms/step - loss: 28.2753 - val_loss: 47.7196\n",
      "Epoch 88/100\n",
      "19/19 [==============================] - 0s 8ms/step - loss: 28.9453 - val_loss: 49.4595\n",
      "Epoch 89/100\n",
      "19/19 [==============================] - 0s 10ms/step - loss: 27.4236 - val_loss: 50.2701\n",
      "Epoch 90/100\n",
      "19/19 [==============================] - 0s 8ms/step - loss: 27.1653 - val_loss: 50.2100\n",
      "Epoch 91/100\n",
      "19/19 [==============================] - 0s 9ms/step - loss: 27.5800 - val_loss: 52.4451\n",
      "Epoch 92/100\n",
      "19/19 [==============================] - 0s 8ms/step - loss: 27.7393 - val_loss: 51.3174\n",
      "Epoch 93/100\n",
      "19/19 [==============================] - 0s 9ms/step - loss: 27.7454 - val_loss: 46.5230\n",
      "Epoch 94/100\n",
      "19/19 [==============================] - 0s 8ms/step - loss: 26.7279 - val_loss: 49.5308\n",
      "Epoch 95/100\n",
      "19/19 [==============================] - 0s 8ms/step - loss: 28.0077 - val_loss: 52.3472\n",
      "Epoch 96/100\n",
      "19/19 [==============================] - 0s 9ms/step - loss: 27.0931 - val_loss: 53.2777\n",
      "Epoch 97/100\n",
      "19/19 [==============================] - 0s 8ms/step - loss: 26.8409 - val_loss: 49.7155\n",
      "Epoch 98/100\n",
      "19/19 [==============================] - 0s 8ms/step - loss: 27.7575 - val_loss: 50.7388\n",
      "Epoch 99/100\n",
      "19/19 [==============================] - 0s 9ms/step - loss: 26.2242 - val_loss: 53.0355\n",
      "Epoch 100/100\n",
      "19/19 [==============================] - 0s 8ms/step - loss: 26.9989 - val_loss: 49.8291\n"
     ]
    }
   ],
   "metadata": {}
  },
  {
   "cell_type": "code",
   "execution_count": 45,
   "source": [
    "def plot_history(history):\r\n",
    "    plt.figure(figsize=(10,4))\r\n",
    "    for key in history.history:\r\n",
    "        plt.plot(history.history[key][3:], label = key)\r\n",
    "    plt.legend()\r\n",
    "    plt.show()"
   ],
   "outputs": [],
   "metadata": {}
  },
  {
   "cell_type": "code",
   "execution_count": 46,
   "source": [
    "plot_history(history)"
   ],
   "outputs": [
    {
     "output_type": "display_data",
     "data": {
      "text/plain": [
       "<Figure size 720x288 with 1 Axes>"
      ],
      "image/png": "[encoded data removed]"
     },
     "metadata": {
      "needs_background": "light"
     }
    }
   ],
   "metadata": {}
  },
  {
   "cell_type": "code",
   "execution_count": 47,
   "source": [
    "\"min_loss: %.4f, min_val_loss: %.4f\" % (min(history.history['loss']), min(history.history['val_loss']))"
   ],
   "outputs": [
    {
     "output_type": "execute_result",
     "data": {
      "text/plain": [
       "'min_loss: 27.1821, min_val_loss: 37.2008'"
      ]
     },
     "metadata": {},
     "execution_count": 47
    }
   ],
   "metadata": {}
  },
  {
   "cell_type": "markdown",
   "source": [
    "### Comparing with Previous Methods\r\n",
    "\r\n",
    "| Model | Train Error | Test Error | All Set Error |\r\n",
    "| - | - | - | - |\r\n",
    "| Base | - | - | 78.8 |\r\n",
    "| Random Forest | 23.9 | 47.0 | - |\r\n",
    "| LGBM | - | 48.7 | - |\r\n",
    "| TF Custom RNN | - | - | 70.7 |\r\n",
    "| Keras, PP + Dense (with one dropout layer) | 21.7 | 37.8 | - |\r\n",
    "| Keras, PP + Dense (with two dropout layers) | 25.3 | 36.9 | - |\r\n",
    "| Keras, PP + Dense [1] | 18.9 | 35.5 | - |\r\n",
    "| Keras, PP + Dense [2] | 18.5 | 34.7 | - |\r\n",
    "| Keras, PP + Transformer + Dense [2] | 27.2 | 37.2 | - |\r\n",
    "\r\n",
    "* [1]: dropout, layer-norm, dense (128, relu), dropout, layer-norm, dense (32, relu), dense (16, relu), dense (16, **selu**), dense (1)\r\n",
    "* [2]: dropout, layer-norm, dense (128, relu), dropout, layer-norm, dense (32, relu), dropout, layer-norm, dense (16, **selu**), dense (16, **selu**), dense (1)"
   ],
   "metadata": {}
  },
  {
   "cell_type": "code",
   "execution_count": null,
   "source": [],
   "outputs": [],
   "metadata": {}
  }
 ],
 "metadata": {
  "orig_nbformat": 4,
  "language_info": {
   "name": "python"
  }
 },
 "nbformat": 4,
 "nbformat_minor": 2
}