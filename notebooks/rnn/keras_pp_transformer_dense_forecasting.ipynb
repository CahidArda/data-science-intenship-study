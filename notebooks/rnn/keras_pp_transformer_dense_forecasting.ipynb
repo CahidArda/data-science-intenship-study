{
 "cells": [
  {
   "cell_type": "markdown",
   "source": [
    "# Adding Transformers\r\n",
    "\r\n",
    "This model is an attempt to implement the [TabTransformer](https://github.com/lucidrains/tab-transformer-pytorch).\r\n",
    "\r\n",
    "I will develop the model in [keras_pp_dense_forecasting notebook](https://github.com/CahidArda/internship-study/blob/main/notebooks/rnn/keras_pp_dense_forecasting.ipynb)\r\n",
    "\r\n",
    "Here is the diagram of the model:\r\n",
    "\r\n",
    "<img src=\"imgs/modelDiagram.png\">\r\n"
   ],
   "metadata": {}
  },
  {
   "cell_type": "code",
   "execution_count": 48,
   "source": [
    "import matplotlib.pyplot as plt\r\n",
    "\r\n",
    "sys.path.append(r'../atm_demand')\r\n",
    "from feature_generation import *\r\n",
    "\r\n",
    "#from sklearn.model_selection import train_test_split\r\n",
    "\r\n",
    "import numpy as np\r\n",
    "import tensorflow as tf\r\n",
    "from tensorflow import keras\r\n",
    "from tensorflow.keras import layers"
   ],
   "outputs": [],
   "metadata": {}
  },
  {
   "cell_type": "markdown",
   "source": [
    "## Importing and Formatting Data"
   ],
   "metadata": {}
  },
  {
   "cell_type": "code",
   "execution_count": 49,
   "source": [
    "df = pd.read_csv(\"../atm_demand/DATA_sample_atm.csv\")\r\n",
    "targets = ['CashIn', 'CashOut']\r\n",
    "atm_df = get_atm(df, 26637)\r\n",
    "atm_df = atm_df[:-135]\r\n",
    "atm_df = clean_data(atm_df, drop_zeros=True)\r\n",
    "feature_set = get_feature_sets(atm_df, ['CashIn', 'CashOut'])"
   ],
   "outputs": [],
   "metadata": {}
  },
  {
   "cell_type": "code",
   "execution_count": 50,
   "source": [
    "special_dates = pd.Series(0, index = feature_set.index, name='Special_Dates_Index')\r\n",
    "for i, feature in enumerate(['is_ramazan', 'ramazan_in_7_days', 'is_kurban','kurban_in_7_days']):\r\n",
    "    special_dates[feature_set[feature] == 1] = i + 1\r\n",
    "\r\n",
    "feature_set[special_dates.name] = special_dates"
   ],
   "outputs": [],
   "metadata": {}
  },
  {
   "cell_type": "code",
   "execution_count": 51,
   "source": [
    "feature_set.columns"
   ],
   "outputs": [
    {
     "output_type": "execute_result",
     "data": {
      "text/plain": [
       "Index(['CashIn', 'CashOut', 'CashIn_average_7', 'CashIn_average_30',\n",
       "       'CashOut_average_7', 'CashOut_average_30', 'CashIn_trend_7',\n",
       "       'CashOut_trend_7', 'CashIn_t-1', 'CashIn_t-2', 'CashIn_t-3',\n",
       "       'CashIn_t-4', 'CashIn_t-5', 'CashIn_t-6', 'CashIn_t-7', 'CashIn_t-8',\n",
       "       'CashIn_t-9', 'CashIn_t-10', 'CashIn_t-11', 'CashIn_t-12',\n",
       "       'CashIn_t-13', 'CashIn_t-14', 'CashOut_t-1', 'CashOut_t-2',\n",
       "       'CashOut_t-3', 'CashOut_t-4', 'CashOut_t-5', 'CashOut_t-6',\n",
       "       'CashOut_t-7', 'CashOut_t-8', 'CashOut_t-9', 'CashOut_t-10',\n",
       "       'CashOut_t-11', 'CashOut_t-12', 'CashOut_t-13', 'CashOut_t-14',\n",
       "       'CashOut_t-15', 'CashOut_t-16', 'CashOut_t-17', 'CashOut_t-18',\n",
       "       'CashOut_t-19', 'CashOut_t-20', 'CashOut_t-21', 'CashOut_t-22',\n",
       "       'CashOut_t-23', 'CashOut_t-24', 'CashOut_t-25', 'CashOut_t-26',\n",
       "       'CashOut_t-27', 'CashOut_t-28', 'CashOut_t-29', 'CashOut_t-30',\n",
       "       'CashOut_t-31', 'CashOut_t-32', 'CashOut_t-33', 'CashOut_t-34',\n",
       "       'CashOut_t-35', 'CashOut_t-36', 'CashOut_t-37', 'CashOut_t-38',\n",
       "       'CashOut_t-39', 'CashOut_t-40', 'Day_of_the_Week_Index', 'Day_Index__0',\n",
       "       'Day_Index__1', 'Day_Index__2', 'Day_Index__3', 'Day_Index__4',\n",
       "       'Day_Index__5', 'Day_Index__6', 'Day_of_the_Month_Index',\n",
       "       'Week_of_the_Year_Index', 'Is_Weekday', 'Is_Weekend',\n",
       "       'curr_month_1_delta', 'curr_month_15_delta', 'next_month_1_delta',\n",
       "       'is_ramazan', 'ramazan_in_7_days', 'is_kurban', 'kurban_in_7_days',\n",
       "       'Special_Dates_Index'],\n",
       "      dtype='object')"
      ]
     },
     "metadata": {},
     "execution_count": 51
    }
   ],
   "metadata": {}
  },
  {
   "cell_type": "code",
   "execution_count": 52,
   "source": [
    "one_hots     = []\r\n",
    "categoricals = ['Day_of_the_Week_Index', 'Day_of_the_Month_Index', 'Week_of_the_Year_Index', 'Special_Dates_Index', 'Is_Weekday']\r\n",
    "numericals   = ['CashIn_average_7', 'CashIn_average_30',\r\n",
    "       'CashOut_average_7', 'CashOut_average_30', 'CashIn_trend_7',\r\n",
    "       'CashOut_trend_7', 'CashIn_t-1', 'CashIn_t-2', 'CashIn_t-3',\r\n",
    "       'CashIn_t-4', 'CashIn_t-5', 'CashIn_t-6', 'CashIn_t-7', 'CashIn_t-8',\r\n",
    "       'CashIn_t-9', 'CashIn_t-10', 'CashIn_t-11', 'CashIn_t-12',\r\n",
    "       'CashIn_t-13', 'CashIn_t-14', 'CashOut_t-1', 'CashOut_t-2',\r\n",
    "       'CashOut_t-3', 'CashOut_t-4', 'CashOut_t-5', 'CashOut_t-6',\r\n",
    "       'CashOut_t-7', 'CashOut_t-8', 'CashOut_t-9', 'CashOut_t-10',\r\n",
    "       'CashOut_t-11', 'CashOut_t-12', 'CashOut_t-13', 'CashOut_t-14',\r\n",
    "       'CashOut_t-15', 'CashOut_t-16', 'CashOut_t-17', 'CashOut_t-18',\r\n",
    "       'CashOut_t-19', 'CashOut_t-20', 'CashOut_t-21', 'CashOut_t-22',\r\n",
    "       'CashOut_t-23', 'CashOut_t-24', 'CashOut_t-25', 'CashOut_t-26',\r\n",
    "       'CashOut_t-27', 'CashOut_t-28', 'CashOut_t-29', 'CashOut_t-30',\r\n",
    "       'CashOut_t-31', 'CashOut_t-32', 'CashOut_t-33', 'CashOut_t-34',\r\n",
    "       'CashOut_t-35', 'CashOut_t-36', 'CashOut_t-37', 'CashOut_t-38',\r\n",
    "       'CashOut_t-39', 'CashOut_t-40']"
   ],
   "outputs": [],
   "metadata": {}
  },
  {
   "cell_type": "code",
   "execution_count": 53,
   "source": [
    "def train_test_split(X, y, split=0.2):\r\n",
    "    cut = int(X.shape[0] * split)\r\n",
    "    return X[:-cut], X[-cut:], y[:-cut], y[-cut:]\r\n",
    "\r\n",
    "def get_input_sets(df, groups):\r\n",
    "    result = []\r\n",
    "    for group in groups:\r\n",
    "        result.append(df[group])\r\n",
    "    return result"
   ],
   "outputs": [],
   "metadata": {}
  },
  {
   "cell_type": "code",
   "execution_count": 54,
   "source": [
    "TARGET = 'CashIn'\r\n",
    "X_train, X_test, y_train, y_test = train_test_split(feature_set[feature_set.columns[2:]], feature_set[TARGET])\r\n",
    "\r\n",
    "groups = [one_hots, numericals]\r\n",
    "groups.extend(categoricals)\r\n",
    "train_inputs = get_input_sets(X_train, groups)\r\n",
    "test_inputs  = get_input_sets(X_test, groups)"
   ],
   "outputs": [],
   "metadata": {}
  },
  {
   "cell_type": "markdown",
   "source": [
    "## Building the Model"
   ],
   "metadata": {}
  },
  {
   "cell_type": "markdown",
   "source": [
    "### Preprocessing"
   ],
   "metadata": {}
  },
  {
   "cell_type": "code",
   "execution_count": 55,
   "source": [
    "one_hot_inputs = layers.Input(shape=[len(one_hots)])\r\n",
    "\r\n",
    "numeric_inputs        = layers.Input(shape=[len(numericals)])\r\n",
    "numeric_inputs_normal = layers.LayerNormalization()(numeric_inputs)"
   ],
   "outputs": [],
   "metadata": {}
  },
  {
   "cell_type": "markdown",
   "source": [
    "### Categoricals"
   ],
   "metadata": {}
  },
  {
   "cell_type": "code",
   "execution_count": 56,
   "source": [
    "EMBED_DIM = 16\r\n",
    "\r\n",
    "categorical_inputs = []\r\n",
    "embedding_outputs  = []\r\n",
    "for size in [len(feature_set[categorical].unique()) for categorical in categoricals]:\r\n",
    "    input_layer          = layers.Input(shape=[1])\r\n",
    "    input_layer_embedded = layers.Embedding(input_dim=size, output_dim=EMBED_DIM)(input_layer)\r\n",
    "    categorical_inputs.append(input_layer)\r\n",
    "    embedding_outputs.append(input_layer_embedded)\r\n",
    "\r\n",
    "embeddeds = layers.Concatenate(axis=1)(embedding_outputs)"
   ],
   "outputs": [],
   "metadata": {}
  },
  {
   "cell_type": "markdown",
   "source": [
    "### Transformer"
   ],
   "metadata": {}
  },
  {
   "cell_type": "code",
   "execution_count": 57,
   "source": [
    "class TransformerBlock(layers.Layer):\r\n",
    "    def __init__(self, embed_dim, num_heads, ff_dim, rate=0.1):\r\n",
    "        super(TransformerBlock, self).__init__()\r\n",
    "        self.att = layers.MultiHeadAttention(num_heads=num_heads, key_dim=embed_dim)\r\n",
    "        self.ffn = keras.Sequential(\r\n",
    "            [layers.Dense(ff_dim, activation=\"relu\"), layers.Dense(embed_dim),]\r\n",
    "        )\r\n",
    "        self.layernorm1 = layers.LayerNormalization(epsilon=1e-6)\r\n",
    "        self.layernorm2 = layers.LayerNormalization(epsilon=1e-6)\r\n",
    "        self.dropout1 = layers.Dropout(rate)\r\n",
    "        self.dropout2 = layers.Dropout(rate)\r\n",
    "\r\n",
    "    def call(self, inputs, training):\r\n",
    "        attn_output = self.att(inputs, inputs)\r\n",
    "        attn_output = self.dropout1(attn_output, training=training)\r\n",
    "        out1 = self.layernorm1(inputs + attn_output)\r\n",
    "        ffn_output = self.ffn(out1)\r\n",
    "        ffn_output = self.dropout2(ffn_output, training=training)\r\n",
    "        return self.layernorm2(out1 + ffn_output)"
   ],
   "outputs": [],
   "metadata": {}
  },
  {
   "cell_type": "code",
   "execution_count": 58,
   "source": [
    "HEADS   = 8\r\n",
    "DEPTH   = 6\r\n",
    "\r\n",
    "transformer = embeddeds\r\n",
    "for _ in range(DEPTH):\r\n",
    "    transformer = TransformerBlock(EMBED_DIM, HEADS, EMBED_DIM)(transformer)\r\n",
    "transformer_flat = layers.Flatten()(transformer)"
   ],
   "outputs": [],
   "metadata": {}
  },
  {
   "cell_type": "markdown",
   "source": [
    "### Concatenation"
   ],
   "metadata": {}
  },
  {
   "cell_type": "code",
   "execution_count": 59,
   "source": [
    "concatenated = layers.Concatenate()([one_hot_inputs, numeric_inputs_normal, transformer_flat])"
   ],
   "outputs": [],
   "metadata": {}
  },
  {
   "cell_type": "markdown",
   "source": [
    "### MLP"
   ],
   "metadata": {}
  },
  {
   "cell_type": "code",
   "execution_count": 60,
   "source": [
    "'''\r\n",
    "l = concatenated.shape[1] // 8\r\n",
    "\r\n",
    "MLP_HIDDEN_RATIOS = [4,2,2]\r\n",
    "ACTIVATIONS = ['relu', 'relu', 'selu']\r\n",
    "mlp_layer = concatenated\r\n",
    "for ratio, activation in zip(MLP_HIDDEN_RATIOS, ACTIVATIONS):\r\n",
    "    mlp_layer = layers.Dropout(0.1)(mlp_layer)\r\n",
    "    #mlp_layer = layers.LayerNormalization()(mlp_layer)\r\n",
    "    mlp_layer = layers.Dense(ratio * l, activation=activation)(mlp_layer)\r\n",
    "output_layer = layers.Dense(1)(mlp_layer)\r\n",
    "'''"
   ],
   "outputs": [
    {
     "output_type": "execute_result",
     "data": {
      "text/plain": [
       "\"\\nl = concatenated.shape[1] // 8\\n\\nMLP_HIDDEN_RATIOS = [4,2,2]\\nACTIVATIONS = ['relu', 'relu', 'selu']\\nmlp_layer = concatenated\\nfor ratio, activation in zip(MLP_HIDDEN_RATIOS, ACTIVATIONS):\\n    mlp_layer = layers.Dropout(0.1)(mlp_layer)\\n    #mlp_layer = layers.LayerNormalization()(mlp_layer)\\n    mlp_layer = layers.Dense(ratio * l, activation=activation)(mlp_layer)\\noutput_layer = layers.Dense(1)(mlp_layer)\\n\""
      ]
     },
     "metadata": {},
     "execution_count": 60
    }
   ],
   "metadata": {}
  },
  {
   "cell_type": "code",
   "execution_count": 61,
   "source": [
    "dropout1        = layers.Dropout(0.2)(concatenated)\r\n",
    "normalization1  = layers.LayerNormalization()(dropout1)\r\n",
    "dense1          = layers.Dense(128, activation='relu')(normalization1)\r\n",
    "dropout2        = layers.Dropout(0.2)(dense1)\r\n",
    "normalization2  = layers.LayerNormalization()(dropout2)\r\n",
    "dense2          = layers.Dense(32, activation='relu')(normalization2)\r\n",
    "dropout3        = layers.Dropout(0.2)(dense2)\r\n",
    "normalization3  = layers.LayerNormalization()(dropout3)\r\n",
    "dense3          = layers.Dense(16, activation='selu')(normalization3)\r\n",
    "exponential     = layers.Dense(16, activation='selu')(dense3)\r\n",
    "output_layer    = layers.Dense(1)(exponential)"
   ],
   "outputs": [],
   "metadata": {}
  },
  {
   "cell_type": "code",
   "execution_count": 62,
   "source": [
    "inputs = [one_hot_inputs, numeric_inputs]\r\n",
    "inputs.extend(categorical_inputs)\r\n",
    "model = keras.Model(inputs=inputs, outputs=[output_layer])"
   ],
   "outputs": [],
   "metadata": {}
  },
  {
   "cell_type": "markdown",
   "source": [
    "### Summary"
   ],
   "metadata": {}
  },
  {
   "cell_type": "code",
   "execution_count": 63,
   "source": [
    "model.summary()"
   ],
   "outputs": [
    {
     "output_type": "stream",
     "name": "stdout",
     "text": [
      "Model: \"model_2\"\n",
      "__________________________________________________________________________________________________\n",
      "Layer (type)                    Output Shape         Param #     Connected to                     \n",
      "==================================================================================================\n",
      "input_17 (InputLayer)           [(None, 1)]          0                                            \n",
      "__________________________________________________________________________________________________\n",
      "input_18 (InputLayer)           [(None, 1)]          0                                            \n",
      "__________________________________________________________________________________________________\n",
      "input_19 (InputLayer)           [(None, 1)]          0                                            \n",
      "__________________________________________________________________________________________________\n",
      "input_20 (InputLayer)           [(None, 1)]          0                                            \n",
      "__________________________________________________________________________________________________\n",
      "input_21 (InputLayer)           [(None, 1)]          0                                            \n",
      "__________________________________________________________________________________________________\n",
      "embedding_10 (Embedding)        (None, 1, 16)        112         input_17[0][0]                   \n",
      "__________________________________________________________________________________________________\n",
      "embedding_11 (Embedding)        (None, 1, 16)        496         input_18[0][0]                   \n",
      "__________________________________________________________________________________________________\n",
      "embedding_12 (Embedding)        (None, 1, 16)        864         input_19[0][0]                   \n",
      "__________________________________________________________________________________________________\n",
      "embedding_13 (Embedding)        (None, 1, 16)        80          input_20[0][0]                   \n",
      "__________________________________________________________________________________________________\n",
      "embedding_14 (Embedding)        (None, 1, 16)        32          input_21[0][0]                   \n",
      "__________________________________________________________________________________________________\n",
      "concatenate_4 (Concatenate)     (None, 5, 16)        0           embedding_10[0][0]               \n",
      "                                                                 embedding_11[0][0]               \n",
      "                                                                 embedding_12[0][0]               \n",
      "                                                                 embedding_13[0][0]               \n",
      "                                                                 embedding_14[0][0]               \n",
      "__________________________________________________________________________________________________\n",
      "transformer_block_12 (Transform (None, 5, 16)        9200        concatenate_4[0][0]              \n",
      "__________________________________________________________________________________________________\n",
      "transformer_block_13 (Transform (None, 5, 16)        9200        transformer_block_12[0][0]       \n",
      "__________________________________________________________________________________________________\n",
      "transformer_block_14 (Transform (None, 5, 16)        9200        transformer_block_13[0][0]       \n",
      "__________________________________________________________________________________________________\n",
      "transformer_block_15 (Transform (None, 5, 16)        9200        transformer_block_14[0][0]       \n",
      "__________________________________________________________________________________________________\n",
      "transformer_block_16 (Transform (None, 5, 16)        9200        transformer_block_15[0][0]       \n",
      "__________________________________________________________________________________________________\n",
      "input_16 (InputLayer)           [(None, 60)]         0                                            \n",
      "__________________________________________________________________________________________________\n",
      "transformer_block_17 (Transform (None, 5, 16)        9200        transformer_block_16[0][0]       \n",
      "__________________________________________________________________________________________________\n",
      "input_15 (InputLayer)           [(None, 0)]          0                                            \n",
      "__________________________________________________________________________________________________\n",
      "layer_normalization_29 (LayerNo (None, 60)           120         input_16[0][0]                   \n",
      "__________________________________________________________________________________________________\n",
      "flatten_4 (Flatten)             (None, 80)           0           transformer_block_17[0][0]       \n",
      "__________________________________________________________________________________________________\n",
      "concatenate_5 (Concatenate)     (None, 140)          0           input_15[0][0]                   \n",
      "                                                                 layer_normalization_29[0][0]     \n",
      "                                                                 flatten_4[0][0]                  \n",
      "__________________________________________________________________________________________________\n",
      "dropout_42 (Dropout)            (None, 140)          0           concatenate_5[0][0]              \n",
      "__________________________________________________________________________________________________\n",
      "layer_normalization_42 (LayerNo (None, 140)          280         dropout_42[0][0]                 \n",
      "__________________________________________________________________________________________________\n",
      "dense_45 (Dense)                (None, 128)          18048       layer_normalization_42[0][0]     \n",
      "__________________________________________________________________________________________________\n",
      "dropout_43 (Dropout)            (None, 128)          0           dense_45[0][0]                   \n",
      "__________________________________________________________________________________________________\n",
      "layer_normalization_43 (LayerNo (None, 128)          256         dropout_43[0][0]                 \n",
      "__________________________________________________________________________________________________\n",
      "dense_46 (Dense)                (None, 32)           4128        layer_normalization_43[0][0]     \n",
      "__________________________________________________________________________________________________\n",
      "dropout_44 (Dropout)            (None, 32)           0           dense_46[0][0]                   \n",
      "__________________________________________________________________________________________________\n",
      "layer_normalization_44 (LayerNo (None, 32)           64          dropout_44[0][0]                 \n",
      "__________________________________________________________________________________________________\n",
      "dense_47 (Dense)                (None, 16)           528         layer_normalization_44[0][0]     \n",
      "__________________________________________________________________________________________________\n",
      "dense_48 (Dense)                (None, 16)           272         dense_47[0][0]                   \n",
      "__________________________________________________________________________________________________\n",
      "dense_49 (Dense)                (None, 1)            17          dense_48[0][0]                   \n",
      "==================================================================================================\n",
      "Total params: 80,497\n",
      "Trainable params: 80,497\n",
      "Non-trainable params: 0\n",
      "__________________________________________________________________________________________________\n"
     ]
    }
   ],
   "metadata": {}
  },
  {
   "cell_type": "markdown",
   "source": [
    "## Training"
   ],
   "metadata": {}
  },
  {
   "cell_type": "code",
   "execution_count": 64,
   "source": [
    "model.compile(\r\n",
    "    optimizer=tf.optimizers.Adam(learning_rate=0.01),\r\n",
    "    loss='mape')"
   ],
   "outputs": [],
   "metadata": {}
  },
  {
   "cell_type": "code",
   "execution_count": 65,
   "source": [
    "history = model.fit(train_inputs, \r\n",
    "            y_train,\r\n",
    "            batch_size=64,\r\n",
    "            epochs=100,\r\n",
    "            validation_data=(test_inputs, y_test),\r\n",
    "            verbose = 1)"
   ],
   "outputs": [
    {
     "output_type": "stream",
     "name": "stdout",
     "text": [
      "Epoch 1/100\n",
      "19/19 [==============================] - 8s 96ms/step - loss: 99.9705 - val_loss: 99.8316\n",
      "Epoch 2/100\n",
      "19/19 [==============================] - 1s 33ms/step - loss: 99.7276 - val_loss: 99.0372\n",
      "Epoch 3/100\n",
      "19/19 [==============================] - 1s 34ms/step - loss: 99.0116 - val_loss: 97.0182\n",
      "Epoch 4/100\n",
      "19/19 [==============================] - 1s 31ms/step - loss: 96.9387 - val_loss: 90.2218\n",
      "Epoch 5/100\n",
      "19/19 [==============================] - 1s 29ms/step - loss: 91.3854 - val_loss: 75.3588\n",
      "Epoch 6/100\n",
      "19/19 [==============================] - 1s 29ms/step - loss: 83.3543 - val_loss: 57.5633\n",
      "Epoch 7/100\n",
      "19/19 [==============================] - 1s 28ms/step - loss: 81.5426 - val_loss: 44.3252\n",
      "Epoch 8/100\n",
      "19/19 [==============================] - 1s 28ms/step - loss: 83.6432 - val_loss: 39.6256\n",
      "Epoch 9/100\n",
      "19/19 [==============================] - 1s 28ms/step - loss: 56.7819 - val_loss: 42.1081\n",
      "Epoch 10/100\n",
      "19/19 [==============================] - 1s 28ms/step - loss: 68.0039 - val_loss: 39.8325\n",
      "Epoch 11/100\n",
      "19/19 [==============================] - 1s 35ms/step - loss: 79.1461 - val_loss: 39.9988\n",
      "Epoch 12/100\n",
      "19/19 [==============================] - 1s 33ms/step - loss: 69.4212 - val_loss: 40.2409\n",
      "Epoch 13/100\n",
      "19/19 [==============================] - 1s 32ms/step - loss: 74.6180 - val_loss: 39.6862\n",
      "Epoch 14/100\n",
      "19/19 [==============================] - 1s 34ms/step - loss: 64.7929 - val_loss: 38.4362\n",
      "Epoch 15/100\n",
      "19/19 [==============================] - 1s 31ms/step - loss: 79.8872 - val_loss: 39.0677\n",
      "Epoch 16/100\n",
      "19/19 [==============================] - 1s 31ms/step - loss: 53.2084 - val_loss: 37.8517\n",
      "Epoch 17/100\n",
      "19/19 [==============================] - 1s 30ms/step - loss: 51.9120 - val_loss: 38.9951\n",
      "Epoch 18/100\n",
      "19/19 [==============================] - 1s 31ms/step - loss: 50.2244 - val_loss: 39.2614\n",
      "Epoch 19/100\n",
      "19/19 [==============================] - 1s 33ms/step - loss: 52.3159 - val_loss: 41.4479\n",
      "Epoch 20/100\n",
      "19/19 [==============================] - 1s 30ms/step - loss: 49.6665 - val_loss: 43.4550\n",
      "Epoch 21/100\n",
      "19/19 [==============================] - 1s 31ms/step - loss: 45.9717 - val_loss: 45.2863\n",
      "Epoch 22/100\n",
      "19/19 [==============================] - 1s 32ms/step - loss: 44.0992 - val_loss: 40.9369\n",
      "Epoch 23/100\n",
      "19/19 [==============================] - 1s 31ms/step - loss: 50.3243 - val_loss: 43.2141\n",
      "Epoch 24/100\n",
      "19/19 [==============================] - 1s 31ms/step - loss: 46.4044 - val_loss: 47.5565\n",
      "Epoch 25/100\n",
      "19/19 [==============================] - 1s 34ms/step - loss: 44.9888 - val_loss: 43.3836\n",
      "Epoch 26/100\n",
      "19/19 [==============================] - 1s 31ms/step - loss: 45.9098 - val_loss: 41.9129\n",
      "Epoch 27/100\n",
      "19/19 [==============================] - 1s 30ms/step - loss: 38.4938 - val_loss: 44.0026\n",
      "Epoch 28/100\n",
      "19/19 [==============================] - 1s 32ms/step - loss: 40.3631 - val_loss: 42.7675\n",
      "Epoch 29/100\n",
      "19/19 [==============================] - 1s 31ms/step - loss: 40.9484 - val_loss: 45.0441\n",
      "Epoch 30/100\n",
      "19/19 [==============================] - 1s 31ms/step - loss: 37.9324 - val_loss: 44.6071\n",
      "Epoch 31/100\n",
      "19/19 [==============================] - 1s 31ms/step - loss: 36.5544 - val_loss: 45.1301\n",
      "Epoch 32/100\n",
      "19/19 [==============================] - 1s 31ms/step - loss: 37.1552 - val_loss: 46.4886\n",
      "Epoch 33/100\n",
      "19/19 [==============================] - 1s 30ms/step - loss: 36.1983 - val_loss: 49.2718\n",
      "Epoch 34/100\n",
      "19/19 [==============================] - 1s 31ms/step - loss: 36.9601 - val_loss: 44.0838\n",
      "Epoch 35/100\n",
      "19/19 [==============================] - 1s 30ms/step - loss: 39.8891 - val_loss: 48.0372\n",
      "Epoch 36/100\n",
      "19/19 [==============================] - 1s 31ms/step - loss: 36.8594 - val_loss: 45.2665\n",
      "Epoch 37/100\n",
      "19/19 [==============================] - 1s 30ms/step - loss: 37.9942 - val_loss: 45.5891\n",
      "Epoch 38/100\n",
      "19/19 [==============================] - 1s 32ms/step - loss: 36.1139 - val_loss: 46.2085\n",
      "Epoch 39/100\n",
      "19/19 [==============================] - 1s 31ms/step - loss: 37.6896 - val_loss: 46.1602\n",
      "Epoch 40/100\n",
      "19/19 [==============================] - 1s 32ms/step - loss: 34.5755 - val_loss: 43.9686\n",
      "Epoch 41/100\n",
      "19/19 [==============================] - 1s 31ms/step - loss: 37.0357 - val_loss: 52.0398\n",
      "Epoch 42/100\n",
      "19/19 [==============================] - 1s 33ms/step - loss: 36.0384 - val_loss: 42.4333\n",
      "Epoch 43/100\n",
      "19/19 [==============================] - 1s 31ms/step - loss: 36.0684 - val_loss: 52.6805\n",
      "Epoch 44/100\n",
      "19/19 [==============================] - 1s 31ms/step - loss: 33.6200 - val_loss: 44.4130\n",
      "Epoch 45/100\n",
      "19/19 [==============================] - 1s 36ms/step - loss: 36.3391 - val_loss: 43.0802\n",
      "Epoch 46/100\n",
      "19/19 [==============================] - 1s 31ms/step - loss: 39.7609 - val_loss: 55.2501\n",
      "Epoch 47/100\n",
      "19/19 [==============================] - 1s 32ms/step - loss: 38.6679 - val_loss: 45.9315\n",
      "Epoch 48/100\n",
      "19/19 [==============================] - 1s 31ms/step - loss: 37.0173 - val_loss: 46.9239\n",
      "Epoch 49/100\n",
      "19/19 [==============================] - 1s 32ms/step - loss: 34.0415 - val_loss: 46.3981\n",
      "Epoch 50/100\n",
      "19/19 [==============================] - 1s 31ms/step - loss: 35.8494 - val_loss: 48.6614\n",
      "Epoch 51/100\n",
      "19/19 [==============================] - 1s 30ms/step - loss: 35.4822 - val_loss: 45.6988\n",
      "Epoch 52/100\n",
      "19/19 [==============================] - 1s 31ms/step - loss: 34.8681 - val_loss: 45.1430\n",
      "Epoch 53/100\n",
      "19/19 [==============================] - 1s 35ms/step - loss: 33.1022 - val_loss: 49.1675\n",
      "Epoch 54/100\n",
      "19/19 [==============================] - 1s 30ms/step - loss: 37.0693 - val_loss: 47.8286\n",
      "Epoch 55/100\n",
      "19/19 [==============================] - 1s 30ms/step - loss: 32.9088 - val_loss: 44.8475\n",
      "Epoch 56/100\n",
      "19/19 [==============================] - 1s 31ms/step - loss: 35.3141 - val_loss: 48.2226\n",
      "Epoch 57/100\n",
      "19/19 [==============================] - 1s 32ms/step - loss: 34.8116 - val_loss: 52.5132\n",
      "Epoch 58/100\n",
      "19/19 [==============================] - 1s 30ms/step - loss: 33.0367 - val_loss: 48.4229\n",
      "Epoch 59/100\n",
      "19/19 [==============================] - 1s 31ms/step - loss: 34.0567 - val_loss: 48.3779\n",
      "Epoch 60/100\n",
      "19/19 [==============================] - 1s 31ms/step - loss: 35.5070 - val_loss: 48.8271\n",
      "Epoch 61/100\n",
      "19/19 [==============================] - 1s 30ms/step - loss: 34.2544 - val_loss: 48.3406\n",
      "Epoch 62/100\n",
      "19/19 [==============================] - 1s 32ms/step - loss: 33.1345 - val_loss: 47.8134\n",
      "Epoch 63/100\n",
      "19/19 [==============================] - 1s 31ms/step - loss: 32.3672 - val_loss: 50.3484\n",
      "Epoch 64/100\n",
      "19/19 [==============================] - 1s 30ms/step - loss: 33.1477 - val_loss: 48.8545\n",
      "Epoch 65/100\n",
      "19/19 [==============================] - 1s 31ms/step - loss: 32.3787 - val_loss: 48.2741\n",
      "Epoch 66/100\n",
      "19/19 [==============================] - 1s 31ms/step - loss: 34.2236 - val_loss: 46.6804\n",
      "Epoch 67/100\n",
      "19/19 [==============================] - 1s 34ms/step - loss: 32.7356 - val_loss: 46.1791\n",
      "Epoch 68/100\n",
      "19/19 [==============================] - 1s 30ms/step - loss: 32.5434 - val_loss: 49.0687\n",
      "Epoch 69/100\n",
      "19/19 [==============================] - 1s 31ms/step - loss: 31.3737 - val_loss: 45.5028\n",
      "Epoch 70/100\n",
      "19/19 [==============================] - 1s 31ms/step - loss: 31.3483 - val_loss: 51.9929\n",
      "Epoch 71/100\n",
      "19/19 [==============================] - 1s 31ms/step - loss: 32.2136 - val_loss: 44.7816\n",
      "Epoch 72/100\n",
      "19/19 [==============================] - 1s 34ms/step - loss: 32.3886 - val_loss: 48.0215\n",
      "Epoch 73/100\n",
      "19/19 [==============================] - 1s 31ms/step - loss: 31.5566 - val_loss: 47.0217\n",
      "Epoch 74/100\n",
      "19/19 [==============================] - 1s 31ms/step - loss: 32.1893 - val_loss: 54.7988\n",
      "Epoch 75/100\n",
      "19/19 [==============================] - 1s 31ms/step - loss: 32.2126 - val_loss: 41.5134\n",
      "Epoch 76/100\n",
      "19/19 [==============================] - 1s 31ms/step - loss: 32.9599 - val_loss: 52.7381\n",
      "Epoch 77/100\n",
      "19/19 [==============================] - 1s 31ms/step - loss: 36.4468 - val_loss: 46.6782\n",
      "Epoch 78/100\n",
      "19/19 [==============================] - 1s 35ms/step - loss: 35.2203 - val_loss: 47.5688\n",
      "Epoch 79/100\n",
      "19/19 [==============================] - 1s 32ms/step - loss: 33.0312 - val_loss: 48.4963\n",
      "Epoch 80/100\n",
      "19/19 [==============================] - 1s 31ms/step - loss: 31.8500 - val_loss: 49.9129\n",
      "Epoch 81/100\n",
      "19/19 [==============================] - 1s 32ms/step - loss: 31.8838 - val_loss: 49.0187\n",
      "Epoch 82/100\n",
      "19/19 [==============================] - 1s 30ms/step - loss: 32.2713 - val_loss: 49.7933\n",
      "Epoch 83/100\n",
      "19/19 [==============================] - 1s 31ms/step - loss: 34.5799 - val_loss: 48.1320\n",
      "Epoch 84/100\n",
      "19/19 [==============================] - 1s 31ms/step - loss: 33.8435 - val_loss: 55.8399\n",
      "Epoch 85/100\n",
      "19/19 [==============================] - 1s 31ms/step - loss: 31.0822 - val_loss: 49.4827\n",
      "Epoch 86/100\n",
      "19/19 [==============================] - 1s 31ms/step - loss: 30.2864 - val_loss: 50.0374\n",
      "Epoch 87/100\n",
      "19/19 [==============================] - 1s 31ms/step - loss: 30.9365 - val_loss: 52.1286\n",
      "Epoch 88/100\n",
      "19/19 [==============================] - 1s 33ms/step - loss: 30.2084 - val_loss: 51.2300\n",
      "Epoch 89/100\n",
      "19/19 [==============================] - 1s 33ms/step - loss: 30.5122 - val_loss: 49.6570\n",
      "Epoch 90/100\n",
      "19/19 [==============================] - 1s 32ms/step - loss: 30.4054 - val_loss: 51.4150\n",
      "Epoch 91/100\n",
      "19/19 [==============================] - 1s 31ms/step - loss: 30.3242 - val_loss: 53.6572\n",
      "Epoch 92/100\n",
      "19/19 [==============================] - 1s 31ms/step - loss: 31.6524 - val_loss: 48.0270\n",
      "Epoch 93/100\n",
      "19/19 [==============================] - 1s 31ms/step - loss: 30.6196 - val_loss: 44.8704\n",
      "Epoch 94/100\n",
      "19/19 [==============================] - 1s 35ms/step - loss: 30.3994 - val_loss: 53.2530\n",
      "Epoch 95/100\n",
      "19/19 [==============================] - 1s 32ms/step - loss: 32.3550 - val_loss: 45.7276\n",
      "Epoch 96/100\n",
      "19/19 [==============================] - 1s 31ms/step - loss: 29.9250 - val_loss: 52.8875\n",
      "Epoch 97/100\n",
      "19/19 [==============================] - 1s 32ms/step - loss: 30.5736 - val_loss: 51.9515\n",
      "Epoch 98/100\n",
      "19/19 [==============================] - 1s 32ms/step - loss: 30.3687 - val_loss: 50.1721\n",
      "Epoch 99/100\n",
      "19/19 [==============================] - 1s 32ms/step - loss: 30.2976 - val_loss: 48.2569\n",
      "Epoch 100/100\n",
      "19/19 [==============================] - 1s 32ms/step - loss: 31.8161 - val_loss: 51.8045\n"
     ]
    }
   ],
   "metadata": {}
  },
  {
   "cell_type": "code",
   "execution_count": 66,
   "source": [
    "def plot_history(history):\r\n",
    "    plt.figure(figsize=(10,4))\r\n",
    "    for key in history.history:\r\n",
    "        plt.plot(history.history[key][3:], label = key)\r\n",
    "    plt.legend()\r\n",
    "    plt.show()"
   ],
   "outputs": [],
   "metadata": {}
  },
  {
   "cell_type": "code",
   "execution_count": 69,
   "source": [
    "plot_history(history)"
   ],
   "outputs": [
    {
     "output_type": "display_data",
     "data": {
      "text/plain": [
       "<Figure size 720x288 with 1 Axes>"
      ],
      "image/png": "[encoded data removed]"
     },
     "metadata": {
      "needs_background": "light"
     }
    }
   ],
   "metadata": {}
  },
  {
   "cell_type": "code",
   "execution_count": 70,
   "source": [
    "\"min_loss: %.4f, min_val_loss: %.4f\" % (min(history.history['loss']), min(history.history['val_loss']))"
   ],
   "outputs": [
    {
     "output_type": "execute_result",
     "data": {
      "text/plain": [
       "'min_loss: 29.5939, min_val_loss: 37.8517'"
      ]
     },
     "metadata": {},
     "execution_count": 70
    }
   ],
   "metadata": {}
  },
  {
   "cell_type": "markdown",
   "source": [
    "### Comparing with Previous Methods\r\n",
    "\r\n",
    "| Model | Train Error | Test Error | All Set Error |\r\n",
    "| - | - | - | - |\r\n",
    "| Base | - | - | 78.8 |\r\n",
    "| Random Forest | 23.9 | 47.0 | - |\r\n",
    "| LGBM | - | 48.7 | - |\r\n",
    "| TF Custom RNN | - | - | 70.7 |\r\n",
    "| Keras, PP + Dense (with one dropout layer) | 21.7 | 37.8 | - |\r\n",
    "| Keras, PP + Dense (with two dropout layers) | 25.3 | 36.9 | - |\r\n",
    "| Keras, PP + Dense [1] | 18.9 | 35.5 | - |\r\n",
    "| Keras, PP + Dense [2] | 18.5 | 34.7 | - |\r\n",
    "| Keras, PP + Transformer + Dense [2] | 29.6 | 37.8 | - |\r\n",
    "\r\n",
    "* [1]: dropout, layer-norm, dense (128, relu), dropout, layer-norm, dense (32, relu), dense (16, relu), dense (16, **selu**), dense (1)\r\n",
    "* [2]: dropout, layer-norm, dense (128, relu), dropout, layer-norm, dense (32, relu), dropout, layer-norm, dense (16, **selu**), dense (16, **selu**), dense (1)"
   ],
   "metadata": {}
  },
  {
   "cell_type": "code",
   "execution_count": null,
   "source": [],
   "outputs": [],
   "metadata": {}
  }
 ],
 "metadata": {
  "orig_nbformat": 4,
  "language_info": {
   "name": "python"
  }
 },
 "nbformat": 4,
 "nbformat_minor": 2
}