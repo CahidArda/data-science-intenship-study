{
 "cells": [
  {
   "cell_type": "markdown",
   "source": [
    "# Using TF Implementation of RNN to Make Predictions"
   ],
   "metadata": {}
  },
  {
   "cell_type": "code",
   "execution_count": 4,
   "source": [
    "import matplotlib.pyplot as plt\r\n",
    "\r\n",
    "sys.path.append(r'../atm_demand')\r\n",
    "from feature_generation import *\r\n",
    "\r\n",
    "from sklearn.model_selection import train_test_split\r\n",
    "\r\n",
    "import numpy as np\r\n",
    "import tensorflow as tf\r\n",
    "from tensorflow import keras\r\n",
    "from tensorflow.keras import layers"
   ],
   "outputs": [],
   "metadata": {}
  },
  {
   "cell_type": "markdown",
   "source": [
    "## Importing Data"
   ],
   "metadata": {}
  },
  {
   "cell_type": "code",
   "execution_count": 35,
   "source": [
    "df = pd.read_csv(\"../atm_demand/DATA_sample_atm.csv\")\r\n",
    "targets = ['CashIn', 'CashOut']\r\n",
    "atm_df = get_atm(df, 26637)\r\n",
    "atm_df = atm_df[:-135]\r\n",
    "atm_df = clean_data(atm_df, drop_zeros=True)\r\n",
    "feature_set = get_feature_sets(atm_df, ['CashIn', 'CashOut'])"
   ],
   "outputs": [],
   "metadata": {}
  },
  {
   "cell_type": "code",
   "execution_count": 36,
   "source": [
    "plt.plot(atm_df['CashIn'])"
   ],
   "outputs": [
    {
     "output_type": "execute_result",
     "data": {
      "text/plain": [
       "[<matplotlib.lines.Line2D at 0x22d827f4e48>]"
      ]
     },
     "metadata": {},
     "execution_count": 36
    },
    {
     "output_type": "display_data",
     "data": {
      "text/plain": [
       "<Figure size 432x288 with 1 Axes>"
      ],
      "image/png": "[encoded data removed]"
     },
     "metadata": {
      "needs_background": "light"
     }
    }
   ],
   "metadata": {}
  },
  {
   "cell_type": "code",
   "execution_count": 37,
   "source": [
    "TARGET = 'CashIn'\r\n",
    "X_train, X_test, y_train, y_test = train_test_split(feature_set[feature_set.columns[2:]], feature_set[TARGET], shuffle = False)"
   ],
   "outputs": [],
   "metadata": {}
  },
  {
   "cell_type": "code",
   "execution_count": 38,
   "source": [
    "def get_input_sets(df, feature_groups):\r\n",
    "    set_of_features = []\r\n",
    "    for group in feature_groups:\r\n",
    "        set_of_features.append(df[group])\r\n",
    "    return set_of_features"
   ],
   "outputs": [],
   "metadata": {}
  },
  {
   "cell_type": "markdown",
   "source": [
    "## Baseline Score\r\n",
    "\r\n",
    "I will begin with training a model using past n days of CashIn as input"
   ],
   "metadata": {}
  },
  {
   "cell_type": "code",
   "execution_count": 39,
   "source": [
    "N_TIMESTEPS = 14\r\n",
    "feature_groups = [['%s_t-%d'%(TARGET, i)for i in range(1,N_TIMESTEPS + 1)]]\r\n",
    "\r\n",
    "train_inputs = get_input_sets(X_train, feature_groups)\r\n",
    "test_inputs  = get_input_sets(X_test, feature_groups)"
   ],
   "outputs": [],
   "metadata": {}
  },
  {
   "cell_type": "code",
   "execution_count": 60,
   "source": [
    "# inputs shape = [batch, timesteps, feature]\r\n",
    "BATCH = 64\r\n",
    "base_input   = layers.Input(shape=(N_TIMESTEPS, 1))\r\n",
    "base_rnn     = layers.SimpleRNN(32)(base_input)\r\n",
    "base_dropout = layers.Dropout(0.1)(base_rnn)\r\n",
    "base_dense1  = layers.Dense(16)(base_dropout)\r\n",
    "base_output  = layers.Dense(1)(base_dense1)\r\n",
    "\r\n",
    "base_model = keras.Model(inputs=[base_input], outputs = [base_output])\r\n",
    "base_model.summary()"
   ],
   "outputs": [
    {
     "output_type": "stream",
     "name": "stdout",
     "text": [
      "Model: \"functional_19\"\n",
      "_________________________________________________________________\n",
      "Layer (type)                 Output Shape              Param #   \n",
      "=================================================================\n",
      "input_11 (InputLayer)        [(None, 14, 1)]           0         \n",
      "_________________________________________________________________\n",
      "simple_rnn_10 (SimpleRNN)    (None, 32)                1088      \n",
      "_________________________________________________________________\n",
      "dropout_4 (Dropout)          (None, 32)                0         \n",
      "_________________________________________________________________\n",
      "dense_20 (Dense)             (None, 16)                528       \n",
      "_________________________________________________________________\n",
      "dense_21 (Dense)             (None, 1)                 17        \n",
      "=================================================================\n",
      "Total params: 1,633\n",
      "Trainable params: 1,633\n",
      "Non-trainable params: 0\n",
      "_________________________________________________________________\n"
     ]
    }
   ],
   "metadata": {}
  },
  {
   "cell_type": "code",
   "execution_count": 61,
   "source": [
    "base_model.compile(\r\n",
    "    optimizer=tf.optimizers.Adam(learning_rate=0.1),\r\n",
    "    loss='mape')"
   ],
   "outputs": [],
   "metadata": {}
  },
  {
   "cell_type": "code",
   "execution_count": 62,
   "source": [
    "history = base_model.fit(train_inputs, \r\n",
    "            y_train,\r\n",
    "            batch_size=32,\r\n",
    "            epochs=100,\r\n",
    "            validation_data=(test_inputs, y_test),\r\n",
    "            verbose = 1)"
   ],
   "outputs": [
    {
     "output_type": "stream",
     "name": "stdout",
     "text": [
      "Epoch 1/100\n",
      "34/34 [==============================] - 0s 8ms/step - loss: 97.5246 - val_loss: 89.4400\n",
      "Epoch 2/100\n",
      "34/34 [==============================] - 0s 2ms/step - loss: 86.4584 - val_loss: 65.5983\n",
      "Epoch 3/100\n",
      "34/34 [==============================] - 0s 2ms/step - loss: 76.4036 - val_loss: 47.0460\n",
      "Epoch 4/100\n",
      "34/34 [==============================] - 0s 2ms/step - loss: 69.7310 - val_loss: 41.4247\n",
      "Epoch 5/100\n",
      "34/34 [==============================] - 0s 2ms/step - loss: 70.8540 - val_loss: 40.0485\n",
      "Epoch 6/100\n",
      "34/34 [==============================] - 0s 2ms/step - loss: 69.1462 - val_loss: 39.8992\n",
      "Epoch 7/100\n",
      "34/34 [==============================] - 0s 2ms/step - loss: 68.4968 - val_loss: 39.6359\n",
      "Epoch 8/100\n",
      "34/34 [==============================] - 0s 3ms/step - loss: 68.7542 - val_loss: 39.3597\n",
      "Epoch 9/100\n",
      "34/34 [==============================] - 0s 3ms/step - loss: 69.2970 - val_loss: 39.3135\n",
      "Epoch 10/100\n",
      "34/34 [==============================] - 0s 3ms/step - loss: 69.2881 - val_loss: 39.5634\n",
      "Epoch 11/100\n",
      "34/34 [==============================] - 0s 3ms/step - loss: 68.4842 - val_loss: 39.1416\n",
      "Epoch 12/100\n",
      "34/34 [==============================] - 0s 2ms/step - loss: 69.3408 - val_loss: 39.1242\n",
      "Epoch 13/100\n",
      "34/34 [==============================] - 0s 3ms/step - loss: 70.4145 - val_loss: 40.6983\n",
      "Epoch 14/100\n",
      "34/34 [==============================] - 0s 3ms/step - loss: 68.8001 - val_loss: 39.8831\n",
      "Epoch 15/100\n",
      "34/34 [==============================] - 0s 3ms/step - loss: 69.9095 - val_loss: 39.8471\n",
      "Epoch 16/100\n",
      "34/34 [==============================] - 0s 3ms/step - loss: 70.0321 - val_loss: 39.5032\n",
      "Epoch 17/100\n",
      "34/34 [==============================] - 0s 3ms/step - loss: 69.9227 - val_loss: 39.7078\n",
      "Epoch 18/100\n",
      "34/34 [==============================] - 0s 2ms/step - loss: 69.0388 - val_loss: 40.1259\n",
      "Epoch 19/100\n",
      "34/34 [==============================] - 0s 2ms/step - loss: 69.8903 - val_loss: 39.7654\n",
      "Epoch 20/100\n",
      "34/34 [==============================] - 0s 2ms/step - loss: 70.0170 - val_loss: 40.0854\n",
      "Epoch 21/100\n",
      "34/34 [==============================] - 0s 3ms/step - loss: 69.8759 - val_loss: 39.4279\n",
      "Epoch 22/100\n",
      "34/34 [==============================] - 0s 3ms/step - loss: 70.7617 - val_loss: 40.2031\n",
      "Epoch 23/100\n",
      "34/34 [==============================] - 0s 3ms/step - loss: 68.0192 - val_loss: 39.7367\n",
      "Epoch 24/100\n",
      "34/34 [==============================] - 0s 3ms/step - loss: 70.7940 - val_loss: 39.4286\n",
      "Epoch 25/100\n",
      "34/34 [==============================] - 0s 3ms/step - loss: 68.5988 - val_loss: 39.5498\n",
      "Epoch 26/100\n",
      "34/34 [==============================] - 0s 3ms/step - loss: 69.0257 - val_loss: 39.7222\n",
      "Epoch 27/100\n",
      "34/34 [==============================] - 0s 2ms/step - loss: 69.5396 - val_loss: 40.1506\n",
      "Epoch 28/100\n",
      "34/34 [==============================] - 0s 5ms/step - loss: 68.5535 - val_loss: 39.9146\n",
      "Epoch 29/100\n",
      "34/34 [==============================] - 0s 3ms/step - loss: 70.2872 - val_loss: 39.6842\n",
      "Epoch 30/100\n",
      "34/34 [==============================] - 0s 3ms/step - loss: 68.3613 - val_loss: 39.4050\n",
      "Epoch 31/100\n",
      "34/34 [==============================] - 0s 3ms/step - loss: 68.3183 - val_loss: 39.3897\n",
      "Epoch 32/100\n",
      "34/34 [==============================] - 0s 3ms/step - loss: 69.5907 - val_loss: 39.5498\n",
      "Epoch 33/100\n",
      "34/34 [==============================] - 0s 2ms/step - loss: 70.2400 - val_loss: 39.3568\n",
      "Epoch 34/100\n",
      "34/34 [==============================] - 0s 2ms/step - loss: 70.3314 - val_loss: 39.4560\n",
      "Epoch 35/100\n",
      "34/34 [==============================] - 0s 2ms/step - loss: 70.7604 - val_loss: 41.2063\n",
      "Epoch 36/100\n",
      "34/34 [==============================] - 0s 2ms/step - loss: 68.7013 - val_loss: 39.2547\n",
      "Epoch 37/100\n",
      "34/34 [==============================] - 0s 3ms/step - loss: 67.6468 - val_loss: 40.4631\n",
      "Epoch 38/100\n",
      "34/34 [==============================] - 0s 2ms/step - loss: 69.5198 - val_loss: 40.1221\n",
      "Epoch 39/100\n",
      "34/34 [==============================] - 0s 2ms/step - loss: 70.2457 - val_loss: 39.8364\n",
      "Epoch 40/100\n",
      "34/34 [==============================] - 0s 3ms/step - loss: 67.4023 - val_loss: 39.9723\n",
      "Epoch 41/100\n",
      "34/34 [==============================] - 0s 2ms/step - loss: 69.9575 - val_loss: 39.1345\n",
      "Epoch 42/100\n",
      "34/34 [==============================] - 0s 2ms/step - loss: 68.1227 - val_loss: 40.4515\n",
      "Epoch 43/100\n",
      "34/34 [==============================] - 0s 2ms/step - loss: 68.8216 - val_loss: 39.8969\n",
      "Epoch 44/100\n",
      "34/34 [==============================] - 0s 2ms/step - loss: 69.3269 - val_loss: 39.5402\n",
      "Epoch 45/100\n",
      "34/34 [==============================] - 0s 3ms/step - loss: 70.1100 - val_loss: 39.6048\n",
      "Epoch 46/100\n",
      "34/34 [==============================] - 0s 3ms/step - loss: 71.2958 - val_loss: 39.7134\n",
      "Epoch 47/100\n",
      "34/34 [==============================] - 0s 2ms/step - loss: 69.4264 - val_loss: 39.7938\n",
      "Epoch 48/100\n",
      "34/34 [==============================] - 0s 3ms/step - loss: 69.0831 - val_loss: 39.6510\n",
      "Epoch 49/100\n",
      "34/34 [==============================] - 0s 3ms/step - loss: 70.0058 - val_loss: 39.5830\n",
      "Epoch 50/100\n",
      "34/34 [==============================] - 0s 3ms/step - loss: 69.6517 - val_loss: 39.0908\n",
      "Epoch 51/100\n",
      "34/34 [==============================] - 0s 3ms/step - loss: 68.3031 - val_loss: 40.1477\n",
      "Epoch 52/100\n",
      "34/34 [==============================] - 0s 3ms/step - loss: 69.4991 - val_loss: 39.8615\n",
      "Epoch 53/100\n",
      "34/34 [==============================] - 0s 3ms/step - loss: 69.2786 - val_loss: 40.1012\n",
      "Epoch 54/100\n",
      "34/34 [==============================] - 0s 3ms/step - loss: 69.5020 - val_loss: 40.0330\n",
      "Epoch 55/100\n",
      "34/34 [==============================] - 0s 3ms/step - loss: 70.6940 - val_loss: 39.3890\n",
      "Epoch 56/100\n",
      "34/34 [==============================] - 0s 3ms/step - loss: 68.1393 - val_loss: 39.7965\n",
      "Epoch 57/100\n",
      "34/34 [==============================] - 0s 2ms/step - loss: 69.8437 - val_loss: 40.1968\n",
      "Epoch 58/100\n",
      "34/34 [==============================] - 0s 2ms/step - loss: 70.7862 - val_loss: 39.5788\n",
      "Epoch 59/100\n",
      "34/34 [==============================] - 0s 3ms/step - loss: 68.7946 - val_loss: 40.4247\n",
      "Epoch 60/100\n",
      "34/34 [==============================] - 0s 3ms/step - loss: 68.7285 - val_loss: 39.9264\n",
      "Epoch 61/100\n",
      "34/34 [==============================] - 0s 3ms/step - loss: 69.9731 - val_loss: 39.2484\n",
      "Epoch 62/100\n",
      "34/34 [==============================] - 0s 2ms/step - loss: 69.6921 - val_loss: 40.1431\n",
      "Epoch 63/100\n",
      "34/34 [==============================] - 0s 3ms/step - loss: 69.8521 - val_loss: 40.1184\n",
      "Epoch 64/100\n",
      "34/34 [==============================] - 0s 3ms/step - loss: 69.2487 - val_loss: 39.7381\n",
      "Epoch 65/100\n",
      "34/34 [==============================] - 0s 3ms/step - loss: 69.2340 - val_loss: 39.7171\n",
      "Epoch 66/100\n",
      "34/34 [==============================] - 0s 2ms/step - loss: 69.8772 - val_loss: 39.9291\n",
      "Epoch 67/100\n",
      "34/34 [==============================] - 0s 2ms/step - loss: 68.6333 - val_loss: 39.7439\n",
      "Epoch 68/100\n",
      "34/34 [==============================] - 0s 3ms/step - loss: 69.5511 - val_loss: 39.6078\n",
      "Epoch 69/100\n",
      "34/34 [==============================] - 0s 3ms/step - loss: 69.6414 - val_loss: 39.0953\n",
      "Epoch 70/100\n",
      "34/34 [==============================] - 0s 3ms/step - loss: 68.9389 - val_loss: 39.3120\n",
      "Epoch 71/100\n",
      "34/34 [==============================] - 0s 3ms/step - loss: 69.2572 - val_loss: 40.6571\n",
      "Epoch 72/100\n",
      "34/34 [==============================] - 0s 3ms/step - loss: 69.4652 - val_loss: 40.0826\n",
      "Epoch 73/100\n",
      "34/34 [==============================] - 0s 3ms/step - loss: 68.2171 - val_loss: 39.5743\n",
      "Epoch 74/100\n",
      "34/34 [==============================] - 0s 3ms/step - loss: 67.9651 - val_loss: 39.6796\n",
      "Epoch 75/100\n",
      "34/34 [==============================] - 0s 3ms/step - loss: 68.0013 - val_loss: 39.7300\n",
      "Epoch 76/100\n",
      "34/34 [==============================] - 0s 3ms/step - loss: 69.3055 - val_loss: 39.5288\n",
      "Epoch 77/100\n",
      "34/34 [==============================] - 0s 3ms/step - loss: 70.5519 - val_loss: 39.4525\n",
      "Epoch 78/100\n",
      "34/34 [==============================] - 0s 3ms/step - loss: 70.3480 - val_loss: 40.1024\n",
      "Epoch 79/100\n",
      "34/34 [==============================] - 0s 3ms/step - loss: 71.0352 - val_loss: 39.2697\n",
      "Epoch 80/100\n",
      "34/34 [==============================] - 0s 3ms/step - loss: 71.3432 - val_loss: 40.6355\n",
      "Epoch 81/100\n",
      "34/34 [==============================] - 0s 3ms/step - loss: 68.3563 - val_loss: 40.0848\n",
      "Epoch 82/100\n",
      "34/34 [==============================] - 0s 3ms/step - loss: 68.6114 - val_loss: 39.6336\n",
      "Epoch 83/100\n",
      "34/34 [==============================] - 0s 3ms/step - loss: 67.1632 - val_loss: 39.4662\n",
      "Epoch 84/100\n",
      "34/34 [==============================] - 0s 2ms/step - loss: 69.6582 - val_loss: 39.6729\n",
      "Epoch 85/100\n",
      "34/34 [==============================] - 0s 3ms/step - loss: 70.3406 - val_loss: 40.1582\n",
      "Epoch 86/100\n",
      "34/34 [==============================] - 0s 2ms/step - loss: 69.3702 - val_loss: 39.4396\n",
      "Epoch 87/100\n",
      "34/34 [==============================] - 0s 2ms/step - loss: 68.6090 - val_loss: 40.2747\n",
      "Epoch 88/100\n",
      "34/34 [==============================] - 0s 3ms/step - loss: 69.4194 - val_loss: 39.8261\n",
      "Epoch 89/100\n",
      "34/34 [==============================] - 0s 3ms/step - loss: 67.7759 - val_loss: 39.9494\n",
      "Epoch 90/100\n",
      "34/34 [==============================] - 0s 3ms/step - loss: 68.0532 - val_loss: 39.9746\n",
      "Epoch 91/100\n",
      "34/34 [==============================] - 0s 3ms/step - loss: 67.9243 - val_loss: 39.2497\n",
      "Epoch 92/100\n",
      "34/34 [==============================] - 0s 3ms/step - loss: 70.2427 - val_loss: 39.9702\n",
      "Epoch 93/100\n",
      "34/34 [==============================] - 0s 3ms/step - loss: 70.0663 - val_loss: 39.8586\n",
      "Epoch 94/100\n",
      "34/34 [==============================] - 0s 3ms/step - loss: 67.6916 - val_loss: 39.6061\n",
      "Epoch 95/100\n",
      "34/34 [==============================] - 0s 3ms/step - loss: 70.2192 - val_loss: 39.8098\n",
      "Epoch 96/100\n",
      "34/34 [==============================] - 0s 3ms/step - loss: 71.0324 - val_loss: 39.6129\n",
      "Epoch 97/100\n",
      "34/34 [==============================] - 0s 3ms/step - loss: 69.2874 - val_loss: 39.7441\n",
      "Epoch 98/100\n",
      "34/34 [==============================] - 0s 3ms/step - loss: 68.6533 - val_loss: 39.6929\n",
      "Epoch 99/100\n",
      "34/34 [==============================] - 0s 3ms/step - loss: 69.8264 - val_loss: 39.8746\n",
      "Epoch 100/100\n",
      "34/34 [==============================] - 0s 3ms/step - loss: 68.7175 - val_loss: 39.3791\n"
     ]
    }
   ],
   "metadata": {}
  },
  {
   "cell_type": "code",
   "execution_count": 63,
   "source": [
    "def plot_history(history):\r\n",
    "    plt.figure(figsize=(10,4))\r\n",
    "    for key in history.history:\r\n",
    "        plt.plot(history.history[key], label = key)\r\n",
    "    plt.legend()\r\n",
    "    plt.show()"
   ],
   "outputs": [],
   "metadata": {}
  },
  {
   "cell_type": "code",
   "execution_count": 64,
   "source": [
    "plot_history(history)"
   ],
   "outputs": [
    {
     "output_type": "display_data",
     "data": {
      "text/plain": [
       "<Figure size 720x288 with 1 Axes>"
      ],
      "image/png": "[encoded data removed]"
     },
     "metadata": {
      "needs_background": "light"
     }
    }
   ],
   "metadata": {}
  },
  {
   "cell_type": "code",
   "execution_count": 65,
   "source": [
    "\"min_loss: %.4f, min_val_loss: %.4f\" % (min(history.history['loss']), min(history.history['val_loss']))"
   ],
   "outputs": [
    {
     "output_type": "execute_result",
     "data": {
      "text/plain": [
       "'min_loss: 67.1632, min_val_loss: 39.0908'"
      ]
     },
     "metadata": {},
     "execution_count": 65
    }
   ],
   "metadata": {}
  },
  {
   "cell_type": "markdown",
   "source": [
    "### Comparing with Previous Methods\r\n",
    "\r\n",
    "| Model | Train Error | Test Error | All Set Error |\r\n",
    "| - | - | - | - |\r\n",
    "| Base | - | - | 78.8 |\r\n",
    "| Random Forest | 23.9 | 47.0 | - |\r\n",
    "| LGBM | - | 48.7 | - |\r\n",
    "| TF Custom RNN | - | - | 70.7 |\r\n",
    "| Keras, PP + Fully Connected (with one dropout layer) | 21.7 | 37.8 | - |\r\n",
    "| Keras, PP + Fully Connected (with two dropout layers) | 25.3 | 36.9 | - |\r\n",
    "| Keras, RNN + Fully Connected (Baseline) | 67.2 | 39.1 | - |\r\n",
    "\r\n",
    "I am not sure about the cause of the high training error in the base model."
   ],
   "metadata": {}
  },
  {
   "cell_type": "markdown",
   "source": [],
   "metadata": {}
  }
 ],
 "metadata": {
  "orig_nbformat": 4,
  "language_info": {
   "name": "python"
  }
 },
 "nbformat": 4,
 "nbformat_minor": 2
}