{
 "cells": [
  {
   "cell_type": "markdown",
   "source": [
    "# TabTransformer Testing\r\n",
    "\r\n",
    "In this notebook, I will use the TabTransformer model with more than 500 atm data."
   ],
   "metadata": {}
  },
  {
   "cell_type": "code",
   "execution_count": 1,
   "source": [
    "import matplotlib.pyplot as plt\r\n",
    "\r\n",
    "sys.path.append(r'../atm_demand')\r\n",
    "from feature_generation import *\r\n",
    "from models import *\r\n",
    "from forecasting import nmae_error\r\n",
    "\r\n",
    "import pandas as pd\r\n",
    "import tensorflow as tf\r\n",
    "from sklearn.cluster import KMeans\r\n",
    "from sklearn.model_selection import train_test_split"
   ],
   "outputs": [],
   "metadata": {}
  },
  {
   "cell_type": "code",
   "execution_count": 2,
   "source": [
    "df = pd.read_csv(\"../atm_demand/DATA_sample_atm.csv\")\r\n",
    "all_atms_feature_set = get_all_atms_feature_set(df, first_n = 500)\r\n",
    "\r\n",
    "all_atms_feature_set = add_cluster_features(all_atms_feature_set,\r\n",
    "    [('Day_of_the_Week_Index', 10),\r\n",
    "    ('Special_Lunar_Dates_Index', 9),\r\n",
    "    ('Month_of_the_Year_Index', 10)],\r\n",
    "    'CashIn', KMeans)\r\n",
    "    \r\n",
    "all_atms_feature_set.sort_index(inplace = True)"
   ],
   "outputs": [],
   "metadata": {}
  },
  {
   "cell_type": "code",
   "execution_count": 3,
   "source": [
    "categorical_features = [cat for cat in all_atms_feature_set.select_dtypes(include=['int8', 'int64'])\r\n",
    "    if cat not in ['AtmId', 'Day_Index_0', 'Day_Index_1', 'Day_Index_2',\r\n",
    "    'Day_Index_3', 'Day_Index_4', 'Day_Index_5', 'Day_Index_6', 'Is_Weekend',\r\n",
    "    'curr_month_1_delta', 'curr_month_15_delta', 'next_month_1_delta',\r\n",
    "    'is_ramazan', 'ramazan_in_7_days', 'is_kurban', 'kurban_in_7_days',\r\n",
    "    'is_cocuk_bayrami', 'is_isci_bayrami', 'is_spor_bayrami',\r\n",
    "    'is_zafer_bayrami', 'is_cumhuriyet_bayrami']]\r\n",
    "continuous_features = [cont for cont in all_atms_feature_set.select_dtypes(include='float64')\r\n",
    "    if cont not in ['CashIn', 'CashOut']]\r\n",
    "\r\n",
    "groups = [continuous_features]\r\n",
    "groups.extend(categorical_features)\r\n",
    "\r\n",
    "TARGET = 'CashIn'\r\n",
    "X_train, X_test, y_train, y_test = train_test_split(all_atms_feature_set[all_atms_feature_set.columns[2:]], all_atms_feature_set[TARGET])\r\n",
    "\r\n",
    "train_inputs = get_input_sets(X_train, groups)\r\n",
    "test_inputs  = get_input_sets(X_test, groups)"
   ],
   "outputs": [],
   "metadata": {}
  },
  {
   "cell_type": "code",
   "execution_count": 4,
   "source": [
    "tabTransforer = TabTransformer(\r\n",
    "    categories = [len(all_atms_feature_set[categorical].unique()) for categorical in categorical_features],\r\n",
    "    num_continuous = len(continuous_features),\r\n",
    "    dim = 16,\r\n",
    "    dim_out = 1,\r\n",
    "    depth = 6,\r\n",
    "    heads = 8,\r\n",
    "    attn_dropout = 0.1,\r\n",
    "    ff_dropout = 0.1,\r\n",
    "    mlp_hidden = [(128, 'relu'), (64, 'relu'), (16, 'relu')]\r\n",
    ")"
   ],
   "outputs": [],
   "metadata": {}
  },
  {
   "cell_type": "code",
   "execution_count": 5,
   "source": [
    "tabTransforer.compile(\r\n",
    "    optimizer=tf.optimizers.Adam(learning_rate=0.05),\r\n",
    "    loss='mse')"
   ],
   "outputs": [],
   "metadata": {}
  },
  {
   "cell_type": "code",
   "execution_count": 6,
   "source": [
    "history = tabTransforer.fit(train_inputs, \r\n",
    "            y_train,\r\n",
    "            batch_size=1024,\r\n",
    "            epochs=30,\r\n",
    "            validation_data=(test_inputs, y_test),\r\n",
    "            verbose = 1)"
   ],
   "outputs": [
    {
     "output_type": "stream",
     "name": "stdout",
     "text": [
      "Epoch 1/30\n",
      "526/526 [==============================] - 332s 603ms/step - loss: 1534249103.0588 - val_loss: 1180657152.0000\n",
      "Epoch 2/30\n",
      "526/526 [==============================] - 316s 600ms/step - loss: 1168888910.4516 - val_loss: 1141466368.0000\n",
      "Epoch 3/30\n",
      "526/526 [==============================] - 323s 615ms/step - loss: 1135856559.3624 - val_loss: 1127561216.0000\n",
      "Epoch 4/30\n",
      "526/526 [==============================] - 343s 653ms/step - loss: 1113505660.3567 - val_loss: 1110916608.0000\n",
      "Epoch 5/30\n",
      "526/526 [==============================] - 333s 634ms/step - loss: 1111781500.2353 - val_loss: 1097115008.0000\n",
      "Epoch 6/30\n",
      "526/526 [==============================] - 342s 650ms/step - loss: 1089926421.0095 - val_loss: 1097933312.0000\n",
      "Epoch 7/30\n",
      "526/526 [==============================] - 340s 647ms/step - loss: 1081784464.1518 - val_loss: 1078997888.0000\n",
      "Epoch 8/30\n",
      "526/526 [==============================] - 333s 633ms/step - loss: 1075913470.0569 - val_loss: 1093810432.0000\n",
      "Epoch 9/30\n",
      "526/526 [==============================] - 335s 638ms/step - loss: 1071685259.2941 - val_loss: 1073675328.0000\n",
      "Epoch 10/30\n",
      "526/526 [==============================] - 324s 616ms/step - loss: 1059608999.2258 - val_loss: 1069994880.0000\n",
      "Epoch 11/30\n",
      "526/526 [==============================] - 337s 640ms/step - loss: 1065094112.7894 - val_loss: 1063949312.0000\n",
      "Epoch 12/30\n",
      "526/526 [==============================] - 342s 651ms/step - loss: 1055699222.3454 - val_loss: 1058928064.0000\n",
      "Epoch 13/30\n",
      "526/526 [==============================] - 319s 606ms/step - loss: 1054002069.9810 - val_loss: 1055567680.0000\n",
      "Epoch 14/30\n",
      "526/526 [==============================] - 312s 594ms/step - loss: 1049865963.1120 - val_loss: 1066067584.0000\n",
      "Epoch 15/30\n",
      "526/526 [==============================] - 296s 563ms/step - loss: 1049118736.8805 - val_loss: 1050541952.0000\n",
      "Epoch 16/30\n",
      "526/526 [==============================] - 296s 563ms/step - loss: 1037662142.7856 - val_loss: 1051355712.0000\n",
      "Epoch 17/30\n",
      "526/526 [==============================] - 316s 600ms/step - loss: 1034567014.0114 - val_loss: 1055241152.0000\n",
      "Epoch 18/30\n",
      "526/526 [==============================] - 329s 625ms/step - loss: 1029729673.1082 - val_loss: 1049864576.0000\n",
      "Epoch 19/30\n",
      "526/526 [==============================] - 344s 655ms/step - loss: 1025776079.9089 - val_loss: 1048711680.0000\n",
      "Epoch 20/30\n",
      "526/526 [==============================] - 328s 624ms/step - loss: 1021134829.7837 - val_loss: 1055228032.0000\n",
      "Epoch 21/30\n",
      "526/526 [==============================] - 306s 581ms/step - loss: 1020851667.0664 - val_loss: 1051727936.0000\n",
      "Epoch 22/30\n",
      "526/526 [==============================] - 341s 648ms/step - loss: 1021182743.5598 - val_loss: 1048175296.0000\n",
      "Epoch 23/30\n",
      "526/526 [==============================] - 345s 657ms/step - loss: 1023801894.1328 - val_loss: 1042924544.0000\n",
      "Epoch 24/30\n",
      "526/526 [==============================] - 404s 767ms/step - loss: 1009556898.8539 - val_loss: 1041746752.0000\n",
      "Epoch 25/30\n",
      "526/526 [==============================] - 301s 572ms/step - loss: 1016724429.2372 - val_loss: 1047752256.0000\n",
      "Epoch 26/30\n",
      "526/526 [==============================] - 297s 566ms/step - loss: 1012070474.0797 - val_loss: 1052300288.0000\n",
      "Epoch 27/30\n",
      "526/526 [==============================] - 298s 566ms/step - loss: 1010800177.1841 - val_loss: 1044426816.0000\n",
      "Epoch 28/30\n",
      "526/526 [==============================] - 298s 566ms/step - loss: 1007971684.6755 - val_loss: 1044371200.0000\n",
      "Epoch 29/30\n",
      "526/526 [==============================] - 301s 572ms/step - loss: 1001335686.6793 - val_loss: 1042183744.0000\n",
      "Epoch 30/30\n",
      "526/526 [==============================] - 301s 572ms/step - loss: 1006441942.9526 - val_loss: 1039678528.0000\n"
     ]
    }
   ],
   "metadata": {}
  },
  {
   "cell_type": "code",
   "execution_count": 7,
   "source": [
    "def plot_history(history):\r\n",
    "    plt.figure(figsize=(10,4))\r\n",
    "    for key in history.history:\r\n",
    "        plt.plot(history.history[key][:], label = key)\r\n",
    "    plt.legend()\r\n",
    "    plt.show()"
   ],
   "outputs": [],
   "metadata": {}
  },
  {
   "cell_type": "code",
   "execution_count": 8,
   "source": [
    "plot_history(history)"
   ],
   "outputs": [
    {
     "output_type": "display_data",
     "data": {
      "text/plain": [
       "<Figure size 720x288 with 1 Axes>"
      ],
      "image/png": "[encoded data removed]"
     },
     "metadata": {
      "needs_background": "light"
     }
    }
   ],
   "metadata": {}
  },
  {
   "cell_type": "code",
   "execution_count": 9,
   "source": [
    "\"Train score: %.4f, test score: %.4f\" % (nmae_error(tabTransforer.predict(train_inputs).reshape(-1), y_train), nmae_error(tabTransforer.predict(test_inputs).reshape(-1), y_test))"
   ],
   "outputs": [
    {
     "output_type": "execute_result",
     "data": {
      "text/plain": [
       "'Train score: 0.3944, test score: 0.4019'"
      ]
     },
     "metadata": {},
     "execution_count": 9
    }
   ],
   "metadata": {}
  },
  {
   "cell_type": "code",
   "execution_count": 10,
   "source": [
    "# Reference: https://www.tensorflow.org/tutorials/keras/save_and_load\r\n",
    "tabTransforer.save_weights('./model/tabTransformer')"
   ],
   "outputs": [],
   "metadata": {}
  }
 ],
 "metadata": {
  "orig_nbformat": 4,
  "language_info": {
   "name": "python",
   "version": "3.7.10",
   "mimetype": "text/x-python",
   "codemirror_mode": {
    "name": "ipython",
    "version": 3
   },
   "pygments_lexer": "ipython3",
   "nbconvert_exporter": "python",
   "file_extension": ".py"
  },
  "kernelspec": {
   "name": "python3",
   "display_name": "Python 3.7.10 64-bit ('tensor': conda)"
  },
  "interpreter": {
   "hash": "dc02d57ed1923bb8fd0c9b2b88bd0911edbe6fbf4ce1beb1b8ef96ccbcd7b0f0"
  }
 },
 "nbformat": 4,
 "nbformat_minor": 2
}