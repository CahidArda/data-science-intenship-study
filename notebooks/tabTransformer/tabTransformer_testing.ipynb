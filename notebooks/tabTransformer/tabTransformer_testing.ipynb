{
 "cells": [
  {
   "cell_type": "markdown",
   "source": [
    "# TabTransformer Testing\r\n",
    "\r\n",
    "In this notebook, I will use the TabTransformer model with more than 500 atm data."
   ],
   "metadata": {}
  },
  {
   "cell_type": "code",
   "execution_count": 36,
   "source": [
    "import matplotlib.pyplot as plt\r\n",
    "\r\n",
    "sys.path.append(r'../atm_demand')\r\n",
    "from feature_generation import *\r\n",
    "from models import *\r\n",
    "from forecasting import nmae_error\r\n",
    "\r\n",
    "import pandas as pd\r\n",
    "import tensorflow as tf\r\n",
    "from sklearn.cluster import KMeans\r\n",
    "from sklearn.model_selection import train_test_split"
   ],
   "outputs": [],
   "metadata": {}
  },
  {
   "cell_type": "code",
   "execution_count": 27,
   "source": [
    "df = pd.read_csv(\"../atm_demand/DATA_sample_atm.csv\")\r\n",
    "all_atms_feature_set = get_all_atms_feature_set(df, first_n = 15)\r\n",
    "\r\n",
    "all_atms_feature_set = add_cluster_features(all_atms_feature_set,\r\n",
    "    [('Day_of_the_Week_Index', 10),\r\n",
    "    ('Special_Lunar_Dates_Index', 9),\r\n",
    "    ('Month_of_the_Year_Index', 10)],\r\n",
    "    'CashIn', KMeans)\r\n",
    "    \r\n",
    "all_atms_feature_set.sort_index(inplace = True)"
   ],
   "outputs": [],
   "metadata": {}
  },
  {
   "cell_type": "code",
   "execution_count": 28,
   "source": [
    "categorical_features = [cat for cat in all_atms_feature_set.select_dtypes(include=['int8', 'int64'])\r\n",
    "    if cat not in ['AtmId', 'Day_Index_0', 'Day_Index_1', 'Day_Index_2',\r\n",
    "    'Day_Index_3', 'Day_Index_4', 'Day_Index_5', 'Day_Index_6', 'Is_Weekend',\r\n",
    "    'curr_month_1_delta', 'curr_month_15_delta', 'next_month_1_delta',\r\n",
    "    'is_ramazan', 'ramazan_in_7_days', 'is_kurban', 'kurban_in_7_days',\r\n",
    "    'is_cocuk_bayrami', 'is_isci_bayrami', 'is_spor_bayrami',\r\n",
    "    'is_zafer_bayrami', 'is_cumhuriyet_bayrami']]\r\n",
    "continuous_features = [cont for cont in all_atms_feature_set.select_dtypes(include='float64')\r\n",
    "    if cont not in ['CashIn', 'CashOut']]\r\n",
    "\r\n",
    "groups = [continuous_features]\r\n",
    "groups.extend(categorical_features)\r\n",
    "\r\n",
    "TARGET = 'CashIn'\r\n",
    "X_train, X_test, y_train, y_test = train_test_split(all_atms_feature_set[all_atms_feature_set.columns[2:]], all_atms_feature_set[TARGET])\r\n",
    "\r\n",
    "train_inputs = get_input_sets(X_train, groups)\r\n",
    "test_inputs  = get_input_sets(X_test, groups)"
   ],
   "outputs": [],
   "metadata": {}
  },
  {
   "cell_type": "code",
   "execution_count": 29,
   "source": [
    "tabTransforer = TabTransformer(\r\n",
    "    categories = [len(all_atms_feature_set[categorical].unique()) for categorical in categorical_features],\r\n",
    "    num_continuous = len(continuous_features),\r\n",
    "    dim = 16,\r\n",
    "    dim_out = 1,\r\n",
    "    depth = 6,\r\n",
    "    heads = 8,\r\n",
    "    attn_dropout = 0.1,\r\n",
    "    ff_dropout = 0.1,\r\n",
    "    mlp_hidden = [(64, 'relu'), (16, 'relu')]\r\n",
    ")"
   ],
   "outputs": [],
   "metadata": {}
  },
  {
   "cell_type": "code",
   "execution_count": 30,
   "source": [
    "tabTransforer.compile(\r\n",
    "    optimizer=tf.optimizers.Adam(learning_rate=0.05),\r\n",
    "    loss='mape')"
   ],
   "outputs": [],
   "metadata": {}
  },
  {
   "cell_type": "code",
   "execution_count": 31,
   "source": [
    "history = tabTransforer.fit(train_inputs, \r\n",
    "            y_train,\r\n",
    "            batch_size=1024,\r\n",
    "            epochs=100,\r\n",
    "            validation_data=(test_inputs, y_test),\r\n",
    "            verbose = 0)"
   ],
   "outputs": [],
   "metadata": {}
  },
  {
   "cell_type": "code",
   "execution_count": 32,
   "source": [
    "def plot_history(history):\r\n",
    "    plt.figure(figsize=(10,4))\r\n",
    "    for key in history.history:\r\n",
    "        plt.plot(history.history[key][:], label = key)\r\n",
    "    plt.legend()\r\n",
    "    plt.show()"
   ],
   "outputs": [],
   "metadata": {}
  },
  {
   "cell_type": "code",
   "execution_count": 33,
   "source": [
    "plot_history(history)"
   ],
   "outputs": [
    {
     "output_type": "display_data",
     "data": {
      "text/plain": [
       "<Figure size 720x288 with 1 Axes>"
      ],
      "image/png": "[encoded data removed]"
     },
     "metadata": {
      "needs_background": "light"
     }
    }
   ],
   "metadata": {}
  },
  {
   "cell_type": "code",
   "execution_count": 34,
   "source": [
    "pred = tabTransforer.predict(train_inputs)\r\n",
    "pred.reshape(-1).shape"
   ],
   "outputs": [
    {
     "output_type": "execute_result",
     "data": {
      "text/plain": [
       "(16344,)"
      ]
     },
     "metadata": {},
     "execution_count": 34
    }
   ],
   "metadata": {}
  },
  {
   "cell_type": "code",
   "execution_count": 35,
   "source": [
    "\"Train score: %.4f, test score: %.4f\" % (nmae_error(tabTransforer.predict(train_inputs).reshape(-1), y_train), nmae_error(tabTransforer.predict(test_inputs).reshape(-1), y_test))"
   ],
   "outputs": [
    {
     "output_type": "execute_result",
     "data": {
      "text/plain": [
       "'Train score: 0.7458, test score: 0.8031'"
      ]
     },
     "metadata": {},
     "execution_count": 35
    }
   ],
   "metadata": {}
  },
  {
   "cell_type": "code",
   "execution_count": null,
   "source": [],
   "outputs": [],
   "metadata": {}
  }
 ],
 "metadata": {
  "orig_nbformat": 4,
  "language_info": {
   "name": "python",
   "version": "3.7.10",
   "mimetype": "text/x-python",
   "codemirror_mode": {
    "name": "ipython",
    "version": 3
   },
   "pygments_lexer": "ipython3",
   "nbconvert_exporter": "python",
   "file_extension": ".py"
  },
  "kernelspec": {
   "name": "python3",
   "display_name": "Python 3.7.10 64-bit ('tensor': conda)"
  },
  "interpreter": {
   "hash": "473b09b14929ec2d62fd15ed2d86bed0025b0356f60f179d534857bf2aca0ec5"
  }
 },
 "nbformat": 4,
 "nbformat_minor": 2
}