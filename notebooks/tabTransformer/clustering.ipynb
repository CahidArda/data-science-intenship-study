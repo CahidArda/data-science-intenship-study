{
 "cells": [
  {
   "cell_type": "markdown",
   "source": [
    "# Clustering ATMs\r\n",
    "\r\n",
    "In this notebook, I will pick n atm ids (n=50) and generate a dataset for clustering."
   ],
   "metadata": {}
  },
  {
   "cell_type": "code",
   "execution_count": 3,
   "source": [
    "sys.path.append(r'../atm_demand')\r\n",
    "from feature_generation import *\r\n",
    "\r\n",
    "import pandas as pd"
   ],
   "outputs": [],
   "metadata": {}
  },
  {
   "cell_type": "code",
   "execution_count": 4,
   "source": [
    "df = pd.read_csv(\"../atm_demand/DATA_sample_atm.csv\")"
   ],
   "outputs": [],
   "metadata": {}
  },
  {
   "cell_type": "code",
   "execution_count": 12,
   "source": [
    "df['AtmId'].value_counts()[:50].index"
   ],
   "outputs": [
    {
     "output_type": "execute_result",
     "data": {
      "text/plain": [
       "Int64Index([ 26637,  27687,  27663,  33817,  33821,  27651,  32785,  33793,\n",
       "             33795,  33796, 119852,  33800,  27664,  27667,  33807,  33850,\n",
       "             33774,  33852,  27711,  33827,  33828,  33830,  27707,  33831,\n",
       "             33833,  27727,  27723,  33879,  27714,  33862,  33809,  33771,\n",
       "             27729,  27570,  27537,  33677,  27539,  33679,  33713,  33714,\n",
       "             27556,  33724,  33726,  27579,  33707,  27568,  33711, 119801,\n",
       "             33766,  33750],\n",
       "           dtype='int64')"
      ]
     },
     "metadata": {},
     "execution_count": 12
    }
   ],
   "metadata": {}
  },
  {
   "cell_type": "code",
   "execution_count": 50,
   "source": [
    "CLUSTER_WITH = 'CashIn'\r\n",
    "\r\n",
    "clustering_df = pd.DataFrame(dtype='float64')\r\n",
    "for atmId in df['AtmId'].value_counts()[:50].index:    \r\n",
    "    atm_df = get_atm(df, atmId)\r\n",
    "    atm_df = atm_df[:-135]\r\n",
    "    atm_df = clean_data(atm_df, drop_zeros=True)\r\n",
    "\r\n",
    "    day_of_the_week_index = get_day_of_the_week_index(atm_df.index)\r\n",
    "\r\n",
    "    for i in range(7):\r\n",
    "        clustering_df.loc[atmId, i] = atm_df.loc[day_of_the_week_index[day_of_the_week_index == i].index].mean()[CLUSTER_WITH]\r\n",
    "\r\n",
    "clustering_df[:5]"
   ],
   "outputs": [
    {
     "output_type": "execute_result",
     "data": {
      "text/plain": [
       "                   0             1             2             3             4  \\\n",
       "26637  111146.812668  78341.032120  83305.204403  74221.703904  78088.423181   \n",
       "27687   92747.860063  75231.893868  77733.278302  73527.819905  78108.011006   \n",
       "27663   56237.033637  50628.276617  48540.837994  47409.460900  49630.867981   \n",
       "33817   38820.500000  32693.443134  31575.841195  30866.432333  32683.692348   \n",
       "33821   41778.188455  37382.713949  35380.874663  34050.227488  35604.204739   \n",
       "\n",
       "                  5             6  \n",
       "26637  55970.126909  43084.605795  \n",
       "27687  54080.877358  42983.032233  \n",
       "27663  36993.454908  25155.914477  \n",
       "33817  33929.042453  33271.739256  \n",
       "33821  33213.088724  31895.938904  "
      ],
      "text/html": [
       "<div>\n",
       "<style scoped>\n",
       "    .dataframe tbody tr th:only-of-type {\n",
       "        vertical-align: middle;\n",
       "    }\n",
       "\n",
       "    .dataframe tbody tr th {\n",
       "        vertical-align: top;\n",
       "    }\n",
       "\n",
       "    .dataframe thead th {\n",
       "        text-align: right;\n",
       "    }\n",
       "</style>\n",
       "<table border=\"1\" class=\"dataframe\">\n",
       "  <thead>\n",
       "    <tr style=\"text-align: right;\">\n",
       "      <th></th>\n",
       "      <th>0</th>\n",
       "      <th>1</th>\n",
       "      <th>2</th>\n",
       "      <th>3</th>\n",
       "      <th>4</th>\n",
       "      <th>5</th>\n",
       "      <th>6</th>\n",
       "    </tr>\n",
       "  </thead>\n",
       "  <tbody>\n",
       "    <tr>\n",
       "      <th>26637</th>\n",
       "      <td>111146.812668</td>\n",
       "      <td>78341.032120</td>\n",
       "      <td>83305.204403</td>\n",
       "      <td>74221.703904</td>\n",
       "      <td>78088.423181</td>\n",
       "      <td>55970.126909</td>\n",
       "      <td>43084.605795</td>\n",
       "    </tr>\n",
       "    <tr>\n",
       "      <th>27687</th>\n",
       "      <td>92747.860063</td>\n",
       "      <td>75231.893868</td>\n",
       "      <td>77733.278302</td>\n",
       "      <td>73527.819905</td>\n",
       "      <td>78108.011006</td>\n",
       "      <td>54080.877358</td>\n",
       "      <td>42983.032233</td>\n",
       "    </tr>\n",
       "    <tr>\n",
       "      <th>27663</th>\n",
       "      <td>56237.033637</td>\n",
       "      <td>50628.276617</td>\n",
       "      <td>48540.837994</td>\n",
       "      <td>47409.460900</td>\n",
       "      <td>49630.867981</td>\n",
       "      <td>36993.454908</td>\n",
       "      <td>25155.914477</td>\n",
       "    </tr>\n",
       "    <tr>\n",
       "      <th>33817</th>\n",
       "      <td>38820.500000</td>\n",
       "      <td>32693.443134</td>\n",
       "      <td>31575.841195</td>\n",
       "      <td>30866.432333</td>\n",
       "      <td>32683.692348</td>\n",
       "      <td>33929.042453</td>\n",
       "      <td>33271.739256</td>\n",
       "    </tr>\n",
       "    <tr>\n",
       "      <th>33821</th>\n",
       "      <td>41778.188455</td>\n",
       "      <td>37382.713949</td>\n",
       "      <td>35380.874663</td>\n",
       "      <td>34050.227488</td>\n",
       "      <td>35604.204739</td>\n",
       "      <td>33213.088724</td>\n",
       "      <td>31895.938904</td>\n",
       "    </tr>\n",
       "  </tbody>\n",
       "</table>\n",
       "</div>"
      ]
     },
     "metadata": {},
     "execution_count": 50
    }
   ],
   "metadata": {}
  },
  {
   "cell_type": "code",
   "execution_count": null,
   "source": [],
   "outputs": [],
   "metadata": {}
  }
 ],
 "metadata": {
  "orig_nbformat": 4,
  "language_info": {
   "name": "python",
   "version": "3.7.10",
   "mimetype": "text/x-python",
   "codemirror_mode": {
    "name": "ipython",
    "version": 3
   },
   "pygments_lexer": "ipython3",
   "nbconvert_exporter": "python",
   "file_extension": ".py"
  },
  "kernelspec": {
   "name": "python3",
   "display_name": "Python 3.7.10 64-bit ('tensor': conda)"
  },
  "interpreter": {
   "hash": "dc02d57ed1923bb8fd0c9b2b88bd0911edbe6fbf4ce1beb1b8ef96ccbcd7b0f0"
  }
 },
 "nbformat": 4,
 "nbformat_minor": 2
}