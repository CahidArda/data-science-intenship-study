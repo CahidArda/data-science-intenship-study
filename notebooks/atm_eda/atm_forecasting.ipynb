{
 "cells": [
  {
   "cell_type": "markdown",
   "metadata": {},
   "source": [
    "# Forecasting"
   ]
  },
  {
   "cell_type": "code",
   "execution_count": 13,
   "metadata": {},
   "outputs": [],
   "source": [
    "from feature_generation import *\r\n",
    "\r\n",
    "import pandas as pd"
   ]
  },
  {
   "cell_type": "code",
   "execution_count": 14,
   "metadata": {},
   "outputs": [],
   "source": [
    "df = pd.read_csv(\"DATA_sample_atm.csv\")\r\n",
    "means = df.groupby(\"HistoryDate\").mean()[['CashIn','CashOut']]\r\n",
    "means = means[:-135]\r\n",
    "means = clean_data(means)"
   ]
  },
  {
   "cell_type": "code",
   "execution_count": 15,
   "metadata": {},
   "outputs": [],
   "source": [
    "feature_set = get_feature_sets(means, ['CashIn', 'CashOut'])"
   ]
  },
  {
   "cell_type": "markdown",
   "metadata": {},
   "source": [
    "## Calculating Error\r\n",
    "\r\n",
    "Common way of calculating error in timeseries forecasting is [MAPE](https://en.wikipedia.org/wiki/Mean_absolute_percentage_error)"
   ]
  },
  {
   "cell_type": "code",
   "execution_count": 22,
   "metadata": {},
   "outputs": [],
   "source": [
    "def mape_error(y_actual, y_pred):\r\n",
    "    return 100 * ((y_actual - y_pred).abs() / y_actual).mean()"
   ]
  },
  {
   "cell_type": "markdown",
   "metadata": {},
   "source": [
    "## Base Error\r\n",
    "\r\n",
    "To evaluate our models and see if they are useful, we need a base error to compare them with. One way of doing this is to use shifted data as predictions."
   ]
  },
  {
   "cell_type": "code",
   "execution_count": 34,
   "metadata": {},
   "outputs": [],
   "source": [
    "base_errors = pd.DataFrame(columns=['CashIn_Error', 'CashOut_Error'])\r\n",
    "for target in ['CashIn', 'CashOut']:\r\n",
    "    windows = get_windows(means[target], 21, drop_t=False)\r\n",
    "    for column in windows.columns[1:]:\r\n",
    "        base_errors.loc[column, target + '_Error'] = mape_error(windows['t'], windows[column])"
   ]
  },
  {
   "cell_type": "code",
   "execution_count": 37,
   "metadata": {},
   "outputs": [
    {
     "data": {
      "text/html": [
       "<div>\n",
       "<style scoped>\n",
       "    .dataframe tbody tr th:only-of-type {\n",
       "        vertical-align: middle;\n",
       "    }\n",
       "\n",
       "    .dataframe tbody tr th {\n",
       "        vertical-align: top;\n",
       "    }\n",
       "\n",
       "    .dataframe thead th {\n",
       "        text-align: right;\n",
       "    }\n",
       "</style>\n",
       "<table border=\"1\" class=\"dataframe\">\n",
       "  <thead>\n",
       "    <tr style=\"text-align: right;\">\n",
       "      <th></th>\n",
       "      <th>CashIn_Error</th>\n",
       "      <th>CashOut_Error</th>\n",
       "    </tr>\n",
       "  </thead>\n",
       "  <tbody>\n",
       "    <tr>\n",
       "      <th>t-14</th>\n",
       "      <td>14.631056</td>\n",
       "      <td>35.001829</td>\n",
       "    </tr>\n",
       "    <tr>\n",
       "      <th>t-21</th>\n",
       "      <td>14.640567</td>\n",
       "      <td>33.055544</td>\n",
       "    </tr>\n",
       "    <tr>\n",
       "      <th>t-7</th>\n",
       "      <td>16.436717</td>\n",
       "      <td>30.902763</td>\n",
       "    </tr>\n",
       "  </tbody>\n",
       "</table>\n",
       "</div>"
      ],
      "text/plain": [
       "     CashIn_Error CashOut_Error\n",
       "t-14    14.631056     35.001829\n",
       "t-21    14.640567     33.055544\n",
       "t-7     16.436717     30.902763"
      ]
     },
     "execution_count": 37,
     "metadata": {},
     "output_type": "execute_result"
    }
   ],
   "source": [
    "base_errors.sort_values(by='CashIn_Error')[:3]"
   ]
  },
  {
   "cell_type": "code",
   "execution_count": 38,
   "metadata": {},
   "outputs": [
    {
     "data": {
      "text/html": [
       "<div>\n",
       "<style scoped>\n",
       "    .dataframe tbody tr th:only-of-type {\n",
       "        vertical-align: middle;\n",
       "    }\n",
       "\n",
       "    .dataframe tbody tr th {\n",
       "        vertical-align: top;\n",
       "    }\n",
       "\n",
       "    .dataframe thead th {\n",
       "        text-align: right;\n",
       "    }\n",
       "</style>\n",
       "<table border=\"1\" class=\"dataframe\">\n",
       "  <thead>\n",
       "    <tr style=\"text-align: right;\">\n",
       "      <th></th>\n",
       "      <th>CashIn_Error</th>\n",
       "      <th>CashOut_Error</th>\n",
       "    </tr>\n",
       "  </thead>\n",
       "  <tbody>\n",
       "    <tr>\n",
       "      <th>t-1</th>\n",
       "      <td>30.247342</td>\n",
       "      <td>29.27443</td>\n",
       "    </tr>\n",
       "    <tr>\n",
       "      <th>t-7</th>\n",
       "      <td>16.436717</td>\n",
       "      <td>30.902763</td>\n",
       "    </tr>\n",
       "    <tr>\n",
       "      <th>t-21</th>\n",
       "      <td>14.640567</td>\n",
       "      <td>33.055544</td>\n",
       "    </tr>\n",
       "  </tbody>\n",
       "</table>\n",
       "</div>"
      ],
      "text/plain": [
       "     CashIn_Error CashOut_Error\n",
       "t-1     30.247342      29.27443\n",
       "t-7     16.436717     30.902763\n",
       "t-21    14.640567     33.055544"
      ]
     },
     "execution_count": 38,
     "metadata": {},
     "output_type": "execute_result"
    }
   ],
   "source": [
    "base_errors.sort_values(by='CashOut_Error')[:3]"
   ]
  },
  {
   "cell_type": "markdown",
   "metadata": {},
   "source": [
    "### Base errors:\r\n",
    "* CashIn: 14.63\r\n",
    "* CashOut: 29.27"
   ]
  },
  {
   "cell_type": "markdown",
   "metadata": {},
   "source": [
    "## Forecasting\r\n",
    "\r\n",
    "### Models to try:\r\n",
    "* Random forest\r\n",
    "* Lightgbm\r\n",
    "* Catboost"
   ]
  }
 ],
 "metadata": {
  "interpreter": {
   "hash": "0629bd080de1f53ea50476dbd8cc56d3983c9bdad0b8108ccecf6ae4f5d221f8"
  },
  "kernelspec": {
   "display_name": "Python 3.7.10 64-bit ('arute': conda)",
   "name": "python3"
  },
  "language_info": {
   "codemirror_mode": {
    "name": "ipython",
    "version": 3
   },
   "file_extension": ".py",
   "mimetype": "text/x-python",
   "name": "python",
   "nbconvert_exporter": "python",
   "pygments_lexer": "ipython3",
   "version": "3.7.10"
  },
  "orig_nbformat": 4
 },
 "nbformat": 4,
 "nbformat_minor": 2
}