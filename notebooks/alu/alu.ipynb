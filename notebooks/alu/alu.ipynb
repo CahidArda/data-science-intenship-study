{
 "cells": [
  {
   "cell_type": "code",
   "execution_count": 15,
   "metadata": {},
   "outputs": [],
   "source": [
    "# Ignore warnings\r\n",
    "import os\r\n",
    "#os.environ['TF_CPP_MIN_LOG_LEVEL'] = '2'\r\n",
    "\r\n",
    "import tensorflow as tf\r\n",
    "import numpy as np"
   ]
  },
  {
   "cell_type": "markdown",
   "metadata": {},
   "source": [
    "In this notebook, I wanted to do something I had in my mind for a while using tensorflow. In a CMPE course, we learned a unit called ALU, the Arithmetic Logic Unit.\r\n",
    "\r\n",
    "ALU takes 2 numbers (in 8 bit format), and has many control inputs. For instance, control inputs can be add, shift, sub. Depending on which of these controls are high, ALU performns and arithmetic operation on the 8 bit inputs.\r\n",
    "\r\n",
    "I wanted to see if I can train a layer that resembles an ALU with 4 variables: add, sub, mul, div.\r\n",
    "\r\n",
    "Layer was not as succesful as I hoped."
   ]
  },
  {
   "cell_type": "code",
   "execution_count": 16,
   "metadata": {},
   "outputs": [],
   "source": [
    "class ALU(tf.Module):\r\n",
    "    \r\n",
    "    def __init__(self, random=True, **kwargs):\r\n",
    "        super().__init__(**kwargs)\r\n",
    "\r\n",
    "        if random:\r\n",
    "            self.add = tf.Variable(tf.random.normal([1,], dtype = tf.dtypes.float64))\r\n",
    "            self.sub = tf.Variable(tf.random.normal([1,], dtype = tf.dtypes.float64))\r\n",
    "            self.mul = tf.Variable(tf.random.normal([1,], dtype = tf.dtypes.float64))\r\n",
    "            self.div = tf.Variable(tf.random.normal([1,], dtype = tf.dtypes.float64))\r\n",
    "        else:\r\n",
    "            self.add = tf.Variable(1, dtype=tf.dtypes.float64)\r\n",
    "            self.sub = tf.Variable(1, dtype=tf.dtypes.float64)\r\n",
    "            self.mul= tf.Variable(1, dtype=tf.dtypes.float64)\r\n",
    "            self.div = tf.Variable(1, dtype=tf.dtypes.float64)\r\n",
    "\r\n",
    "    def __call__(self, x):\r\n",
    "        return self.add * (x[0] + x[1]) + self.sub * (x[0] - x[1]) + self.mul * (x[0] * x[1]) + self.div * (x[0] / x[1])\r\n",
    "\r\n",
    "    def __str__(self):\r\n",
    "        return \"ALU:\\nadd: %.2f\\nsub: %.2f\\nmul: %.2f\\ndiv: %.2f\\n\" % (self.add, self.sub, self.mul, self.div)"
   ]
  },
  {
   "cell_type": "code",
   "execution_count": 17,
   "metadata": {},
   "outputs": [],
   "source": [
    "def loss(target_y, predicted_y):\r\n",
    "    return tf.reduce_mean(tf.square(target_y - predicted_y))"
   ]
  },
  {
   "cell_type": "code",
   "execution_count": 18,
   "metadata": {},
   "outputs": [],
   "source": [
    "def train(model, x, y_actual, learning_rate):\r\n",
    "\r\n",
    "    with tf.GradientTape() as tape:\r\n",
    "        y = model(x)\r\n",
    "        current_loss = loss(y, y_actual)\r\n",
    "\r\n",
    "    d_add, d_sub, d_mul, d_div = tape.gradient(current_loss, [model.add, model.sub, model.mul, model.div])\r\n",
    "\r\n",
    "    model.add.assign_sub(learning_rate * d_add)\r\n",
    "    model.sub.assign_sub(learning_rate * d_sub)\r\n",
    "    model.mul.assign_sub(learning_rate * d_mul)\r\n",
    "    model.div.assign_sub(learning_rate * d_div)"
   ]
  },
  {
   "cell_type": "code",
   "execution_count": 19,
   "metadata": {},
   "outputs": [],
   "source": [
    "# Define a training loop\r\n",
    "def training_loop(model, x, y_actual, epochs, learning_rate, print_every = 1):\r\n",
    "\r\n",
    "    for epoch in range(epochs):\r\n",
    "        # Update the model with the single giant batch\r\n",
    "        train(model, x, y_actual, learning_rate)\r\n",
    "\r\n",
    "        current_loss = loss(y_actual, model(x))\r\n",
    "\r\n",
    "        if epoch%print_every == 0 or epoch == epochs-1:\r\n",
    "            print(\"Epoch %2d: loss=%2.5f\" % (epoch, current_loss))"
   ]
  },
  {
   "cell_type": "code",
   "execution_count": 24,
   "metadata": {},
   "outputs": [
    {
     "name": "stdout",
     "output_type": "stream",
     "text": [
      "Epoch  0: loss=7993.71866\n",
      "Epoch  5: loss=3102.20399\n",
      "Epoch 10: loss=1211.00029\n",
      "Epoch 15: loss=479.79213\n",
      "Epoch 19: loss=234.37269\n"
     ]
    }
   ],
   "source": [
    "model = ALU()\r\n",
    "\r\n",
    "N_PAIRS = 10\r\n",
    "x = np.zeros(shape=(2, N_PAIRS))\r\n",
    "x1 = np.arange(3,3+N_PAIRS)\r\n",
    "x2 = np.arange(5,5+N_PAIRS)\r\n",
    "x[0] = x1\r\n",
    "x[1] = - x2\r\n",
    "\r\n",
    "x = tf.constant(x, dtype=tf.dtypes.float64)\r\n",
    "\r\n",
    "y_actual = tf.constant(x1 + x2, dtype=tf.dtypes.float64)\r\n",
    "\r\n",
    "training_loop(model, x, y_actual, 20, 0.000005, 5)"
   ]
  },
  {
   "cell_type": "code",
   "execution_count": 25,
   "metadata": {},
   "outputs": [
    {
     "name": "stdout",
     "output_type": "stream",
     "text": [
      "ALU:\n",
      "add: -0.52\n",
      "sub: 1.85\n",
      "mul: 0.02\n",
      "div: -0.99\n",
      "\n"
     ]
    }
   ],
   "source": [
    "print(model)"
   ]
  },
  {
   "cell_type": "code",
   "execution_count": 22,
   "metadata": {},
   "outputs": [
    {
     "data": {
      "text/plain": [
       "array([-2.95230657, -1.59436145,  0.55833732,  3.48868127,  7.18716572,\n",
       "       11.64808785, 16.86781858, 22.84393855, 29.5747728 , 37.05912494])"
      ]
     },
     "execution_count": 22,
     "metadata": {},
     "output_type": "execute_result"
    }
   ],
   "source": [
    "model(x).numpy()"
   ]
  },
  {
   "cell_type": "code",
   "execution_count": 23,
   "metadata": {},
   "outputs": [
    {
     "data": {
      "text/plain": [
       "array([ 8., 10., 12., 14., 16., 18., 20., 22., 24., 26.])"
      ]
     },
     "execution_count": 23,
     "metadata": {},
     "output_type": "execute_result"
    }
   ],
   "source": [
    "y_actual.numpy()"
   ]
  },
  {
   "cell_type": "code",
   "execution_count": null,
   "metadata": {},
   "outputs": [],
   "source": []
  }
 ],
 "metadata": {
  "interpreter": {
   "hash": "b9a2fa6aebb00fcc25f8be6ddfa6b5d22a224f2e73446ee983bf394cc469dd9c"
  },
  "kernelspec": {
   "display_name": "Python 3.7.10 64-bit ('arute': conda)",
   "name": "python3"
  },
  "language_info": {
   "codemirror_mode": {
    "name": "ipython",
    "version": 3
   },
   "file_extension": ".py",
   "mimetype": "text/x-python",
   "name": "python",
   "nbconvert_exporter": "python",
   "pygments_lexer": "ipython3",
   "version": "3.7.10"
  },
  "orig_nbformat": 4
 },
 "nbformat": 4,
 "nbformat_minor": 2
}